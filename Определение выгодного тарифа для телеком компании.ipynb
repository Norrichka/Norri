{
 "cells": [
  {
   "cell_type": "markdown",
   "id": "69a775f7",
   "metadata": {},
   "source": [
    "###               Исследование сервиса аренды самокатов GoFast\n",
    "  \n",
    "  Мне передали данные о некоторых пользователях из нескольких городов, а также об их поездках.\n",
    "  \n",
    "  Данные, которые есть в файлах:\n",
    "Чтобы совершать поездки по городу, пользователи сервиса GoFast пользуются мобильным приложением. Сервисом можно пользоваться:\n",
    "без подписки\n",
    "абонентская плата отсутствует;\n",
    "стоимость одной минуты поездки — 8 рублей;\n",
    "стоимость старта (начала поездки) — 50 рублей;\n",
    "с подпиской Ultra абонентская плата — 199 рублей в месяц;\n",
    "стоимость одной минуты поездки — 6 рублей;\n",
    "стоимость старта — бесплатно.\n",
    "Описание данных\n",
    "В основных данных есть информация о пользователях, их поездках и подписках.\n",
    "Пользователи — users_go.csv\n",
    "user_id\tуникальный идентификатор пользователя\n",
    "name\tимя пользователя\n",
    "age\tвозраст\n",
    "city\tгород\n",
    "subscription_type\tтип подписки (free, ultra)\n",
    "Поездки — rides_go.csv\n",
    "user_id\tуникальный идентификатор пользователя\n",
    "distance\tрасстояние, которое пользователь проехал в текущей сессии (в метрах)\n",
    "duration\tпродолжительность сессии (в минутах) — время с того момента, как пользователь нажал кнопку «Начать поездку» до момента, как он нажал кнопку «Завершить поездку»\n",
    "date\tдата совершения поездки\n",
    "Подписки — subscriptions_go.csv\n",
    "subscription_type\tтип подписки\n",
    "minute_price\tстоимость одной минуты поездки по данной подписке\n",
    "start_ride_price\tстоимость начала поездки\n",
    "subscription_fee\tстоимость ежемесячного платежа\n",
    "\n",
    "      **План действий:**\n",
    "Шаг 1. Загрузка данных\n",
    "1.1 Считайте CSV-файлы с данными с помощью библиотеки pandas и сохраните их в датафреймы. Пути к файлам:\n",
    "1.2 Выведите первые строки каждого набора данных. Изучите общую информацию о каждом датафрейме.\n",
    "Шаг 2. Предобработка данных\n",
    "2.1 Приведите столбец date к типу даты pandas.\n",
    "2.2 Создайте новый столбец с номером месяца на основе столбца date.\n",
    "2.3 Проверьте наличие пропущенных значений и дубликатов в датафреймах. Обработайте их, если такие значения присутствуют.\n",
    "Шаг 3. Исследовательский анализ данных\n",
    "Опишите и визуализируйте общую информацию о пользователях и поездках:\n",
    "3.1 частота встречаемости городов;\n",
    "3.2 соотношение пользователей с подпиской и без подписки;\n",
    "3.3 возраст пользователей;\n",
    "3.4 расстояние, которое пользователь преодолел за одну поездку;\n",
    "3.5 продолжительность поездок.\n",
    "Шаг 4. Объединение данных\n",
    "4.1 Объедините данные о пользователях, поездках и подписках в один датафрейм. Для этого воспользуйтесь методом merge().\n",
    "4.2 Создайте ещё два датафрейма из датафрейма, созданного на этапе 4.1:\n",
    "c данными о пользователях без подписки;\n",
    "с данными о пользователях с подпиской.\n",
    "4.3 Визуализируйте информацию о расстоянии и времени поездок для пользователей обеих категорий.\n",
    "Шаг 5. Подсчёт выручки\n",
    "5.1 Создайте датафрейм с агрегированными данными о поездках на основе датафрейма с объединёнными данными из шага 4: найдите суммарное расстояние, количество поездок и суммарное время для каждого пользователя за каждый месяц.\n",
    "5.2 В этот же датафрейм добавьте столбец с помесячной выручкой, которую принёс каждый пользователь. Для этого обратитесь к информации об условиях оплаты для подписчиков и тех, у кого нет подписки. Продолжительность каждой поездки в каждой строке исходного датафрейма для подсчёта стоимости округляется до следующего целого числа: например, значения 25.5 и 26.0 должны быть преобразованы к 26.\n",
    "Шаг 6. Проверка гипотез\n",
    "Продакт-менеджеры сервиса хотят увеличить количество пользователей с подпиской. Для этого они будут проводить различные акции, но сначала нужно выяснить несколько важных моментов.\n",
    "6.1 Важно понять, тратят ли пользователи с подпиской больше времени на поездки? Если да, то пользователи с подпиской могут быть «выгоднее» для компании. Проверьте гипотезу. Используйте исходные данные о продолжительности каждой сессии — отдельно для подписчиков и тех, у кого нет подписки.\n",
    "6.2 Расстояние одной поездки в 3130 метров — оптимальное с точки зрения износа самоката. Можно ли сказать, что среднее расстояние, которое проезжают пользователи с подпиской за одну поездку, не превышает 3130 метров? Проверьте гипотезу и сделайте выводы.\n",
    "6.3 Проверьте гипотезу о том, будет ли помесячная выручка от пользователей с подпиской по месяцам выше, чем выручка от пользователей без подписки. Сделайте вывод.\n",
    "6.4 Представьте такую ситуацию: техническая команда сервиса обновила сервера, с которыми взаимодействует мобильное приложение. Она надеется, что из-за этого количество обращений в техподдержку значимо снизилось. Некоторый файл содержит для каждого пользователя данные о количестве обращений до обновления и после него. Какой тест вам понадобился бы для проверки этой гипотезы?\n",
    "Шаг 7 (необязательное задание). Распределения\n",
    "7.1 Отделу маркетинга GoFast поставили задачу: нужно провести акцию с раздачей промокодов на один бесплатный месяц подписки, в рамках которой как минимум 100 существующих клиентов должны продлить эту подписку. То есть по завершении периода действия подписки пользователь может либо отказаться от неё, либо продлить, совершив соответствующий платёж. \n",
    "Эта акция уже проводилась ранее и по итогу выяснилось, что после бесплатного пробного периода подписку продлевают 10 % пользователей. Выясните, какое минимальное количество промокодов нужно разослать, чтобы вероятность не выполнить план была примерно 5 %. Подберите параметры распределения, описывающего эту ситуацию, постройте график распределения и сформулируйте ответ на вопрос о количестве промокодов.\n",
    "7.2 Отдел маркетинга рассылает клиентам push-уведомления в мобильном приложении. Клиенты могут открыть его или не открывать. Известно, что уведомления открывают около 40 % получивших клиентов. Отдел планирует разослать 1 млн уведомлений. С помощью аппроксимации постройте примерный график распределения и оцените вероятность того, что уведомление откроют не более 399,5 тыс. пользователей.\n",
    "\n",
    "   Проанализируем данные и проверим некоторые гипотезы, которые могут помочь бизнесу вырасти."
   ]
  },
  {
   "cell_type": "code",
   "execution_count": 1,
   "id": "14a916b3",
   "metadata": {},
   "outputs": [],
   "source": [
    "import pandas as pd# импортируйте библиотеку pandas\n",
    "import warnings\n",
    "warnings.filterwarnings('ignore')\n",
    "import matplotlib.pyplot as plt\n",
    "pd.set_option('display.max_columns', 50) \n",
    "import math \n",
    "import matplotlib.pyplot as plt\n",
    "import scipy.stats as st\n",
    "from scipy.stats import binom\n",
    "import numpy as np\n",
    "from scipy.stats import f_oneway"
   ]
  },
  {
   "cell_type": "markdown",
   "id": "7f4793d2",
   "metadata": {},
   "source": [
    "#### Шаг 1. Загрузка данных"
   ]
  },
  {
   "cell_type": "code",
   "execution_count": 2,
   "id": "5b84c613",
   "metadata": {},
   "outputs": [],
   "source": [
    "data = pd.read_csv('/datasets/users_go.csv', sep=',')\n",
    "data2 = pd.read_csv('/datasets/rides_go.csv', sep=',')\n",
    "data3 = pd.read_csv('/datasets/subscriptions_go.csv', sep=',')"
   ]
  },
  {
   "cell_type": "markdown",
   "id": "8d765cb5",
   "metadata": {},
   "source": [
    "Выведим первые строки каждого набора данных. Изучим общую информацию о каждом датафрейме."
   ]
  },
  {
   "cell_type": "code",
   "execution_count": 3,
   "id": "4e262def",
   "metadata": {},
   "outputs": [
    {
     "data": {
      "text/html": [
       "<div>\n",
       "<style scoped>\n",
       "    .dataframe tbody tr th:only-of-type {\n",
       "        vertical-align: middle;\n",
       "    }\n",
       "\n",
       "    .dataframe tbody tr th {\n",
       "        vertical-align: top;\n",
       "    }\n",
       "\n",
       "    .dataframe thead th {\n",
       "        text-align: right;\n",
       "    }\n",
       "</style>\n",
       "<table border=\"1\" class=\"dataframe\">\n",
       "  <thead>\n",
       "    <tr style=\"text-align: right;\">\n",
       "      <th></th>\n",
       "      <th>user_id</th>\n",
       "      <th>name</th>\n",
       "      <th>age</th>\n",
       "      <th>city</th>\n",
       "      <th>subscription_type</th>\n",
       "    </tr>\n",
       "  </thead>\n",
       "  <tbody>\n",
       "    <tr>\n",
       "      <th>0</th>\n",
       "      <td>1</td>\n",
       "      <td>Кира</td>\n",
       "      <td>22</td>\n",
       "      <td>Тюмень</td>\n",
       "      <td>ultra</td>\n",
       "    </tr>\n",
       "    <tr>\n",
       "      <th>1</th>\n",
       "      <td>2</td>\n",
       "      <td>Станислав</td>\n",
       "      <td>31</td>\n",
       "      <td>Омск</td>\n",
       "      <td>ultra</td>\n",
       "    </tr>\n",
       "    <tr>\n",
       "      <th>2</th>\n",
       "      <td>3</td>\n",
       "      <td>Алексей</td>\n",
       "      <td>20</td>\n",
       "      <td>Москва</td>\n",
       "      <td>ultra</td>\n",
       "    </tr>\n",
       "    <tr>\n",
       "      <th>3</th>\n",
       "      <td>4</td>\n",
       "      <td>Константин</td>\n",
       "      <td>26</td>\n",
       "      <td>Ростов-на-Дону</td>\n",
       "      <td>ultra</td>\n",
       "    </tr>\n",
       "    <tr>\n",
       "      <th>4</th>\n",
       "      <td>5</td>\n",
       "      <td>Адель</td>\n",
       "      <td>28</td>\n",
       "      <td>Омск</td>\n",
       "      <td>ultra</td>\n",
       "    </tr>\n",
       "    <tr>\n",
       "      <th>...</th>\n",
       "      <td>...</td>\n",
       "      <td>...</td>\n",
       "      <td>...</td>\n",
       "      <td>...</td>\n",
       "      <td>...</td>\n",
       "    </tr>\n",
       "    <tr>\n",
       "      <th>1560</th>\n",
       "      <td>829</td>\n",
       "      <td>Федор</td>\n",
       "      <td>29</td>\n",
       "      <td>Пятигорск</td>\n",
       "      <td>free</td>\n",
       "    </tr>\n",
       "    <tr>\n",
       "      <th>1561</th>\n",
       "      <td>809</td>\n",
       "      <td>Юрий</td>\n",
       "      <td>26</td>\n",
       "      <td>Сочи</td>\n",
       "      <td>free</td>\n",
       "    </tr>\n",
       "    <tr>\n",
       "      <th>1562</th>\n",
       "      <td>307</td>\n",
       "      <td>Ясмина</td>\n",
       "      <td>19</td>\n",
       "      <td>Краснодар</td>\n",
       "      <td>ultra</td>\n",
       "    </tr>\n",
       "    <tr>\n",
       "      <th>1563</th>\n",
       "      <td>47</td>\n",
       "      <td>Юрий</td>\n",
       "      <td>28</td>\n",
       "      <td>Тюмень</td>\n",
       "      <td>ultra</td>\n",
       "    </tr>\n",
       "    <tr>\n",
       "      <th>1564</th>\n",
       "      <td>1045</td>\n",
       "      <td>Артемий</td>\n",
       "      <td>28</td>\n",
       "      <td>Ростов-на-Дону</td>\n",
       "      <td>free</td>\n",
       "    </tr>\n",
       "  </tbody>\n",
       "</table>\n",
       "<p>1565 rows × 5 columns</p>\n",
       "</div>"
      ],
      "text/plain": [
       "      user_id        name  age            city subscription_type\n",
       "0           1        Кира   22          Тюмень             ultra\n",
       "1           2   Станислав   31            Омск             ultra\n",
       "2           3     Алексей   20          Москва             ultra\n",
       "3           4  Константин   26  Ростов-на-Дону             ultra\n",
       "4           5       Адель   28            Омск             ultra\n",
       "...       ...         ...  ...             ...               ...\n",
       "1560      829       Федор   29       Пятигорск              free\n",
       "1561      809        Юрий   26            Сочи              free\n",
       "1562      307      Ясмина   19       Краснодар             ultra\n",
       "1563       47        Юрий   28          Тюмень             ultra\n",
       "1564     1045     Артемий   28  Ростов-на-Дону              free\n",
       "\n",
       "[1565 rows x 5 columns]"
      ]
     },
     "metadata": {},
     "output_type": "display_data"
    },
    {
     "data": {
      "text/html": [
       "<div>\n",
       "<style scoped>\n",
       "    .dataframe tbody tr th:only-of-type {\n",
       "        vertical-align: middle;\n",
       "    }\n",
       "\n",
       "    .dataframe tbody tr th {\n",
       "        vertical-align: top;\n",
       "    }\n",
       "\n",
       "    .dataframe thead th {\n",
       "        text-align: right;\n",
       "    }\n",
       "</style>\n",
       "<table border=\"1\" class=\"dataframe\">\n",
       "  <thead>\n",
       "    <tr style=\"text-align: right;\">\n",
       "      <th></th>\n",
       "      <th>user_id</th>\n",
       "      <th>distance</th>\n",
       "      <th>duration</th>\n",
       "      <th>date</th>\n",
       "    </tr>\n",
       "  </thead>\n",
       "  <tbody>\n",
       "    <tr>\n",
       "      <th>0</th>\n",
       "      <td>1</td>\n",
       "      <td>4409.919140</td>\n",
       "      <td>25.599769</td>\n",
       "      <td>2021-01-01</td>\n",
       "    </tr>\n",
       "    <tr>\n",
       "      <th>1</th>\n",
       "      <td>1</td>\n",
       "      <td>2617.592153</td>\n",
       "      <td>15.816871</td>\n",
       "      <td>2021-01-18</td>\n",
       "    </tr>\n",
       "    <tr>\n",
       "      <th>2</th>\n",
       "      <td>1</td>\n",
       "      <td>754.159807</td>\n",
       "      <td>6.232113</td>\n",
       "      <td>2021-04-20</td>\n",
       "    </tr>\n",
       "    <tr>\n",
       "      <th>3</th>\n",
       "      <td>1</td>\n",
       "      <td>2694.783254</td>\n",
       "      <td>18.511000</td>\n",
       "      <td>2021-08-11</td>\n",
       "    </tr>\n",
       "    <tr>\n",
       "      <th>4</th>\n",
       "      <td>1</td>\n",
       "      <td>4028.687306</td>\n",
       "      <td>26.265803</td>\n",
       "      <td>2021-08-28</td>\n",
       "    </tr>\n",
       "    <tr>\n",
       "      <th>...</th>\n",
       "      <td>...</td>\n",
       "      <td>...</td>\n",
       "      <td>...</td>\n",
       "      <td>...</td>\n",
       "    </tr>\n",
       "    <tr>\n",
       "      <th>18063</th>\n",
       "      <td>1534</td>\n",
       "      <td>3781.098080</td>\n",
       "      <td>19.822962</td>\n",
       "      <td>2021-11-04</td>\n",
       "    </tr>\n",
       "    <tr>\n",
       "      <th>18064</th>\n",
       "      <td>1534</td>\n",
       "      <td>2840.423057</td>\n",
       "      <td>21.409799</td>\n",
       "      <td>2021-11-16</td>\n",
       "    </tr>\n",
       "    <tr>\n",
       "      <th>18065</th>\n",
       "      <td>1534</td>\n",
       "      <td>3826.185507</td>\n",
       "      <td>18.435051</td>\n",
       "      <td>2021-11-18</td>\n",
       "    </tr>\n",
       "    <tr>\n",
       "      <th>18066</th>\n",
       "      <td>1534</td>\n",
       "      <td>2902.308661</td>\n",
       "      <td>16.674362</td>\n",
       "      <td>2021-11-27</td>\n",
       "    </tr>\n",
       "    <tr>\n",
       "      <th>18067</th>\n",
       "      <td>1534</td>\n",
       "      <td>2371.711192</td>\n",
       "      <td>15.893917</td>\n",
       "      <td>2021-12-29</td>\n",
       "    </tr>\n",
       "  </tbody>\n",
       "</table>\n",
       "<p>18068 rows × 4 columns</p>\n",
       "</div>"
      ],
      "text/plain": [
       "       user_id     distance   duration        date\n",
       "0            1  4409.919140  25.599769  2021-01-01\n",
       "1            1  2617.592153  15.816871  2021-01-18\n",
       "2            1   754.159807   6.232113  2021-04-20\n",
       "3            1  2694.783254  18.511000  2021-08-11\n",
       "4            1  4028.687306  26.265803  2021-08-28\n",
       "...        ...          ...        ...         ...\n",
       "18063     1534  3781.098080  19.822962  2021-11-04\n",
       "18064     1534  2840.423057  21.409799  2021-11-16\n",
       "18065     1534  3826.185507  18.435051  2021-11-18\n",
       "18066     1534  2902.308661  16.674362  2021-11-27\n",
       "18067     1534  2371.711192  15.893917  2021-12-29\n",
       "\n",
       "[18068 rows x 4 columns]"
      ]
     },
     "metadata": {},
     "output_type": "display_data"
    },
    {
     "data": {
      "text/html": [
       "<div>\n",
       "<style scoped>\n",
       "    .dataframe tbody tr th:only-of-type {\n",
       "        vertical-align: middle;\n",
       "    }\n",
       "\n",
       "    .dataframe tbody tr th {\n",
       "        vertical-align: top;\n",
       "    }\n",
       "\n",
       "    .dataframe thead th {\n",
       "        text-align: right;\n",
       "    }\n",
       "</style>\n",
       "<table border=\"1\" class=\"dataframe\">\n",
       "  <thead>\n",
       "    <tr style=\"text-align: right;\">\n",
       "      <th></th>\n",
       "      <th>subscription_type</th>\n",
       "      <th>minute_price</th>\n",
       "      <th>start_ride_price</th>\n",
       "      <th>subscription_fee</th>\n",
       "    </tr>\n",
       "  </thead>\n",
       "  <tbody>\n",
       "    <tr>\n",
       "      <th>0</th>\n",
       "      <td>free</td>\n",
       "      <td>8</td>\n",
       "      <td>50</td>\n",
       "      <td>0</td>\n",
       "    </tr>\n",
       "    <tr>\n",
       "      <th>1</th>\n",
       "      <td>ultra</td>\n",
       "      <td>6</td>\n",
       "      <td>0</td>\n",
       "      <td>199</td>\n",
       "    </tr>\n",
       "  </tbody>\n",
       "</table>\n",
       "</div>"
      ],
      "text/plain": [
       "  subscription_type  minute_price  start_ride_price  subscription_fee\n",
       "0              free             8                50                 0\n",
       "1             ultra             6                 0               199"
      ]
     },
     "metadata": {},
     "output_type": "display_data"
    },
    {
     "name": "stdout",
     "output_type": "stream",
     "text": [
      "<class 'pandas.core.frame.DataFrame'>\n",
      "RangeIndex: 1565 entries, 0 to 1564\n",
      "Data columns (total 5 columns):\n",
      " #   Column             Non-Null Count  Dtype \n",
      "---  ------             --------------  ----- \n",
      " 0   user_id            1565 non-null   int64 \n",
      " 1   name               1565 non-null   object\n",
      " 2   age                1565 non-null   int64 \n",
      " 3   city               1565 non-null   object\n",
      " 4   subscription_type  1565 non-null   object\n",
      "dtypes: int64(2), object(3)\n",
      "memory usage: 61.3+ KB\n"
     ]
    },
    {
     "data": {
      "text/plain": [
       "None"
      ]
     },
     "metadata": {},
     "output_type": "display_data"
    },
    {
     "name": "stdout",
     "output_type": "stream",
     "text": [
      "<class 'pandas.core.frame.DataFrame'>\n",
      "RangeIndex: 18068 entries, 0 to 18067\n",
      "Data columns (total 4 columns):\n",
      " #   Column    Non-Null Count  Dtype  \n",
      "---  ------    --------------  -----  \n",
      " 0   user_id   18068 non-null  int64  \n",
      " 1   distance  18068 non-null  float64\n",
      " 2   duration  18068 non-null  float64\n",
      " 3   date      18068 non-null  object \n",
      "dtypes: float64(2), int64(1), object(1)\n",
      "memory usage: 564.8+ KB\n"
     ]
    },
    {
     "data": {
      "text/plain": [
       "None"
      ]
     },
     "metadata": {},
     "output_type": "display_data"
    },
    {
     "name": "stdout",
     "output_type": "stream",
     "text": [
      "<class 'pandas.core.frame.DataFrame'>\n",
      "RangeIndex: 2 entries, 0 to 1\n",
      "Data columns (total 4 columns):\n",
      " #   Column             Non-Null Count  Dtype \n",
      "---  ------             --------------  ----- \n",
      " 0   subscription_type  2 non-null      object\n",
      " 1   minute_price       2 non-null      int64 \n",
      " 2   start_ride_price   2 non-null      int64 \n",
      " 3   subscription_fee   2 non-null      int64 \n",
      "dtypes: int64(3), object(1)\n",
      "memory usage: 192.0+ bytes\n"
     ]
    },
    {
     "data": {
      "text/plain": [
       "None"
      ]
     },
     "metadata": {},
     "output_type": "display_data"
    }
   ],
   "source": [
    "display(data)\n",
    "display(data2)\n",
    "display(data3)\n",
    "display(data.info())\n",
    "display(data2.info())\n",
    "display(data3.info())"
   ]
  },
  {
   "cell_type": "markdown",
   "id": "d191e481",
   "metadata": {},
   "source": [
    "Исходя из данных, которые мы видим мне потребуется некоторые столбы привести к типу даты pandas, проверить наличие пропущенных значений и дубликатов в датафреймах, обработать их, если такие значения присутствуют.  Сделаем это в следующем шаге."
   ]
  },
  {
   "cell_type": "markdown",
   "id": "f4e409c0",
   "metadata": {},
   "source": [
    "#### Шаг 2. Предобработка данных"
   ]
  },
  {
   "cell_type": "code",
   "execution_count": 4,
   "id": "bd2aeffa",
   "metadata": {},
   "outputs": [],
   "source": [
    "data2['date'] = pd.to_datetime(data2['date'])# Приведем столбец date к типу даты pandas"
   ]
  },
  {
   "cell_type": "code",
   "execution_count": 5,
   "id": "23584cb5",
   "metadata": {},
   "outputs": [],
   "source": [
    "data2['month'] = data2['date'].dt.month# Создаем новый столбец 'month', содержащий номер месяца"
   ]
  },
  {
   "cell_type": "code",
   "execution_count": 6,
   "id": "4d036a5f",
   "metadata": {},
   "outputs": [
    {
     "name": "stdout",
     "output_type": "stream",
     "text": [
      "          Количество  Процент\n",
      "user_id            0      0.0\n",
      "distance           0      0.0\n",
      "duration           0      0.0\n",
      "date               0      0.0\n",
      "month              0      0.0\n"
     ]
    }
   ],
   "source": [
    "missing_values = data.isnull().sum()# считаем количество пропусков по каждому столбцу по первому датафрейму\n",
    "missing_percentage = (missing_values / len(data)) * 100\n",
    "missing_data = pd.concat([missing_values, missing_percentage], axis=1, keys=['Количество', 'Процент'])\n",
    "print(missing_data)"
   ]
  },
  {
   "cell_type": "code",
   "execution_count": 7,
   "id": "bf7f4ed2",
   "metadata": {},
   "outputs": [
    {
     "name": "stdout",
     "output_type": "stream",
     "text": [
      "          Количество  Процент\n",
      "user_id            0      0.0\n",
      "distance           0      0.0\n",
      "duration           0      0.0\n",
      "date               0      0.0\n",
      "month              0      0.0\n"
     ]
    }
   ],
   "source": [
    "missing_values = data2.isnull().sum()# считаем количество пропусков по каждому столбцу по второму датафрейму\n",
    "missing_percentage = (missing_values / len(data2)) * 100\n",
    "missing_data2 = pd.concat([missing_values, missing_percentage], axis=1, keys=['Количество', 'Процент'])\n",
    "print(missing_data2)"
   ]
  },
  {
   "cell_type": "code",
   "execution_count": 8,
   "id": "7e1274a2",
   "metadata": {},
   "outputs": [
    {
     "name": "stdout",
     "output_type": "stream",
     "text": [
      "                   Количество  Процент\n",
      "subscription_type           0      0.0\n",
      "minute_price                0      0.0\n",
      "start_ride_price            0      0.0\n",
      "subscription_fee            0      0.0\n"
     ]
    }
   ],
   "source": [
    "missing_values = data3.isnull().sum()# считаем количество пропусков по каждому столбцу по третьему датафрейму\n",
    "missing_percentage = (missing_values / len(data3)) * 100\n",
    "missing_data3 = pd.concat([missing_values, missing_percentage], axis=1, keys=['Количество', 'Процент'])\n",
    "print(missing_data3)"
   ]
  },
  {
   "cell_type": "markdown",
   "id": "bd474c52",
   "metadata": {},
   "source": [
    "Пропусков нет. Текстовые значения есть только в первом датафрейме в двух столбцах: name и city. Удалим возможные не явные дубликаты в данных столбцах."
   ]
  },
  {
   "cell_type": "code",
   "execution_count": 9,
   "id": "ea27be91",
   "metadata": {},
   "outputs": [],
   "source": [
    "data['name'] = data['name'].str.lower() # Приводим все значения к нижнему регистру\n",
    "data['name'] = data['name'].str.strip() # Удаляем лишние пробелы в начале и конце строки\n",
    "data['name'] = data['name'].str.replace('ё', 'е') # Заменяем букву \"ё\" на \"е\""
   ]
  },
  {
   "cell_type": "code",
   "execution_count": 10,
   "id": "a0cb1d21",
   "metadata": {},
   "outputs": [],
   "source": [
    "data['city'] = data['city'].str.lower() # Приводим все значения к нижнему регистру\n",
    "data['city'] = data['city'].str.strip() # Удаляем лишние пробелы в начале и конце строки\n",
    "data['city'] = data['city'].str.replace('ё', 'е') # Заменяем букву \"ё\" на \"е\""
   ]
  },
  {
   "cell_type": "code",
   "execution_count": 11,
   "id": "d35fe6e4",
   "metadata": {},
   "outputs": [],
   "source": [
    "# Проверим на дубликаты\n",
    "duplicates = data.duplicated()\n",
    "duplicates = data2.duplicated()\n",
    "duplicates = data3.duplicated()"
   ]
  },
  {
   "cell_type": "code",
   "execution_count": 12,
   "id": "2f2e3318",
   "metadata": {},
   "outputs": [
    {
     "name": "stdout",
     "output_type": "stream",
     "text": [
      "<class 'pandas.core.frame.DataFrame'>\n",
      "Int64Index: 1534 entries, 0 to 1533\n",
      "Data columns (total 5 columns):\n",
      " #   Column             Non-Null Count  Dtype \n",
      "---  ------             --------------  ----- \n",
      " 0   user_id            1534 non-null   int64 \n",
      " 1   name               1534 non-null   object\n",
      " 2   age                1534 non-null   int64 \n",
      " 3   city               1534 non-null   object\n",
      " 4   subscription_type  1534 non-null   object\n",
      "dtypes: int64(2), object(3)\n",
      "memory usage: 71.9+ KB\n"
     ]
    },
    {
     "data": {
      "text/plain": [
       "None"
      ]
     },
     "metadata": {},
     "output_type": "display_data"
    },
    {
     "name": "stdout",
     "output_type": "stream",
     "text": [
      "<class 'pandas.core.frame.DataFrame'>\n",
      "Int64Index: 18068 entries, 0 to 18067\n",
      "Data columns (total 5 columns):\n",
      " #   Column    Non-Null Count  Dtype         \n",
      "---  ------    --------------  -----         \n",
      " 0   user_id   18068 non-null  int64         \n",
      " 1   distance  18068 non-null  float64       \n",
      " 2   duration  18068 non-null  float64       \n",
      " 3   date      18068 non-null  datetime64[ns]\n",
      " 4   month     18068 non-null  int64         \n",
      "dtypes: datetime64[ns](1), float64(2), int64(2)\n",
      "memory usage: 846.9 KB\n"
     ]
    },
    {
     "data": {
      "text/plain": [
       "None"
      ]
     },
     "metadata": {},
     "output_type": "display_data"
    },
    {
     "name": "stdout",
     "output_type": "stream",
     "text": [
      "<class 'pandas.core.frame.DataFrame'>\n",
      "Int64Index: 2 entries, 0 to 1\n",
      "Data columns (total 4 columns):\n",
      " #   Column             Non-Null Count  Dtype \n",
      "---  ------             --------------  ----- \n",
      " 0   subscription_type  2 non-null      object\n",
      " 1   minute_price       2 non-null      int64 \n",
      " 2   start_ride_price   2 non-null      int64 \n",
      " 3   subscription_fee   2 non-null      int64 \n",
      "dtypes: int64(3), object(1)\n",
      "memory usage: 80.0+ bytes\n"
     ]
    },
    {
     "data": {
      "text/plain": [
       "None"
      ]
     },
     "metadata": {},
     "output_type": "display_data"
    }
   ],
   "source": [
    "# Удалим на дубликаты\n",
    "data = data.drop_duplicates()\n",
    "data2 = data2.drop_duplicates()\n",
    "data3 = data3.drop_duplicates()\n",
    "display(data.info())\n",
    "display(data2.info())\n",
    "display(data3.info())"
   ]
  },
  {
   "cell_type": "markdown",
   "id": "ed8bbd2c",
   "metadata": {},
   "source": [
    "Я проверила данные мне файлы на пропуски и дубликаты, поле data привела к временному виду, добавила столбец месяц. Теперь можем перейти к анализу файлов."
   ]
  },
  {
   "cell_type": "markdown",
   "id": "2e52d85f",
   "metadata": {},
   "source": [
    "#### Шаг 3. Исследовательский анализ данных"
   ]
  },
  {
   "cell_type": "markdown",
   "id": "664c7906",
   "metadata": {},
   "source": [
    "Опишем и визуализируем общую информацию о пользователях и поездках:"
   ]
  },
  {
   "cell_type": "code",
   "execution_count": 13,
   "id": "1581b2a7",
   "metadata": {},
   "outputs": [
    {
     "data": {
      "image/png": "[encoded data removed]",
      "text/plain": [
       "<Figure size 720x432 with 1 Axes>"
      ]
     },
     "metadata": {
      "needs_background": "light"
     },
     "output_type": "display_data"
    }
   ],
   "source": [
    " #частота встречаемости городов\n",
    "city_counts = data['city'].value_counts().reset_index() #Создаем датафрейм \"city_counts\" для подсчета частоты встречаемости каждого города в столбце \"city\n",
    "city_counts.columns = ['city', 'count']\n",
    "city_counts = city_counts.sort_values('count', ascending=False)#Отсортировываем датафрейм \"city_counts\" по убыванию частоты встречаемости городов:\n",
    "plt.figure(figsize=(10, 6))#Визуализируем частоту встречаемости городов с помощью столбчатой диаграммы\n",
    "plt.bar(city_counts['city'], city_counts['count'])\n",
    "plt.xlabel('Город')\n",
    "plt.ylabel('Частота встречаемости')\n",
    "plt.title('Частота встречаемости городов')\n",
    "plt.xticks(rotation=90)\n",
    "plt.show()"
   ]
  },
  {
   "cell_type": "markdown",
   "id": "7d0ef0d7",
   "metadata": {},
   "source": [
    "Чаще всего пользуются сервисом в Пятигорске, реже всего в Москве. Считаю, что в Москве пользуются реже, так как требуется учитывать сам тепм города, который располагает к переждвижению либо на общ. транспорте либо на личном. Мало кому приятно передвигаться по городу на самокате, при сильном движении автотранспорта. Петербург хоть и город, который не уступает Москве по трафику своей архитектурой больше располагает к не спешной прогулке на самокате."
   ]
  },
  {
   "cell_type": "code",
   "execution_count": 14,
   "id": "bbb5dd8d",
   "metadata": {},
   "outputs": [
    {
     "data": {
      "image/png": "[encoded data removed]",
      "text/plain": [
       "<Figure size 432x288 with 1 Axes>"
      ]
     },
     "metadata": {},
     "output_type": "display_data"
    }
   ],
   "source": [
    "#соотношение пользователей с подпиской и без подписки\n",
    "# Создаем подвыборки данных\n",
    "subscribed_users = data[data['subscription_type'] == 'ultra']\n",
    "non_subscribed_users = data[data['subscription_type'] == 'free']\n",
    "\n",
    "# Вычисляем количество пользователей в каждой подвыборке\n",
    "subscribed_users_count = len(subscribed_users)\n",
    "non_subscribed_users_count = len(non_subscribed_users)\n",
    "\n",
    "# Визуализируем данные\n",
    "labels = ['Подписка (ultra)', 'Без подписки (free)']\n",
    "sizes = [subscribed_users_count, non_subscribed_users_count]\n",
    "plt.pie(sizes, labels=labels, autopct='%1.1f%%', startangle=90)\n",
    "plt.axis('equal')\n",
    "plt.title('Соотношение пользователей с подпиской ultra и без подписки free')\n",
    "plt.show()"
   ]
  },
  {
   "cell_type": "markdown",
   "id": "73c93416",
   "metadata": {},
   "source": [
    "Больше пользователей без подписки. Полный анализ по подписке мы сделаем в шаге 4. Разница не большая, так как есть пользователи, которым только подарили первые поездки и в дальнейшем могут перейти в подписку, а есть любители, которые пользуются только бесплатными акциями."
   ]
  },
  {
   "cell_type": "code",
   "execution_count": 15,
   "id": "53f98fba",
   "metadata": {},
   "outputs": [
    {
     "name": "stdout",
     "output_type": "stream",
     "text": [
      "count    1534.000000\n",
      "mean       24.903520\n",
      "std         4.572367\n",
      "min        12.000000\n",
      "25%        22.000000\n",
      "50%        25.000000\n",
      "75%        28.000000\n",
      "max        43.000000\n",
      "Name: age, dtype: float64\n"
     ]
    },
    {
     "data": {
      "image/png": "[encoded data removed]",
      "text/plain": [
       "<Figure size 432x288 with 1 Axes>"
      ]
     },
     "metadata": {
      "needs_background": "light"
     },
     "output_type": "display_data"
    }
   ],
   "source": [
    "# Описание возраста пользователей\n",
    "age_description = data[\"age\"].describe()\n",
    "print(age_description)\n",
    "\n",
    "# Визуализация возраста пользователей в виде гистограммы\n",
    "plt.hist(data[\"age\"], bins=10, edgecolor='black')\n",
    "plt.xlabel('Возраст')\n",
    "plt.ylabel('Количество пользователей')\n",
    "plt.title('Распределение возраста пользователей')\n",
    "plt.show()"
   ]
  },
  {
   "cell_type": "markdown",
   "id": "68859e33",
   "metadata": {},
   "source": [
    "Основной возраст пользователей от 20-30 лет. Это логично. Сервис доступен с 18 лет, а люди старше 30 с опаской либо не желанием осваивают новые способы передвижения, а также предпочитаю более комфортные варианты."
   ]
  },
  {
   "cell_type": "code",
   "execution_count": 16,
   "id": "40b26889",
   "metadata": {},
   "outputs": [
    {
     "data": {
      "image/png": "[encoded data removed]",
      "text/plain": [
       "<Figure size 432x288 with 1 Axes>"
      ]
     },
     "metadata": {
      "needs_background": "light"
     },
     "output_type": "display_data"
    }
   ],
   "source": [
    "#расстояние, которое пользователь преодолел за одну поездку\n",
    "# Создание графика\n",
    "fig, ax = plt.subplots()\n",
    "\n",
    "# Визуализация данных\n",
    "ax.plot(data2['distance'])\n",
    "\n",
    "# Настройка осей\n",
    "ax.set_xlabel('Поездка')\n",
    "ax.set_ylabel('Расстояние')\n",
    "\n",
    "# Отображение графика\n",
    "plt.show()"
   ]
  },
  {
   "cell_type": "markdown",
   "id": "0d41c393",
   "metadata": {},
   "source": [
    "Интересный результат. Я бы сказала, что расстояние и продолжительность поездки не очень сильно коррелируются между собой. Все передвигаются с разной скоростью и разными целями."
   ]
  },
  {
   "cell_type": "code",
   "execution_count": 17,
   "id": "d8d101da",
   "metadata": {},
   "outputs": [
    {
     "data": {
      "image/png": "[encoded data removed]",
      "text/plain": [
       "<Figure size 432x288 with 1 Axes>"
      ]
     },
     "metadata": {
      "needs_background": "light"
     },
     "output_type": "display_data"
    }
   ],
   "source": [
    "#построим распределение с помощью гистограммы для дистанций поездок и опишем его\n",
    "\n",
    "# Создание графика\n",
    "fig, ax = plt.subplots()\n",
    "\n",
    "# Визуализация данных с помощью гистограммы\n",
    "ax.hist(data2['distance'], bins=10, edgecolor='black')\n",
    "\n",
    "# Настройка осей\n",
    "ax.set_xlabel('Расстояние')\n",
    "ax.set_ylabel('Частота')\n",
    "ax.set_title('Распределение расстояний')\n",
    "\n",
    "# Отображение графика\n",
    "plt.show()\n"
   ]
  },
  {
   "cell_type": "markdown",
   "id": "baa2d450",
   "metadata": {},
   "source": [
    "Самые частые поездки на расстоянии от 3000 до 4000."
   ]
  },
  {
   "cell_type": "code",
   "execution_count": 18,
   "id": "7314feae",
   "metadata": {},
   "outputs": [
    {
     "name": "stdout",
     "output_type": "stream",
     "text": [
      "count    18068.000000\n",
      "mean        17.805011\n",
      "std          6.091051\n",
      "min          0.500000\n",
      "25%         13.597563\n",
      "50%         17.678395\n",
      "75%         21.724800\n",
      "max         40.823963\n",
      "Name: duration, dtype: float64\n"
     ]
    },
    {
     "data": {
      "image/png": "[encoded data removed]",
      "text/plain": [
       "<Figure size 432x288 with 1 Axes>"
      ]
     },
     "metadata": {
      "needs_background": "light"
     },
     "output_type": "display_data"
    }
   ],
   "source": [
    "#продолжительность поездок\n",
    "duration_description = data2['duration'].describe()#Выводим описание продолжительности поездок\n",
    "print(duration_description)\n",
    "# Выводим гистограмму\n",
    "plt.hist(data2['duration'], bins=50, edgecolor='k')\n",
    "\n",
    "# Настраиваем оси и заголовок\n",
    "plt.xlabel('продолжительность сессии')\n",
    "plt.ylabel('Количество поездок')\n",
    "plt.title('продолжительность поездок')\n",
    "\n",
    "# Показываем график\n",
    "plt.show()"
   ]
  },
  {
   "cell_type": "markdown",
   "id": "e89dce7a",
   "metadata": {},
   "source": [
    "Средняя длительность поездки 17 минут.Самая длительная - 40 минут. Самое частое время поездки от 10 минут до 20."
   ]
  },
  {
   "cell_type": "markdown",
   "id": "29cbbc9a",
   "metadata": {},
   "source": [
    "#### Шаг 4. Объединение данных"
   ]
  },
  {
   "cell_type": "markdown",
   "id": "6d00a4ca",
   "metadata": {},
   "source": [
    "Обьединим данных о пользователях, поездках и подписках в один датафрейм для более подробного анализа."
   ]
  },
  {
   "cell_type": "code",
   "execution_count": 19,
   "id": "3dca00a9",
   "metadata": {},
   "outputs": [
    {
     "name": "stdout",
     "output_type": "stream",
     "text": [
      "       user_id     name  age       city subscription_type     distance  \\\n",
      "0            1     кира   22     тюмень             ultra  4409.919140   \n",
      "1            1     кира   22     тюмень             ultra  2617.592153   \n",
      "2            1     кира   22     тюмень             ultra   754.159807   \n",
      "3            1     кира   22     тюмень             ultra  2694.783254   \n",
      "4            1     кира   22     тюмень             ultra  4028.687306   \n",
      "...        ...      ...  ...        ...               ...          ...   \n",
      "18063     1534  альберт   25  краснодар              free  3781.098080   \n",
      "18064     1534  альберт   25  краснодар              free  2840.423057   \n",
      "18065     1534  альберт   25  краснодар              free  3826.185507   \n",
      "18066     1534  альберт   25  краснодар              free  2902.308661   \n",
      "18067     1534  альберт   25  краснодар              free  2371.711192   \n",
      "\n",
      "        duration       date  month  minute_price  start_ride_price  \\\n",
      "0      25.599769 2021-01-01      1             6                 0   \n",
      "1      15.816871 2021-01-18      1             6                 0   \n",
      "2       6.232113 2021-04-20      4             6                 0   \n",
      "3      18.511000 2021-08-11      8             6                 0   \n",
      "4      26.265803 2021-08-28      8             6                 0   \n",
      "...          ...        ...    ...           ...               ...   \n",
      "18063  19.822962 2021-11-04     11             8                50   \n",
      "18064  21.409799 2021-11-16     11             8                50   \n",
      "18065  18.435051 2021-11-18     11             8                50   \n",
      "18066  16.674362 2021-11-27     11             8                50   \n",
      "18067  15.893917 2021-12-29     12             8                50   \n",
      "\n",
      "       subscription_fee  \n",
      "0                   199  \n",
      "1                   199  \n",
      "2                   199  \n",
      "3                   199  \n",
      "4                   199  \n",
      "...                 ...  \n",
      "18063                 0  \n",
      "18064                 0  \n",
      "18065                 0  \n",
      "18066                 0  \n",
      "18067                 0  \n",
      "\n",
      "[18068 rows x 12 columns]\n"
     ]
    }
   ],
   "source": [
    "# Объединение данных о пользователях и поездка\n",
    "merged_data = pd.merge(data,data2, on='user_id')\n",
    "# Объединение данных о подписках\n",
    "merged_data = pd.merge(merged_data, data3, on='subscription_type')\n",
    "print(merged_data)"
   ]
  },
  {
   "cell_type": "code",
   "execution_count": 20,
   "id": "1e2d4d60",
   "metadata": {},
   "outputs": [
    {
     "name": "stdout",
     "output_type": "stream",
     "text": [
      "Количество строк в исходных таблицах: data - 1534, data2 - 18068, data3 - 2\n",
      "Количество строк в объединенной таблице: 18068\n",
      "Количество строк в объединенной таблице не совпадает с суммой строк в исходных таблицах.\n"
     ]
    }
   ],
   "source": [
    "# Подсчет количества строк в каждой таблице\n",
    "original_data_rows = len(data)\n",
    "data2_rows = len(data2)\n",
    "data3_rows = len(data3)\n",
    "merged_data_rows = len(merged_data)\n",
    "\n",
    "# Вывод результата\n",
    "print(f\"Количество строк в исходных таблицах: data - {original_data_rows}, data2 - {data2_rows}, data3 - {data3_rows}\")\n",
    "print(f\"Количество строк в объединенной таблице: {merged_data_rows}\")\n",
    "\n",
    "# Сравнение количества строк\n",
    "if merged_data_rows == (original_data_rows + data2_rows + data3_rows):\n",
    "    print(\"Количество строк в объединенной таблице совпадает с суммой строк в исходных таблицах.\")\n",
    "else:\n",
    "    print(\"Количество строк в объединенной таблице не совпадает с суммой строк в исходных таблицах.\")"
   ]
  },
  {
   "cell_type": "markdown",
   "id": "27665e59",
   "metadata": {},
   "source": [
    "Удалила дубликаты из первичного датафрейма data, поэтому количество срок не совпадает"
   ]
  },
  {
   "cell_type": "code",
   "execution_count": 21,
   "id": "712ba68c",
   "metadata": {},
   "outputs": [],
   "source": [
    "# Создание датафрейма с данными о пользователях без подписки free\n",
    "df_free = merged_data.query('subscription_type == \"free\"')\n",
    "\n",
    "# Создание датафрейма с данными о пользователях с подпиской ultra\n",
    "df_ultra = merged_data.query('subscription_type == \"ultra\"')"
   ]
  },
  {
   "cell_type": "code",
   "execution_count": 22,
   "id": "2ab392e0",
   "metadata": {},
   "outputs": [
    {
     "data": {
      "image/png": "[encoded data removed]",
      "text/plain": [
       "<Figure size 432x288 with 2 Axes>"
      ]
     },
     "metadata": {},
     "output_type": "display_data"
    }
   ],
   "source": [
    "# Создаем подходящие данные для визуализации\n",
    "df_free_distance = df_free['distance']\n",
    "df_free_time = df_free['duration']\n",
    "\n",
    "df_ultra_distance = df_ultra['distance']\n",
    "df_ultra_time = df_ultra['duration']\n",
    "\n",
    "# Создаем список названий сегментов\n",
    "segments = ['Distance', 'duration']\n",
    "\n",
    "# Создаем список значений для каждого сегмента\n",
    "free_values = [df_free_distance.sum(), df_free_time.sum()]\n",
    "ultra_values = [df_ultra_distance.sum(), df_ultra_time.sum()]\n",
    "\n",
    "# Создаем круговую диаграмму для пользователей df_free\n",
    "plt.subplot(1, 2, 1)\n",
    "plt.pie(free_values, labels=segments, autopct='%1.1f%%')\n",
    "plt.title('df_free')\n",
    "\n",
    "# Создаем круговую диаграмму для пользователей df_ultra\n",
    "plt.subplot(1, 2, 2)\n",
    "plt.pie(ultra_values, labels=segments, autopct='%1.1f%%')\n",
    "plt.title('df_ultra')\n",
    "\n",
    "# Отображаем диаграммы\n",
    "plt.show()"
   ]
  },
  {
   "cell_type": "markdown",
   "id": "34438c81",
   "metadata": {},
   "source": [
    "Из круговых диаграмм видно, что по платной и бесплатной подписке расстояние и время поездок для пользователей обеих категорий одинаковое."
   ]
  },
  {
   "cell_type": "code",
   "execution_count": 23,
   "id": "79a089ab",
   "metadata": {},
   "outputs": [
    {
     "data": {
      "image/png": "[encoded data removed]",
      "text/plain": [
       "<Figure size 720x432 with 1 Axes>"
      ]
     },
     "metadata": {
      "needs_background": "light"
     },
     "output_type": "display_data"
    },
    {
     "data": {
      "text/plain": [
       "<module 'matplotlib.pyplot' from '/opt/conda/lib/python3.9/site-packages/matplotlib/pyplot.py'>"
      ]
     },
     "execution_count": 23,
     "metadata": {},
     "output_type": "execute_result"
    }
   ],
   "source": [
    "# Создание подходящих данных для визуализации\n",
    "df_free_distance = df_free['distance']\n",
    "df_free_time = df_free['duration']\n",
    "\n",
    "df_ultra_distance = df_ultra['distance']\n",
    "df_ultra_time = df_ultra['duration']\n",
    "\n",
    "# Создание гистограмм для пользователей df_free и df_ultra\n",
    "plt.figure(figsize=(10, 6))\n",
    "\n",
    "plt.hist(df_free_distance, bins=50, alpha=0.5, label='df_free')\n",
    "plt.hist(df_ultra_distance, bins=50, alpha=0.5, label='df_ultra')\n",
    "\n",
    "plt.xlabel('Расстояние')\n",
    "plt.ylabel('Частота')\n",
    "plt.title('Распределение расстояния по категориям')\n",
    "plt.legend()\n",
    "\n",
    "plt.show()\n",
    "\n",
    "plt"
   ]
  },
  {
   "cell_type": "code",
   "execution_count": 24,
   "id": "16f299ca",
   "metadata": {},
   "outputs": [
    {
     "data": {
      "image/png": "[encoded data removed]",
      "text/plain": [
       "<Figure size 720x432 with 1 Axes>"
      ]
     },
     "metadata": {
      "needs_background": "light"
     },
     "output_type": "display_data"
    }
   ],
   "source": [
    "#построим график по продолжительности поездок\n",
    "\n",
    "# Создание гистограмм для пользователей df_free и df_ultra\n",
    "plt.figure(figsize=(10, 6))\n",
    "\n",
    "plt.hist(df_free_time, bins=50, alpha=0.5, label='df_free')\n",
    "plt.hist(df_ultra_time, bins=50, alpha=0.5, label='df_ultra')\n",
    "\n",
    "plt.xlabel('Продолжительность')\n",
    "plt.ylabel('Частота')\n",
    "plt.title('Распределение продолжительности поездок по категориям')\n",
    "plt.legend()\n",
    "\n",
    "plt.show()"
   ]
  },
  {
   "cell_type": "markdown",
   "id": "379ea407",
   "metadata": {},
   "source": [
    "По бесплатной подписке расстояние и частота больше, чем по платной."
   ]
  },
  {
   "cell_type": "markdown",
   "id": "62ac16d2",
   "metadata": {},
   "source": [
    "#### Шаг 5. Подсчёт выручки"
   ]
  },
  {
   "cell_type": "markdown",
   "id": "bd808a29",
   "metadata": {},
   "source": [
    "Создадим датафрейм с агрегированными данными о поездках на основе датафрейма с объединёнными данными из шага 4: найдем суммарное расстояние, количество поездок и суммарное время для каждого пользователя за каждый месяц."
   ]
  },
  {
   "cell_type": "code",
   "execution_count": 25,
   "id": "7718459b",
   "metadata": {},
   "outputs": [
    {
     "data": {
      "text/html": [
       "<div>\n",
       "<style scoped>\n",
       "    .dataframe tbody tr th:only-of-type {\n",
       "        vertical-align: middle;\n",
       "    }\n",
       "\n",
       "    .dataframe tbody tr th {\n",
       "        vertical-align: top;\n",
       "    }\n",
       "\n",
       "    .dataframe thead th {\n",
       "        text-align: right;\n",
       "    }\n",
       "</style>\n",
       "<table border=\"1\" class=\"dataframe\">\n",
       "  <thead>\n",
       "    <tr style=\"text-align: right;\">\n",
       "      <th></th>\n",
       "      <th>index</th>\n",
       "      <th>user_id</th>\n",
       "      <th>month</th>\n",
       "      <th>distance_sum</th>\n",
       "      <th>duration_sum</th>\n",
       "      <th>duration_count</th>\n",
       "      <th>subscription_type</th>\n",
       "      <th>minute_price</th>\n",
       "      <th>start_ride_price</th>\n",
       "      <th>subscription_fee</th>\n",
       "    </tr>\n",
       "  </thead>\n",
       "  <tbody>\n",
       "    <tr>\n",
       "      <th>0</th>\n",
       "      <td>0</td>\n",
       "      <td>1</td>\n",
       "      <td>1</td>\n",
       "      <td>7027.511294</td>\n",
       "      <td>42.0</td>\n",
       "      <td>2</td>\n",
       "      <td>ultra</td>\n",
       "      <td>6</td>\n",
       "      <td>0</td>\n",
       "      <td>199</td>\n",
       "    </tr>\n",
       "    <tr>\n",
       "      <th>1</th>\n",
       "      <td>1</td>\n",
       "      <td>1</td>\n",
       "      <td>4</td>\n",
       "      <td>754.159807</td>\n",
       "      <td>7.0</td>\n",
       "      <td>1</td>\n",
       "      <td>ultra</td>\n",
       "      <td>6</td>\n",
       "      <td>0</td>\n",
       "      <td>199</td>\n",
       "    </tr>\n",
       "    <tr>\n",
       "      <th>2</th>\n",
       "      <td>2</td>\n",
       "      <td>1</td>\n",
       "      <td>8</td>\n",
       "      <td>6723.470560</td>\n",
       "      <td>46.0</td>\n",
       "      <td>2</td>\n",
       "      <td>ultra</td>\n",
       "      <td>6</td>\n",
       "      <td>0</td>\n",
       "      <td>199</td>\n",
       "    </tr>\n",
       "    <tr>\n",
       "      <th>3</th>\n",
       "      <td>3</td>\n",
       "      <td>1</td>\n",
       "      <td>10</td>\n",
       "      <td>5809.911100</td>\n",
       "      <td>32.0</td>\n",
       "      <td>2</td>\n",
       "      <td>ultra</td>\n",
       "      <td>6</td>\n",
       "      <td>0</td>\n",
       "      <td>199</td>\n",
       "    </tr>\n",
       "    <tr>\n",
       "      <th>4</th>\n",
       "      <td>4</td>\n",
       "      <td>1</td>\n",
       "      <td>11</td>\n",
       "      <td>7003.499363</td>\n",
       "      <td>56.0</td>\n",
       "      <td>3</td>\n",
       "      <td>ultra</td>\n",
       "      <td>6</td>\n",
       "      <td>0</td>\n",
       "      <td>199</td>\n",
       "    </tr>\n",
       "    <tr>\n",
       "      <th>...</th>\n",
       "      <td>...</td>\n",
       "      <td>...</td>\n",
       "      <td>...</td>\n",
       "      <td>...</td>\n",
       "      <td>...</td>\n",
       "      <td>...</td>\n",
       "      <td>...</td>\n",
       "      <td>...</td>\n",
       "      <td>...</td>\n",
       "      <td>...</td>\n",
       "    </tr>\n",
       "    <tr>\n",
       "      <th>11326</th>\n",
       "      <td>11326</td>\n",
       "      <td>1534</td>\n",
       "      <td>6</td>\n",
       "      <td>3409.468534</td>\n",
       "      <td>26.0</td>\n",
       "      <td>2</td>\n",
       "      <td>free</td>\n",
       "      <td>8</td>\n",
       "      <td>50</td>\n",
       "      <td>0</td>\n",
       "    </tr>\n",
       "    <tr>\n",
       "      <th>11327</th>\n",
       "      <td>11327</td>\n",
       "      <td>1534</td>\n",
       "      <td>8</td>\n",
       "      <td>7622.453034</td>\n",
       "      <td>48.0</td>\n",
       "      <td>2</td>\n",
       "      <td>free</td>\n",
       "      <td>8</td>\n",
       "      <td>50</td>\n",
       "      <td>0</td>\n",
       "    </tr>\n",
       "    <tr>\n",
       "      <th>11328</th>\n",
       "      <td>11328</td>\n",
       "      <td>1534</td>\n",
       "      <td>9</td>\n",
       "      <td>4928.173852</td>\n",
       "      <td>23.0</td>\n",
       "      <td>1</td>\n",
       "      <td>free</td>\n",
       "      <td>8</td>\n",
       "      <td>50</td>\n",
       "      <td>0</td>\n",
       "    </tr>\n",
       "    <tr>\n",
       "      <th>11329</th>\n",
       "      <td>11329</td>\n",
       "      <td>1534</td>\n",
       "      <td>11</td>\n",
       "      <td>13350.015305</td>\n",
       "      <td>78.0</td>\n",
       "      <td>4</td>\n",
       "      <td>free</td>\n",
       "      <td>8</td>\n",
       "      <td>50</td>\n",
       "      <td>0</td>\n",
       "    </tr>\n",
       "    <tr>\n",
       "      <th>11330</th>\n",
       "      <td>11330</td>\n",
       "      <td>1534</td>\n",
       "      <td>12</td>\n",
       "      <td>2371.711192</td>\n",
       "      <td>16.0</td>\n",
       "      <td>1</td>\n",
       "      <td>free</td>\n",
       "      <td>8</td>\n",
       "      <td>50</td>\n",
       "      <td>0</td>\n",
       "    </tr>\n",
       "  </tbody>\n",
       "</table>\n",
       "<p>11331 rows × 10 columns</p>\n",
       "</div>"
      ],
      "text/plain": [
       "       index  user_id  month  distance_sum  duration_sum  duration_count  \\\n",
       "0          0        1      1   7027.511294          42.0               2   \n",
       "1          1        1      4    754.159807           7.0               1   \n",
       "2          2        1      8   6723.470560          46.0               2   \n",
       "3          3        1     10   5809.911100          32.0               2   \n",
       "4          4        1     11   7003.499363          56.0               3   \n",
       "...      ...      ...    ...           ...           ...             ...   \n",
       "11326  11326     1534      6   3409.468534          26.0               2   \n",
       "11327  11327     1534      8   7622.453034          48.0               2   \n",
       "11328  11328     1534      9   4928.173852          23.0               1   \n",
       "11329  11329     1534     11  13350.015305          78.0               4   \n",
       "11330  11330     1534     12   2371.711192          16.0               1   \n",
       "\n",
       "      subscription_type  minute_price  start_ride_price  subscription_fee  \n",
       "0                 ultra             6                 0               199  \n",
       "1                 ultra             6                 0               199  \n",
       "2                 ultra             6                 0               199  \n",
       "3                 ultra             6                 0               199  \n",
       "4                 ultra             6                 0               199  \n",
       "...                 ...           ...               ...               ...  \n",
       "11326              free             8                50                 0  \n",
       "11327              free             8                50                 0  \n",
       "11328              free             8                50                 0  \n",
       "11329              free             8                50                 0  \n",
       "11330              free             8                50                 0  \n",
       "\n",
       "[11331 rows x 10 columns]"
      ]
     },
     "metadata": {},
     "output_type": "display_data"
    }
   ],
   "source": [
    "merged_data['duration'] = np.ceil(merged_data['duration'])\n",
    "merged_data['duration'] = np.ceil(merged_data['duration'])\n",
    "\n",
    "grouped_data = merged_data.groupby(['user_id', 'month'], as_index=False).agg(distance_sum=('distance', 'sum'),\n",
    "                                                                              duration_sum=('duration', 'sum'),\n",
    "                                                                              duration_count=('duration', 'count'),\n",
    "                                                                              subscription_type=('subscription_type', 'first'),\n",
    "                                                                              minute_price=('minute_price', 'first'),\n",
    "                                                                              start_ride_price=('start_ride_price', 'first'),\n",
    "                                                                              subscription_fee=('subscription_fee', 'first'))\n",
    "\n",
    "grouped_data = grouped_data.reset_index()\n",
    "\n",
    "display(grouped_data)"
   ]
  },
  {
   "cell_type": "markdown",
   "id": "d5e0d350",
   "metadata": {},
   "source": [
    "Добавим столбец с помесячной выручкой, которую принёс каждый пользователь"
   ]
  },
  {
   "cell_type": "code",
   "execution_count": 26,
   "id": "92db1dd0",
   "metadata": {},
   "outputs": [
    {
     "data": {
      "text/html": [
       "<div>\n",
       "<style scoped>\n",
       "    .dataframe tbody tr th:only-of-type {\n",
       "        vertical-align: middle;\n",
       "    }\n",
       "\n",
       "    .dataframe tbody tr th {\n",
       "        vertical-align: top;\n",
       "    }\n",
       "\n",
       "    .dataframe thead th {\n",
       "        text-align: right;\n",
       "    }\n",
       "</style>\n",
       "<table border=\"1\" class=\"dataframe\">\n",
       "  <thead>\n",
       "    <tr style=\"text-align: right;\">\n",
       "      <th></th>\n",
       "      <th>index</th>\n",
       "      <th>user_id</th>\n",
       "      <th>month</th>\n",
       "      <th>distance_sum</th>\n",
       "      <th>duration_sum</th>\n",
       "      <th>duration_count</th>\n",
       "      <th>subscription_type</th>\n",
       "      <th>minute_price</th>\n",
       "      <th>start_ride_price</th>\n",
       "      <th>subscription_fee</th>\n",
       "      <th>monthly_revenue</th>\n",
       "    </tr>\n",
       "  </thead>\n",
       "  <tbody>\n",
       "    <tr>\n",
       "      <th>0</th>\n",
       "      <td>0</td>\n",
       "      <td>1</td>\n",
       "      <td>1</td>\n",
       "      <td>7027.511294</td>\n",
       "      <td>42.0</td>\n",
       "      <td>2</td>\n",
       "      <td>ultra</td>\n",
       "      <td>6</td>\n",
       "      <td>0</td>\n",
       "      <td>199</td>\n",
       "      <td>451.0</td>\n",
       "    </tr>\n",
       "    <tr>\n",
       "      <th>1</th>\n",
       "      <td>1</td>\n",
       "      <td>1</td>\n",
       "      <td>4</td>\n",
       "      <td>754.159807</td>\n",
       "      <td>7.0</td>\n",
       "      <td>1</td>\n",
       "      <td>ultra</td>\n",
       "      <td>6</td>\n",
       "      <td>0</td>\n",
       "      <td>199</td>\n",
       "      <td>241.0</td>\n",
       "    </tr>\n",
       "    <tr>\n",
       "      <th>2</th>\n",
       "      <td>2</td>\n",
       "      <td>1</td>\n",
       "      <td>8</td>\n",
       "      <td>6723.470560</td>\n",
       "      <td>46.0</td>\n",
       "      <td>2</td>\n",
       "      <td>ultra</td>\n",
       "      <td>6</td>\n",
       "      <td>0</td>\n",
       "      <td>199</td>\n",
       "      <td>475.0</td>\n",
       "    </tr>\n",
       "    <tr>\n",
       "      <th>3</th>\n",
       "      <td>3</td>\n",
       "      <td>1</td>\n",
       "      <td>10</td>\n",
       "      <td>5809.911100</td>\n",
       "      <td>32.0</td>\n",
       "      <td>2</td>\n",
       "      <td>ultra</td>\n",
       "      <td>6</td>\n",
       "      <td>0</td>\n",
       "      <td>199</td>\n",
       "      <td>391.0</td>\n",
       "    </tr>\n",
       "    <tr>\n",
       "      <th>4</th>\n",
       "      <td>4</td>\n",
       "      <td>1</td>\n",
       "      <td>11</td>\n",
       "      <td>7003.499363</td>\n",
       "      <td>56.0</td>\n",
       "      <td>3</td>\n",
       "      <td>ultra</td>\n",
       "      <td>6</td>\n",
       "      <td>0</td>\n",
       "      <td>199</td>\n",
       "      <td>535.0</td>\n",
       "    </tr>\n",
       "    <tr>\n",
       "      <th>5</th>\n",
       "      <td>5</td>\n",
       "      <td>1</td>\n",
       "      <td>12</td>\n",
       "      <td>6751.629942</td>\n",
       "      <td>28.0</td>\n",
       "      <td>2</td>\n",
       "      <td>ultra</td>\n",
       "      <td>6</td>\n",
       "      <td>0</td>\n",
       "      <td>199</td>\n",
       "      <td>367.0</td>\n",
       "    </tr>\n",
       "    <tr>\n",
       "      <th>6</th>\n",
       "      <td>6</td>\n",
       "      <td>2</td>\n",
       "      <td>3</td>\n",
       "      <td>10187.723006</td>\n",
       "      <td>63.0</td>\n",
       "      <td>3</td>\n",
       "      <td>ultra</td>\n",
       "      <td>6</td>\n",
       "      <td>0</td>\n",
       "      <td>199</td>\n",
       "      <td>577.0</td>\n",
       "    </tr>\n",
       "    <tr>\n",
       "      <th>7</th>\n",
       "      <td>7</td>\n",
       "      <td>2</td>\n",
       "      <td>4</td>\n",
       "      <td>6164.381824</td>\n",
       "      <td>40.0</td>\n",
       "      <td>2</td>\n",
       "      <td>ultra</td>\n",
       "      <td>6</td>\n",
       "      <td>0</td>\n",
       "      <td>199</td>\n",
       "      <td>439.0</td>\n",
       "    </tr>\n",
       "    <tr>\n",
       "      <th>8</th>\n",
       "      <td>8</td>\n",
       "      <td>2</td>\n",
       "      <td>6</td>\n",
       "      <td>3255.338202</td>\n",
       "      <td>14.0</td>\n",
       "      <td>1</td>\n",
       "      <td>ultra</td>\n",
       "      <td>6</td>\n",
       "      <td>0</td>\n",
       "      <td>199</td>\n",
       "      <td>283.0</td>\n",
       "    </tr>\n",
       "    <tr>\n",
       "      <th>9</th>\n",
       "      <td>9</td>\n",
       "      <td>2</td>\n",
       "      <td>7</td>\n",
       "      <td>6780.722964</td>\n",
       "      <td>48.0</td>\n",
       "      <td>2</td>\n",
       "      <td>ultra</td>\n",
       "      <td>6</td>\n",
       "      <td>0</td>\n",
       "      <td>199</td>\n",
       "      <td>487.0</td>\n",
       "    </tr>\n",
       "    <tr>\n",
       "      <th>10</th>\n",
       "      <td>10</td>\n",
       "      <td>2</td>\n",
       "      <td>8</td>\n",
       "      <td>923.007439</td>\n",
       "      <td>7.0</td>\n",
       "      <td>1</td>\n",
       "      <td>ultra</td>\n",
       "      <td>6</td>\n",
       "      <td>0</td>\n",
       "      <td>199</td>\n",
       "      <td>241.0</td>\n",
       "    </tr>\n",
       "    <tr>\n",
       "      <th>11</th>\n",
       "      <td>11</td>\n",
       "      <td>2</td>\n",
       "      <td>10</td>\n",
       "      <td>2824.636598</td>\n",
       "      <td>19.0</td>\n",
       "      <td>1</td>\n",
       "      <td>ultra</td>\n",
       "      <td>6</td>\n",
       "      <td>0</td>\n",
       "      <td>199</td>\n",
       "      <td>313.0</td>\n",
       "    </tr>\n",
       "    <tr>\n",
       "      <th>12</th>\n",
       "      <td>12</td>\n",
       "      <td>2</td>\n",
       "      <td>12</td>\n",
       "      <td>3828.248580</td>\n",
       "      <td>12.0</td>\n",
       "      <td>1</td>\n",
       "      <td>ultra</td>\n",
       "      <td>6</td>\n",
       "      <td>0</td>\n",
       "      <td>199</td>\n",
       "      <td>271.0</td>\n",
       "    </tr>\n",
       "    <tr>\n",
       "      <th>13</th>\n",
       "      <td>13</td>\n",
       "      <td>3</td>\n",
       "      <td>1</td>\n",
       "      <td>3061.777147</td>\n",
       "      <td>13.0</td>\n",
       "      <td>1</td>\n",
       "      <td>ultra</td>\n",
       "      <td>6</td>\n",
       "      <td>0</td>\n",
       "      <td>199</td>\n",
       "      <td>277.0</td>\n",
       "    </tr>\n",
       "    <tr>\n",
       "      <th>14</th>\n",
       "      <td>14</td>\n",
       "      <td>3</td>\n",
       "      <td>2</td>\n",
       "      <td>5421.152016</td>\n",
       "      <td>39.0</td>\n",
       "      <td>2</td>\n",
       "      <td>ultra</td>\n",
       "      <td>6</td>\n",
       "      <td>0</td>\n",
       "      <td>199</td>\n",
       "      <td>433.0</td>\n",
       "    </tr>\n",
       "    <tr>\n",
       "      <th>15</th>\n",
       "      <td>15</td>\n",
       "      <td>3</td>\n",
       "      <td>4</td>\n",
       "      <td>2956.651632</td>\n",
       "      <td>21.0</td>\n",
       "      <td>1</td>\n",
       "      <td>ultra</td>\n",
       "      <td>6</td>\n",
       "      <td>0</td>\n",
       "      <td>199</td>\n",
       "      <td>325.0</td>\n",
       "    </tr>\n",
       "    <tr>\n",
       "      <th>16</th>\n",
       "      <td>16</td>\n",
       "      <td>3</td>\n",
       "      <td>5</td>\n",
       "      <td>9064.026918</td>\n",
       "      <td>63.0</td>\n",
       "      <td>3</td>\n",
       "      <td>ultra</td>\n",
       "      <td>6</td>\n",
       "      <td>0</td>\n",
       "      <td>199</td>\n",
       "      <td>577.0</td>\n",
       "    </tr>\n",
       "    <tr>\n",
       "      <th>17</th>\n",
       "      <td>17</td>\n",
       "      <td>3</td>\n",
       "      <td>7</td>\n",
       "      <td>10919.595403</td>\n",
       "      <td>67.0</td>\n",
       "      <td>3</td>\n",
       "      <td>ultra</td>\n",
       "      <td>6</td>\n",
       "      <td>0</td>\n",
       "      <td>199</td>\n",
       "      <td>601.0</td>\n",
       "    </tr>\n",
       "    <tr>\n",
       "      <th>18</th>\n",
       "      <td>18</td>\n",
       "      <td>3</td>\n",
       "      <td>9</td>\n",
       "      <td>2891.012822</td>\n",
       "      <td>23.0</td>\n",
       "      <td>1</td>\n",
       "      <td>ultra</td>\n",
       "      <td>6</td>\n",
       "      <td>0</td>\n",
       "      <td>199</td>\n",
       "      <td>337.0</td>\n",
       "    </tr>\n",
       "    <tr>\n",
       "      <th>19</th>\n",
       "      <td>19</td>\n",
       "      <td>3</td>\n",
       "      <td>12</td>\n",
       "      <td>2593.381928</td>\n",
       "      <td>13.0</td>\n",
       "      <td>1</td>\n",
       "      <td>ultra</td>\n",
       "      <td>6</td>\n",
       "      <td>0</td>\n",
       "      <td>199</td>\n",
       "      <td>277.0</td>\n",
       "    </tr>\n",
       "  </tbody>\n",
       "</table>\n",
       "</div>"
      ],
      "text/plain": [
       "    index  user_id  month  distance_sum  duration_sum  duration_count  \\\n",
       "0       0        1      1   7027.511294          42.0               2   \n",
       "1       1        1      4    754.159807           7.0               1   \n",
       "2       2        1      8   6723.470560          46.0               2   \n",
       "3       3        1     10   5809.911100          32.0               2   \n",
       "4       4        1     11   7003.499363          56.0               3   \n",
       "5       5        1     12   6751.629942          28.0               2   \n",
       "6       6        2      3  10187.723006          63.0               3   \n",
       "7       7        2      4   6164.381824          40.0               2   \n",
       "8       8        2      6   3255.338202          14.0               1   \n",
       "9       9        2      7   6780.722964          48.0               2   \n",
       "10     10        2      8    923.007439           7.0               1   \n",
       "11     11        2     10   2824.636598          19.0               1   \n",
       "12     12        2     12   3828.248580          12.0               1   \n",
       "13     13        3      1   3061.777147          13.0               1   \n",
       "14     14        3      2   5421.152016          39.0               2   \n",
       "15     15        3      4   2956.651632          21.0               1   \n",
       "16     16        3      5   9064.026918          63.0               3   \n",
       "17     17        3      7  10919.595403          67.0               3   \n",
       "18     18        3      9   2891.012822          23.0               1   \n",
       "19     19        3     12   2593.381928          13.0               1   \n",
       "\n",
       "   subscription_type  minute_price  start_ride_price  subscription_fee  \\\n",
       "0              ultra             6                 0               199   \n",
       "1              ultra             6                 0               199   \n",
       "2              ultra             6                 0               199   \n",
       "3              ultra             6                 0               199   \n",
       "4              ultra             6                 0               199   \n",
       "5              ultra             6                 0               199   \n",
       "6              ultra             6                 0               199   \n",
       "7              ultra             6                 0               199   \n",
       "8              ultra             6                 0               199   \n",
       "9              ultra             6                 0               199   \n",
       "10             ultra             6                 0               199   \n",
       "11             ultra             6                 0               199   \n",
       "12             ultra             6                 0               199   \n",
       "13             ultra             6                 0               199   \n",
       "14             ultra             6                 0               199   \n",
       "15             ultra             6                 0               199   \n",
       "16             ultra             6                 0               199   \n",
       "17             ultra             6                 0               199   \n",
       "18             ultra             6                 0               199   \n",
       "19             ultra             6                 0               199   \n",
       "\n",
       "    monthly_revenue  \n",
       "0             451.0  \n",
       "1             241.0  \n",
       "2             475.0  \n",
       "3             391.0  \n",
       "4             535.0  \n",
       "5             367.0  \n",
       "6             577.0  \n",
       "7             439.0  \n",
       "8             283.0  \n",
       "9             487.0  \n",
       "10            241.0  \n",
       "11            313.0  \n",
       "12            271.0  \n",
       "13            277.0  \n",
       "14            433.0  \n",
       "15            325.0  \n",
       "16            577.0  \n",
       "17            601.0  \n",
       "18            337.0  \n",
       "19            277.0  "
      ]
     },
     "metadata": {},
     "output_type": "display_data"
    }
   ],
   "source": [
    "# Считаем сколько принес каждый пользователь\n",
    "grouped_data['monthly_revenue'] = grouped_data['start_ride_price'] * grouped_data['duration_count'] + grouped_data['minute_price'] * grouped_data['duration_sum'] + grouped_data['subscription_fee']\n",
    "\n",
    "display(grouped_data.head(20))\n"
   ]
  },
  {
   "cell_type": "markdown",
   "id": "d93e6460",
   "metadata": {},
   "source": [
    "В столбце monthly_revenue мы можем посмотреть выручку по каждому пользователю. Ежемесячно пользователи расходуют на сервис от 200 до 500 рублей."
   ]
  },
  {
   "cell_type": "markdown",
   "id": "c74c2eb5",
   "metadata": {},
   "source": [
    "#### Шаг 6. Проверка гипотез"
   ]
  },
  {
   "cell_type": "markdown",
   "id": "2f2f3faf",
   "metadata": {},
   "source": [
    "Продакт-менеджеры сервиса хотят увеличить количество пользователей с подпиской. Для этого они будут проводить различные акции, но сначала нужно выяснить несколько важных моментов."
   ]
  },
  {
   "cell_type": "markdown",
   "id": "3f42c2f1",
   "metadata": {},
   "source": [
    "6.1 Важно понять, тратят ли пользователи с подпиской больше времени на поездки? Если да, то пользователи с подпиской могут быть «выгоднее» для компании. Проверим гипотезу. Используем исходные данные о продолжительности каждой сессии — отдельно для подписчиков и тех, у кого нет подписки."
   ]
  },
  {
   "cell_type": "markdown",
   "id": "79115885",
   "metadata": {},
   "source": [
    "   Для проведения проверок гипотез о том, что пользователи проводят больше времени с подпиской в поездке, можно применить статистические методы. \n",
    "В качестве нулевой гипотезы сформулируем утверждение, что пользователи с подпиской и без подписки тратят одинаковое количество времени в поездках. \n",
    "Альтернативная гипотеза будет заключаться в том, что пользователи с подпиской проводят больше времени в поездках.\n",
    "   Для проведения проверок гипотезы выберем статистический уровень открытости, например, α=0,05. Затем используем соответствующий статистический тест, такой как t-тест для независимого выбора."
   ]
  },
  {
   "cell_type": "code",
   "execution_count": 27,
   "id": "5cf129e2",
   "metadata": {
    "scrolled": true
   },
   "outputs": [
    {
     "name": "stdout",
     "output_type": "stream",
     "text": [
      "Отвергаем нулевую гипотезу: пользователи с подпиской в целом проводят значительно больше времени в поездках, чем пользователи без подписки.\n"
     ]
    }
   ],
   "source": [
    "# Получение общей продолжительности поездок для пользователей с подпиской и без подписки\n",
    "duration_subscribers = df_ultra['duration']\n",
    "duration_non_subscribers = df_free['duration']\n",
    "\n",
    "# Проведение статистического теста\n",
    "t_statistic, p_value = st.ttest_ind(duration_subscribers, duration_non_subscribers, alternative='greater')\n",
    "\n",
    "# Заданный уровень значимости\n",
    "alpha = 0.05\n",
    "\n",
    "# Вывод результатов гипотезы\n",
    "if p_value < alpha:\n",
    "    print(\"Отвергаем нулевую гипотезу: пользователи с подпиской в целом проводят значительно больше времени в поездках, чем пользователи без подписки.\")\n",
    "else:\n",
    "    print(\"Не отвергаем нулевую гипотезу: нет значительных различий во времени поездок между пользователями с подпиской и пользователями без подписки.\")\n"
   ]
  },
  {
   "cell_type": "code",
   "execution_count": 28,
   "id": "dae4fb45",
   "metadata": {},
   "outputs": [
    {
     "name": "stdout",
     "output_type": "stream",
     "text": [
      "Средняя продолжительность поездок у пользователей с подпиской:  18.54198516280583\n",
      "Средняя продолжительность поездок у пользователей без подписки:  17.39090929866399\n"
     ]
    }
   ],
   "source": [
    "# Вычисление среднего значения продолжительности поездок для каждой категории\n",
    "mean_duration_subscribers = duration_subscribers.mean()\n",
    "mean_duration_non_subscribers = duration_non_subscribers.mean()\n",
    "\n",
    "# Вывод средних значений\n",
    "print(\"Средняя продолжительность поездок у пользователей с подпиской: \", mean_duration_subscribers)\n",
    "print(\"Средняя продолжительность поездок у пользователей без подписки: \", mean_duration_non_subscribers)"
   ]
  },
  {
   "cell_type": "markdown",
   "id": "8c74d931",
   "metadata": {},
   "source": [
    "6.2 Расстояние одной поездки в 3130 метров — оптимальное с точки зрения износа самоката. Можно ли сказать, что среднее расстояние, которое проезжают пользователи с подпиской за одну поездку, не превышает 3130 метров? Проверим гипотезу и сделаем выводы.\n",
    "В качестве нулевой гипотезы сформулируем утверждение, что среднее расстояние, которое проезжают пользователи с подпиской за одну поездку, равно 3130 метров\n",
    "Альтернативная гипотеза будет заключаться в том, что среднее расстояние, которое проезжают пользователи с подпиской за одну поездку, превышает 3130 метров"
   ]
  },
  {
   "cell_type": "code",
   "execution_count": 29,
   "id": "fa1b0514",
   "metadata": {},
   "outputs": [
    {
     "name": "stdout",
     "output_type": "stream",
     "text": [
      "Гипотеза не отвергается: среднее расстояние, которое проезжают пользователи с подпиской за одну поездку, не превышает 3130 метров.\n"
     ]
    }
   ],
   "source": [
    "# Выборка расстояний пользователей с подпиской\n",
    "distance_subscribers = df_ultra['distance']\n",
    "\n",
    "# Проведение одновыборочного t-теста\n",
    "t_statistic, p_value = st.ttest_1samp(distance_subscribers, 3130, alternative='greater')\n",
    "\n",
    "# Вывод результатов\n",
    "alpha = 0.05\n",
    "if p_value < alpha:\n",
    "    print(\"Гипотеза отвергается: среднее расстояние, которое проезжают пользователи с подпиской за одну поездку, превышает 3130 метров.\")\n",
    "else:\n",
    "    print(\"Гипотеза не отвергается: среднее расстояние, которое проезжают пользователи с подпиской за одну поездку, не превышает 3130 метров.\")\n",
    "\n"
   ]
  },
  {
   "cell_type": "markdown",
   "id": "2d7d1fd5",
   "metadata": {},
   "source": [
    "6.3 Проверим гипотезу о том, будет ли помесячная выручка от пользователей с подпиской по месяцам выше, чем выручка от пользователей без подписки. Сделаем вывод.\n",
    "Нулевая гипотеза будет состоять в предположении о том, что помесячная выручка от пользователей с подпиской по месяцам не отличается от выручки от пользователей без подписки.\n",
    "Согласно альтернативной гипотезе, мы считаем, что помесячная выручка от пользователей с подпиской по месяцам выше, чем выручка от пользователей без подписки"
   ]
  },
  {
   "cell_type": "code",
   "execution_count": 30,
   "id": "7543952b",
   "metadata": {},
   "outputs": [
    {
     "name": "stdout",
     "output_type": "stream",
     "text": [
      "Помесячная выручка от пользователей с подпиской по месяцам:\n",
      "0       451.0\n",
      "1       241.0\n",
      "2       475.0\n",
      "3       391.0\n",
      "4       535.0\n",
      "        ...  \n",
      "4528    301.0\n",
      "4529    469.0\n",
      "4530    385.0\n",
      "4531    295.0\n",
      "4532    355.0\n",
      "Name: monthly_revenue, Length: 4533, dtype: float64\n",
      "\n",
      "Помесячная выручка от пользователей без подписки:\n",
      "4533     170.0\n",
      "4534     962.0\n",
      "4535     202.0\n",
      "4536     178.0\n",
      "4537     332.0\n",
      "         ...  \n",
      "11326    308.0\n",
      "11327    484.0\n",
      "11328    234.0\n",
      "11329    824.0\n",
      "11330    178.0\n",
      "Name: monthly_revenue, Length: 6798, dtype: float64\n",
      "Средняя помесячная выручка от пользователей с подпиской по месяцам:\n",
      "362.7921906022502\n",
      "\n",
      "Средняя помесячная выручка от пользователей без подписки:\n",
      "328.6413651073845\n",
      "\n",
      "p-value: 1.8850394384715216e-31\n",
      "Помесячная выручка от пользователей с подпиской по месяцам выше, чем выручка от пользователей без подписки.\n"
     ]
    }
   ],
   "source": [
    "# Выберите нужные столбцы для анализа\n",
    "revenue_subscribers = grouped_data.query('subscription_type == \"ultra\"')['monthly_revenue']\n",
    "revenue_non_subscribers = grouped_data.query('subscription_type == \"free\"')['monthly_revenue']\n",
    "\n",
    "# Проверка выборок перед применением статистического теста\n",
    "print(\"Помесячная выручка от пользователей с подпиской по месяцам:\")\n",
    "print(revenue_subscribers)\n",
    "print(\"\\nПомесячная выручка от пользователей без подписки:\")\n",
    "print(revenue_non_subscribers)\n",
    "\n",
    "revenue_subscribers_mean = revenue_subscribers.mean()\n",
    "print(\"Средняя помесячная выручка от пользователей с подпиской по месяцам:\")\n",
    "print(revenue_subscribers_mean)\n",
    "\n",
    "revenue_non_subscribers_mean = revenue_non_subscribers.mean()\n",
    "print(\"\\nСредняя помесячная выручка от пользователей без подписки:\")\n",
    "print(revenue_non_subscribers_mean)\n",
    "\n",
    "# Проведение статистического теста\n",
    "t_statistic, p_value = st.ttest_ind(revenue_subscribers, revenue_non_subscribers, alternative='greater')\n",
    "\n",
    "# Заданный уровень значимости\n",
    "alpha = 0.05\n",
    "\n",
    "# Вывод p-value\n",
    "print(\"\\np-value:\", p_value)\n",
    "\n",
    "# Вывод результатов гипотезы\n",
    "if p_value < alpha:\n",
    "    print(\"Помесячная выручка от пользователей с подпиской по месяцам выше, чем выручка от пользователей без подписки.\")\n",
    "else:\n",
    "    print(\"Помесячная выручка от пользователей с подпиской по месяцам не выше, чем выручка от пользователей без подписки.\")\n"
   ]
  },
  {
   "cell_type": "markdown",
   "id": "d5cb2def",
   "metadata": {},
   "source": [
    "Помесячная выручка от пользователей с подпиской по месяцам выше, чем выручка от пользователей без подписки. Исходя из среднего по всем представленным месяцам разница составляет 38р, т.е чуть меньше 10% от выручки по подписке."
   ]
  },
  {
   "cell_type": "markdown",
   "id": "dd6efa1a",
   "metadata": {},
   "source": [
    "6.4 Представим такую ситуацию: техническая команда сервиса обновила сервера, с которыми взаимодействует мобильное приложение. Она надеется, что из-за этого количество обращений в техподдержку значимо снизилось. Некоторый файл содержит для каждого пользователя данные о количестве обращений до обновления и после него. Какой тест мне понадобился бы для проверки этой гипотезы?"
   ]
  },
  {
   "cell_type": "markdown",
   "id": "ea130518",
   "metadata": {},
   "source": [
    "  Для проверки гипотезы о том, изменилось ли количество обращений в техподдержку в результате обновления серверов, можно использовать парный t-тест для зависимых выборок (paired t-test) или непараметрический тест различий (например, тест знаковых рангов Уилкоксона или тест знаков).\n",
    " Парный t-тест для зависимых выборок может быть использован, если данные в файле представлены в парах до и после обновления для каждого пользователя. Парный t-тест сравнивает средние значения двух зависимых выборок для одной и той же группы. Если данные не удовлетворяют предпосылкам для применения парного t-теста (например, распределение данных имеет ярко выраженную асимметрию или нарушение нормальности), можно вместо этого использовать непараметрический тест различий, такой как тест Уилкоксона или тест знаков."
   ]
  },
  {
   "cell_type": "markdown",
   "id": "f7ec91e8",
   "metadata": {},
   "source": [
    "Для проверки гипотезы о том, что количество обращений в техподдержку значимо снизилось после обновления серверов, можно использовать тест на связанные выборки, такой как тест на связанные статистики t-критерия (paired t-test) из библиотеки scipy.stats."
   ]
  },
  {
   "cell_type": "markdown",
   "id": "d8e8b734",
   "metadata": {},
   "source": [
    "Для проверки гипотезы о значимом снижении количества обращений в техподдержку после обновления серверов рекомендуется использовать тест на связанные статистики t-критерия (paired t-test). \n",
    "В коде используется функция ttest_rel() из модуля scipy.stats. Перед тестом необходимо создать два массива данных: before_update (данные до обновления серверов) и after_update (данные после обновления серверов). Результаты теста выводятся на основе сравнения p-значения с уровнем значимости alpha. Если p-значение меньше alpha, то нулевая гипотеза отвергается, говоря о значимом снижении количества обращений в техподдержку после обновления серверов. В противном случае, нулевая гипотеза не отвергается."
   ]
  },
  {
   "cell_type": "markdown",
   "id": "acd37edd",
   "metadata": {},
   "source": [
    "## Общий вывод"
   ]
  },
  {
   "cell_type": "markdown",
   "id": "d7b6e0e9",
   "metadata": {},
   "source": [
    "**Краткий обзор проведенной работы**\n",
    "   Данные в файле были обработанны: проверены данные на пропуски,дубликаты, рассчитанны дополнительные данные по выручке по каждому пользователю, количеству поездок и подписках. Потребовалось также изменить тип данных по дате на дататайм.\n",
    "\n",
    "   Проведен исследовательский анализ по частота встречаемости городов, соотношение пользователей с подпиской и без подписки, возраст пользователей, расстояние, которое пользователь преодолел за одну поездку и продолжительности поездок: \n",
    "На данный момент в сервисе больше пользователей без подписки.\n",
    "Средний возраст подписчиков от 20-30 лет. Каждый подписчик тратит ежемесячно от 200-500р. \n",
    "Средняя длительность поездки 17 минут.Самая длительная - 40 минут. Я бы сказала, что расстояние и время поездки не очень сильно коррелируются между собой. Все передвигаются с разной скоростью и разными целями.\n",
    "Чаще всего пользуются сервисом в Пятигорске, реже всего в Москве. Считаю, что в Москве пользуются реже, так как требуется учитывать сам тепм города, который располагает к переждвижению либо на общ. транспорте либо на личном. Мало кому приятно передвигаться по городу на самокате, при сильном движении автотранспорта. Петербург хоть и город, который не уступает Москве по трафику своей архитектурой больше располагает к не спешной прогулке на самокате.\n",
    "Самое частое время поездки от 10 минут до 20. \n",
    "По бесплатной подписке расстояние и частота больше, чем по платной.\n",
    "\n",
    "**Главные выводы:**\n",
    "Пользователи с подпиской не являются более выгодными для компании. Так как из проведенных исследований мы видим, что сервисом пользуется больше людей без подписки.\n",
    " Подписчики в среднем не тратят больше времени на поездки, чем пользователи без подписки. \n",
    " Среднее расстояние, которое проезжают пользователи с подпиской за одну поездку, не превышает 3130 метров, т.е. оптимальное расстояние одной поездки с точки зрения износа самоката.\n",
    " Помесячная выручка от пользователей с подпиской по месяцам выше, чем выручка от пользователей без подписки.\n",
    " \n",
    "**Рекомендации:**\n",
    "Убедитесь, что вы регулярно проверяете и обновляете ваши данные. Новые данные могут содержать дубликаты или пропущенные значения, поэтому важно сохранять актуальность и надежность данных."
   ]
  },
  {
   "cell_type": "markdown",
   "id": "ef244dbc",
   "metadata": {},
   "source": [
    "#### Шаг 7. Распределения"
   ]
  },
  {
   "cell_type": "markdown",
   "id": "56bbbff2",
   "metadata": {},
   "source": [
    "  Отделу маркетинга GoFast поставили задачу: нужно провести акцию с раздачей промокодов на один бесплатный месяц подписки, в рамках которой как минимум 100 существующих клиентов должны продлить эту подписку. То есть по завершении периода действия подписки пользователь может либо отказаться от неё, либо продлить, совершив соответствующий платёж.\n",
    "  Эта акция уже проводилась ранее и по итогу выяснилось, что после бесплатного пробного периода подписку продлевают 10 % пользователей. Выясним, какое минимальное количество промокодов нужно разослать, чтобы вероятность не выполнить план была примерно 5 %. Подберем параметры распределения, описывающего эту ситуацию, построем график распределения и сформулируем ответ на вопрос о количестве промокодов."
   ]
  },
  {
   "cell_type": "code",
   "execution_count": 31,
   "id": "09f1cfda",
   "metadata": {},
   "outputs": [
    {
     "name": "stdout",
     "output_type": "stream",
     "text": [
      "Минимальное количество промокодов: 1161\n"
     ]
    },
    {
     "data": {
      "image/png": "[encoded data removed]",
      "text/plain": [
       "<Figure size 432x288 with 1 Axes>"
      ]
     },
     "metadata": {
      "needs_background": "light"
     },
     "output_type": "display_data"
    }
   ],
   "source": [
    "# Заданные параметры\n",
    "p = 0.1\n",
    "desired_prob = 0.05\n",
    "\n",
    "n = 100  # начальное значение для параметра n\n",
    "prob = binom.cdf(99, n, p)  # исходная вероятность не выполнить план\n",
    "\n",
    "while prob > desired_prob:\n",
    "    n += 1\n",
    "    prob = binom.cdf(99, n, p)\n",
    "\n",
    "print(\"Минимальное количество промокодов:\", n)\n",
    "\n",
    "# Построение графика распределения\n",
    "x = np.arange(0, n+1)\n",
    "y = binom.pmf(x, n, p)\n",
    "plt.bar(x, y)\n",
    "plt.xlabel(\"Количество продливших подписку\")\n",
    "plt.ylabel(\"Вероятность\")\n",
    "plt.title(\"Биномиальное распределение\")\n",
    "plt.show()"
   ]
  },
  {
   "cell_type": "markdown",
   "id": "6d77d54b",
   "metadata": {},
   "source": [
    "Отдел маркетинга рассылает клиентам push-уведомления в мобильном приложении. Клиенты могут открыть его или не открывать. Известно, что уведомления открывают около 40 % получивших клиентов. Отдел планирует разослать 1 млн уведомлений. С помощью аппроксимации построем примерный график распределения и оценим вероятность того, что уведомление откроют не более 399,5 тыс. пользователей."
   ]
  },
  {
   "cell_type": "code",
   "execution_count": 32,
   "id": "a3dbbcb0",
   "metadata": {},
   "outputs": [
    {
     "name": "stdout",
     "output_type": "stream",
     "text": [
      "Вероятность открытия уведомления не более 399,5 тыс. пользователей: 0.15371708296369768\n"
     ]
    }
   ],
   "source": [
    "# Количество получивших клиентов (число испытаний)\n",
    "n = 1000000\n",
    "\n",
    "# Вероятность открытия уведомления (вероятность успеха)\n",
    "p = 0.4\n",
    "\n",
    "# Среднее значение биномиального распределения\n",
    "mean = n * p\n",
    "\n",
    "# Стандартное отклонение биномиального распределения\n",
    "std = (n * p * (1 - p)) ** 0.5\n",
    "\n",
    "# Оценка вероятности открытия не более 399,5 тыс. пользователей\n",
    "prob = st.norm.cdf(399500, mean, std)\n",
    "\n",
    "# Вывод результатов\n",
    "print(\"Вероятность открытия уведомления не более 399,5 тыс. пользователей:\", prob)"
   ]
  }
 ],
 "metadata": {
  "ExecuteTimeLog": [
   {
    "duration": 1452,
    "start_time": "2023-09-20T10:28:57.981Z"
   },
   {
    "duration": 81,
    "start_time": "2023-09-20T10:29:05.358Z"
   },
   {
    "duration": 212,
    "start_time": "2023-09-20T10:29:27.829Z"
   },
   {
    "duration": 77,
    "start_time": "2023-09-20T10:29:30.657Z"
   },
   {
    "duration": 13,
    "start_time": "2023-09-20T10:31:48.184Z"
   },
   {
    "duration": 7,
    "start_time": "2023-09-20T10:32:37.058Z"
   },
   {
    "duration": 77,
    "start_time": "2023-09-20T10:34:15.704Z"
   },
   {
    "duration": 1214,
    "start_time": "2023-09-20T10:34:26.170Z"
   },
   {
    "duration": 75,
    "start_time": "2023-09-20T10:34:27.386Z"
   },
   {
    "duration": 9,
    "start_time": "2023-09-20T10:34:27.462Z"
   },
   {
    "duration": 5,
    "start_time": "2023-09-20T10:35:12.585Z"
   },
   {
    "duration": 73,
    "start_time": "2023-09-20T10:35:34.280Z"
   },
   {
    "duration": 5,
    "start_time": "2023-09-20T10:35:39.223Z"
   },
   {
    "duration": 6,
    "start_time": "2023-09-20T10:42:34.284Z"
   },
   {
    "duration": 1185,
    "start_time": "2023-09-20T10:43:00.726Z"
   },
   {
    "duration": 77,
    "start_time": "2023-09-20T10:43:01.913Z"
   },
   {
    "duration": 44,
    "start_time": "2023-09-20T10:43:01.992Z"
   },
   {
    "duration": 78,
    "start_time": "2023-09-20T10:43:24.486Z"
   },
   {
    "duration": 9,
    "start_time": "2023-09-20T10:43:27.541Z"
   },
   {
    "duration": 1199,
    "start_time": "2023-09-20T10:44:17.902Z"
   },
   {
    "duration": 71,
    "start_time": "2023-09-20T10:44:19.103Z"
   },
   {
    "duration": 29,
    "start_time": "2023-09-20T10:44:19.176Z"
   },
   {
    "duration": 102,
    "start_time": "2023-09-20T10:53:25.900Z"
   },
   {
    "duration": 8,
    "start_time": "2023-09-20T10:53:32.219Z"
   },
   {
    "duration": 16,
    "start_time": "2023-09-20T10:53:34.653Z"
   },
   {
    "duration": 8,
    "start_time": "2023-09-20T10:54:44.430Z"
   },
   {
    "duration": 1175,
    "start_time": "2023-09-20T10:58:22.211Z"
   },
   {
    "duration": 75,
    "start_time": "2023-09-20T10:58:23.388Z"
   },
   {
    "duration": 13,
    "start_time": "2023-09-20T10:58:23.465Z"
   },
   {
    "duration": 1780,
    "start_time": "2023-09-20T10:58:23.480Z"
   },
   {
    "duration": 0,
    "start_time": "2023-09-20T10:58:25.262Z"
   },
   {
    "duration": 75,
    "start_time": "2023-09-20T10:59:16.911Z"
   },
   {
    "duration": 1256,
    "start_time": "2023-09-20T10:59:44.124Z"
   },
   {
    "duration": 71,
    "start_time": "2023-09-20T10:59:45.382Z"
   },
   {
    "duration": 25,
    "start_time": "2023-09-20T10:59:45.455Z"
   },
   {
    "duration": 67,
    "start_time": "2023-09-20T10:59:45.482Z"
   },
   {
    "duration": 105,
    "start_time": "2023-09-20T10:59:45.551Z"
   },
   {
    "duration": 1212,
    "start_time": "2023-09-20T11:03:27.984Z"
   },
   {
    "duration": 69,
    "start_time": "2023-09-20T11:03:29.198Z"
   },
   {
    "duration": 28,
    "start_time": "2023-09-20T11:03:29.269Z"
   },
   {
    "duration": 8,
    "start_time": "2023-09-20T11:03:29.299Z"
   },
   {
    "duration": 12,
    "start_time": "2023-09-20T11:03:29.309Z"
   },
   {
    "duration": 11,
    "start_time": "2023-09-20T11:04:31.538Z"
   },
   {
    "duration": 1163,
    "start_time": "2023-09-20T11:06:25.830Z"
   },
   {
    "duration": 71,
    "start_time": "2023-09-20T11:06:26.995Z"
   },
   {
    "duration": 0,
    "start_time": "2023-09-20T11:06:27.068Z"
   },
   {
    "duration": 0,
    "start_time": "2023-09-20T11:06:27.069Z"
   },
   {
    "duration": 0,
    "start_time": "2023-09-20T11:06:27.070Z"
   },
   {
    "duration": 1215,
    "start_time": "2023-09-20T11:07:23.081Z"
   },
   {
    "duration": 75,
    "start_time": "2023-09-20T11:07:24.299Z"
   },
   {
    "duration": 11,
    "start_time": "2023-09-20T11:07:24.376Z"
   },
   {
    "duration": 1820,
    "start_time": "2023-09-20T11:07:24.389Z"
   },
   {
    "duration": 0,
    "start_time": "2023-09-20T11:07:26.212Z"
   },
   {
    "duration": 74,
    "start_time": "2023-09-20T11:07:56.471Z"
   },
   {
    "duration": 1240,
    "start_time": "2023-09-20T11:08:29.347Z"
   },
   {
    "duration": 77,
    "start_time": "2023-09-20T11:08:30.589Z"
   },
   {
    "duration": 281,
    "start_time": "2023-09-20T11:08:30.668Z"
   },
   {
    "duration": 92,
    "start_time": "2023-09-20T11:08:30.950Z"
   },
   {
    "duration": 208,
    "start_time": "2023-09-20T11:08:31.044Z"
   },
   {
    "duration": 92,
    "start_time": "2023-09-20T11:11:31.461Z"
   },
   {
    "duration": 12,
    "start_time": "2023-09-20T11:11:35.989Z"
   },
   {
    "duration": 5,
    "start_time": "2023-09-20T11:13:39.256Z"
   },
   {
    "duration": 1194,
    "start_time": "2023-09-20T11:14:07.738Z"
   },
   {
    "duration": 70,
    "start_time": "2023-09-20T11:14:08.935Z"
   },
   {
    "duration": 14,
    "start_time": "2023-09-20T11:14:09.007Z"
   },
   {
    "duration": 8,
    "start_time": "2023-09-20T11:14:09.023Z"
   },
   {
    "duration": 16,
    "start_time": "2023-09-20T11:14:09.033Z"
   },
   {
    "duration": 11,
    "start_time": "2023-09-20T11:17:21.929Z"
   },
   {
    "duration": 1231,
    "start_time": "2023-09-20T11:18:48.014Z"
   },
   {
    "duration": 80,
    "start_time": "2023-09-20T11:18:49.247Z"
   },
   {
    "duration": 15,
    "start_time": "2023-09-20T11:18:49.329Z"
   },
   {
    "duration": 49,
    "start_time": "2023-09-20T11:18:49.346Z"
   },
   {
    "duration": 18,
    "start_time": "2023-09-20T11:18:49.397Z"
   },
   {
    "duration": 11,
    "start_time": "2023-09-20T11:18:49.418Z"
   },
   {
    "duration": 78,
    "start_time": "2023-09-20T11:18:49.430Z"
   },
   {
    "duration": 78,
    "start_time": "2023-09-20T11:18:49.512Z"
   },
   {
    "duration": 1223,
    "start_time": "2023-09-20T11:26:25.583Z"
   },
   {
    "duration": 71,
    "start_time": "2023-09-20T11:26:26.809Z"
   },
   {
    "duration": 14,
    "start_time": "2023-09-20T11:26:26.882Z"
   },
   {
    "duration": 45,
    "start_time": "2023-09-20T11:26:26.899Z"
   },
   {
    "duration": 82,
    "start_time": "2023-09-20T11:26:26.946Z"
   },
   {
    "duration": 65,
    "start_time": "2023-09-20T11:26:27.030Z"
   },
   {
    "duration": 82,
    "start_time": "2023-09-20T11:26:27.097Z"
   },
   {
    "duration": 21,
    "start_time": "2023-09-20T11:26:27.181Z"
   },
   {
    "duration": 32,
    "start_time": "2023-09-20T11:26:27.204Z"
   },
   {
    "duration": 27,
    "start_time": "2023-09-20T11:26:27.238Z"
   },
   {
    "duration": 1159,
    "start_time": "2023-09-20T11:46:49.530Z"
   },
   {
    "duration": 71,
    "start_time": "2023-09-20T11:46:50.692Z"
   },
   {
    "duration": 13,
    "start_time": "2023-09-20T11:46:50.765Z"
   },
   {
    "duration": 33,
    "start_time": "2023-09-20T11:46:50.781Z"
   },
   {
    "duration": 69,
    "start_time": "2023-09-20T11:46:50.815Z"
   },
   {
    "duration": 86,
    "start_time": "2023-09-20T11:46:50.885Z"
   },
   {
    "duration": 58,
    "start_time": "2023-09-20T11:46:50.973Z"
   },
   {
    "duration": 48,
    "start_time": "2023-09-20T11:46:51.033Z"
   },
   {
    "duration": 43,
    "start_time": "2023-09-20T11:46:51.083Z"
   },
   {
    "duration": 55,
    "start_time": "2023-09-20T11:46:51.128Z"
   },
   {
    "duration": 184,
    "start_time": "2023-09-20T11:46:51.185Z"
   },
   {
    "duration": 3,
    "start_time": "2023-09-20T11:46:51.371Z"
   },
   {
    "duration": 16,
    "start_time": "2023-09-20T11:46:51.375Z"
   },
   {
    "duration": 27,
    "start_time": "2023-09-20T11:46:51.392Z"
   },
   {
    "duration": 157,
    "start_time": "2023-09-20T11:46:51.421Z"
   },
   {
    "duration": 94,
    "start_time": "2023-09-20T11:57:41.578Z"
   },
   {
    "duration": 166,
    "start_time": "2023-09-20T12:03:22.277Z"
   },
   {
    "duration": 267,
    "start_time": "2023-09-20T12:10:01.258Z"
   },
   {
    "duration": 1168,
    "start_time": "2023-09-20T12:10:16.421Z"
   },
   {
    "duration": 71,
    "start_time": "2023-09-20T12:10:17.591Z"
   },
   {
    "duration": 14,
    "start_time": "2023-09-20T12:10:17.663Z"
   },
   {
    "duration": 29,
    "start_time": "2023-09-20T12:10:17.680Z"
   },
   {
    "duration": 40,
    "start_time": "2023-09-20T12:10:17.711Z"
   },
   {
    "duration": 68,
    "start_time": "2023-09-20T12:10:17.753Z"
   },
   {
    "duration": 28,
    "start_time": "2023-09-20T12:10:17.823Z"
   },
   {
    "duration": 28,
    "start_time": "2023-09-20T12:10:17.853Z"
   },
   {
    "duration": 50,
    "start_time": "2023-09-20T12:10:17.883Z"
   },
   {
    "duration": 38,
    "start_time": "2023-09-20T12:10:17.935Z"
   },
   {
    "duration": 298,
    "start_time": "2023-09-20T12:10:17.975Z"
   },
   {
    "duration": 177,
    "start_time": "2023-09-20T12:10:18.275Z"
   },
   {
    "duration": 179,
    "start_time": "2023-09-20T12:10:18.455Z"
   },
   {
    "duration": 395,
    "start_time": "2023-09-20T12:10:18.636Z"
   },
   {
    "duration": 3,
    "start_time": "2023-09-20T12:10:19.033Z"
   },
   {
    "duration": 191,
    "start_time": "2023-09-20T12:37:55.810Z"
   },
   {
    "duration": 120,
    "start_time": "2023-09-20T12:45:20.244Z"
   },
   {
    "duration": 17,
    "start_time": "2023-09-20T12:47:18.582Z"
   },
   {
    "duration": 18,
    "start_time": "2023-09-20T12:47:22.341Z"
   },
   {
    "duration": 32,
    "start_time": "2023-09-20T12:48:14.710Z"
   },
   {
    "duration": 13,
    "start_time": "2023-09-20T12:52:22.073Z"
   },
   {
    "duration": 1979,
    "start_time": "2023-09-20T12:58:15.380Z"
   },
   {
    "duration": 149,
    "start_time": "2023-09-20T12:59:19.534Z"
   },
   {
    "duration": 88,
    "start_time": "2023-09-20T13:02:49.678Z"
   },
   {
    "duration": 147,
    "start_time": "2023-09-20T13:02:55.904Z"
   },
   {
    "duration": 1258,
    "start_time": "2023-09-21T07:29:27.854Z"
   },
   {
    "duration": 198,
    "start_time": "2023-09-21T07:29:29.114Z"
   },
   {
    "duration": 11,
    "start_time": "2023-09-21T07:29:29.313Z"
   },
   {
    "duration": 49,
    "start_time": "2023-09-21T07:29:29.325Z"
   },
   {
    "duration": 16,
    "start_time": "2023-09-21T07:29:29.375Z"
   },
   {
    "duration": 24,
    "start_time": "2023-09-21T07:29:29.393Z"
   },
   {
    "duration": 37,
    "start_time": "2023-09-21T07:29:29.419Z"
   },
   {
    "duration": 23,
    "start_time": "2023-09-21T07:29:29.457Z"
   },
   {
    "duration": 56,
    "start_time": "2023-09-21T07:29:29.482Z"
   },
   {
    "duration": 23,
    "start_time": "2023-09-21T07:29:29.540Z"
   },
   {
    "duration": 185,
    "start_time": "2023-09-21T07:29:29.564Z"
   },
   {
    "duration": 79,
    "start_time": "2023-09-21T07:29:29.751Z"
   },
   {
    "duration": 157,
    "start_time": "2023-09-21T07:29:29.832Z"
   },
   {
    "duration": 209,
    "start_time": "2023-09-21T07:29:29.991Z"
   },
   {
    "duration": 189,
    "start_time": "2023-09-21T07:29:30.201Z"
   },
   {
    "duration": 24,
    "start_time": "2023-09-21T07:29:30.391Z"
   },
   {
    "duration": 14,
    "start_time": "2023-09-21T07:29:30.417Z"
   },
   {
    "duration": 136,
    "start_time": "2023-09-21T07:29:30.433Z"
   },
   {
    "duration": 94,
    "start_time": "2023-09-21T07:29:30.571Z"
   },
   {
    "duration": 85,
    "start_time": "2023-09-21T07:30:01.847Z"
   },
   {
    "duration": 27,
    "start_time": "2023-09-21T07:30:17.195Z"
   },
   {
    "duration": 1255,
    "start_time": "2023-09-21T07:31:22.918Z"
   },
   {
    "duration": 68,
    "start_time": "2023-09-21T07:31:24.175Z"
   },
   {
    "duration": 12,
    "start_time": "2023-09-21T07:31:24.245Z"
   },
   {
    "duration": 9,
    "start_time": "2023-09-21T07:31:24.259Z"
   },
   {
    "duration": 11,
    "start_time": "2023-09-21T07:31:24.269Z"
   },
   {
    "duration": 11,
    "start_time": "2023-09-21T07:31:24.281Z"
   },
   {
    "duration": 7,
    "start_time": "2023-09-21T07:31:24.294Z"
   },
   {
    "duration": 24,
    "start_time": "2023-09-21T07:31:24.302Z"
   },
   {
    "duration": 15,
    "start_time": "2023-09-21T07:31:24.327Z"
   },
   {
    "duration": 11,
    "start_time": "2023-09-21T07:31:24.345Z"
   },
   {
    "duration": 152,
    "start_time": "2023-09-21T07:31:24.358Z"
   },
   {
    "duration": 78,
    "start_time": "2023-09-21T07:31:24.512Z"
   },
   {
    "duration": 138,
    "start_time": "2023-09-21T07:31:24.592Z"
   },
   {
    "duration": 192,
    "start_time": "2023-09-21T07:31:24.732Z"
   },
   {
    "duration": 162,
    "start_time": "2023-09-21T07:31:24.925Z"
   },
   {
    "duration": 23,
    "start_time": "2023-09-21T07:31:25.089Z"
   },
   {
    "duration": 13,
    "start_time": "2023-09-21T07:31:25.113Z"
   },
   {
    "duration": 137,
    "start_time": "2023-09-21T07:31:25.127Z"
   },
   {
    "duration": 29,
    "start_time": "2023-09-21T07:31:25.266Z"
   },
   {
    "duration": 1044,
    "start_time": "2023-09-21T07:45:05.995Z"
   },
   {
    "duration": 67,
    "start_time": "2023-09-21T07:45:07.043Z"
   },
   {
    "duration": 11,
    "start_time": "2023-09-21T07:45:07.112Z"
   },
   {
    "duration": 28,
    "start_time": "2023-09-21T07:45:07.124Z"
   },
   {
    "duration": 63,
    "start_time": "2023-09-21T07:45:07.154Z"
   },
   {
    "duration": 36,
    "start_time": "2023-09-21T07:45:07.218Z"
   },
   {
    "duration": 27,
    "start_time": "2023-09-21T07:45:07.256Z"
   },
   {
    "duration": 33,
    "start_time": "2023-09-21T07:45:07.284Z"
   },
   {
    "duration": 25,
    "start_time": "2023-09-21T07:45:07.319Z"
   },
   {
    "duration": 33,
    "start_time": "2023-09-21T07:45:07.345Z"
   },
   {
    "duration": 209,
    "start_time": "2023-09-21T07:45:07.380Z"
   },
   {
    "duration": 80,
    "start_time": "2023-09-21T07:45:07.591Z"
   },
   {
    "duration": 134,
    "start_time": "2023-09-21T07:45:07.672Z"
   },
   {
    "duration": 201,
    "start_time": "2023-09-21T07:45:07.808Z"
   },
   {
    "duration": 162,
    "start_time": "2023-09-21T07:45:08.011Z"
   },
   {
    "duration": 21,
    "start_time": "2023-09-21T07:45:08.175Z"
   },
   {
    "duration": 55,
    "start_time": "2023-09-21T07:45:08.198Z"
   },
   {
    "duration": 133,
    "start_time": "2023-09-21T07:45:08.254Z"
   },
   {
    "duration": 20,
    "start_time": "2023-09-21T07:45:08.389Z"
   },
   {
    "duration": 111,
    "start_time": "2023-09-21T07:52:38.050Z"
   },
   {
    "duration": 87,
    "start_time": "2023-09-21T07:54:18.456Z"
   },
   {
    "duration": 8,
    "start_time": "2023-09-21T07:56:32.722Z"
   },
   {
    "duration": 8,
    "start_time": "2023-09-21T08:08:37.282Z"
   },
   {
    "duration": 8,
    "start_time": "2023-09-21T08:10:37.323Z"
   },
   {
    "duration": 21,
    "start_time": "2023-09-21T08:11:14.147Z"
   },
   {
    "duration": 1107,
    "start_time": "2023-09-21T08:15:54.815Z"
   },
   {
    "duration": 73,
    "start_time": "2023-09-21T08:15:55.925Z"
   },
   {
    "duration": 16,
    "start_time": "2023-09-21T08:15:56.000Z"
   },
   {
    "duration": 19,
    "start_time": "2023-09-21T08:15:56.019Z"
   },
   {
    "duration": 20,
    "start_time": "2023-09-21T08:15:56.040Z"
   },
   {
    "duration": 49,
    "start_time": "2023-09-21T08:15:56.062Z"
   },
   {
    "duration": 20,
    "start_time": "2023-09-21T08:15:56.113Z"
   },
   {
    "duration": 29,
    "start_time": "2023-09-21T08:15:56.136Z"
   },
   {
    "duration": 22,
    "start_time": "2023-09-21T08:15:56.167Z"
   },
   {
    "duration": 22,
    "start_time": "2023-09-21T08:15:56.192Z"
   },
   {
    "duration": 197,
    "start_time": "2023-09-21T08:15:56.216Z"
   },
   {
    "duration": 107,
    "start_time": "2023-09-21T08:15:56.414Z"
   },
   {
    "duration": 154,
    "start_time": "2023-09-21T08:15:56.523Z"
   },
   {
    "duration": 214,
    "start_time": "2023-09-21T08:15:56.678Z"
   },
   {
    "duration": 190,
    "start_time": "2023-09-21T08:15:56.893Z"
   },
   {
    "duration": 24,
    "start_time": "2023-09-21T08:15:57.085Z"
   },
   {
    "duration": 11,
    "start_time": "2023-09-21T08:15:57.111Z"
   },
   {
    "duration": 146,
    "start_time": "2023-09-21T08:15:57.124Z"
   },
   {
    "duration": 19,
    "start_time": "2023-09-21T08:15:57.272Z"
   },
   {
    "duration": 92,
    "start_time": "2023-09-21T08:15:57.292Z"
   },
   {
    "duration": 2628,
    "start_time": "2023-09-21T08:24:24.748Z"
   },
   {
    "duration": 1584,
    "start_time": "2023-09-21T08:26:32.670Z"
   },
   {
    "duration": 2328,
    "start_time": "2023-09-21T08:27:12.135Z"
   },
   {
    "duration": 2319,
    "start_time": "2023-09-21T08:28:38.302Z"
   },
   {
    "duration": 1148,
    "start_time": "2023-09-21T08:33:01.043Z"
   },
   {
    "duration": 76,
    "start_time": "2023-09-21T08:33:02.193Z"
   },
   {
    "duration": 24,
    "start_time": "2023-09-21T08:33:02.271Z"
   },
   {
    "duration": 33,
    "start_time": "2023-09-21T08:33:02.297Z"
   },
   {
    "duration": 64,
    "start_time": "2023-09-21T08:33:02.331Z"
   },
   {
    "duration": 62,
    "start_time": "2023-09-21T08:33:02.396Z"
   },
   {
    "duration": 39,
    "start_time": "2023-09-21T08:33:02.460Z"
   },
   {
    "duration": 64,
    "start_time": "2023-09-21T08:33:02.501Z"
   },
   {
    "duration": 20,
    "start_time": "2023-09-21T08:33:02.566Z"
   },
   {
    "duration": 21,
    "start_time": "2023-09-21T08:33:02.588Z"
   },
   {
    "duration": 162,
    "start_time": "2023-09-21T08:33:02.611Z"
   },
   {
    "duration": 83,
    "start_time": "2023-09-21T08:33:02.774Z"
   },
   {
    "duration": 139,
    "start_time": "2023-09-21T08:33:02.858Z"
   },
   {
    "duration": 195,
    "start_time": "2023-09-21T08:33:02.998Z"
   },
   {
    "duration": 157,
    "start_time": "2023-09-21T08:33:03.194Z"
   },
   {
    "duration": 21,
    "start_time": "2023-09-21T08:33:03.353Z"
   },
   {
    "duration": 16,
    "start_time": "2023-09-21T08:33:03.375Z"
   },
   {
    "duration": 125,
    "start_time": "2023-09-21T08:33:03.392Z"
   },
   {
    "duration": 17,
    "start_time": "2023-09-21T08:33:03.519Z"
   },
   {
    "duration": 2072,
    "start_time": "2023-09-21T08:33:03.538Z"
   },
   {
    "duration": 2271,
    "start_time": "2023-09-21T08:33:50.236Z"
   },
   {
    "duration": 1907,
    "start_time": "2023-09-21T08:34:07.632Z"
   },
   {
    "duration": 5097,
    "start_time": "2023-09-21T08:38:55.666Z"
   },
   {
    "duration": 20,
    "start_time": "2023-09-21T08:39:50.181Z"
   },
   {
    "duration": 7,
    "start_time": "2023-09-21T08:42:11.958Z"
   },
   {
    "duration": 13,
    "start_time": "2023-09-21T08:45:14.767Z"
   },
   {
    "duration": 1151,
    "start_time": "2023-09-21T09:08:42.139Z"
   },
   {
    "duration": 66,
    "start_time": "2023-09-21T09:08:43.292Z"
   },
   {
    "duration": 12,
    "start_time": "2023-09-21T09:08:43.360Z"
   },
   {
    "duration": 31,
    "start_time": "2023-09-21T09:08:43.374Z"
   },
   {
    "duration": 44,
    "start_time": "2023-09-21T09:08:43.406Z"
   },
   {
    "duration": 40,
    "start_time": "2023-09-21T09:08:43.452Z"
   },
   {
    "duration": 45,
    "start_time": "2023-09-21T09:08:43.494Z"
   },
   {
    "duration": 35,
    "start_time": "2023-09-21T09:08:43.540Z"
   },
   {
    "duration": 42,
    "start_time": "2023-09-21T09:08:43.577Z"
   },
   {
    "duration": 50,
    "start_time": "2023-09-21T09:08:43.622Z"
   },
   {
    "duration": 167,
    "start_time": "2023-09-21T09:08:43.674Z"
   },
   {
    "duration": 78,
    "start_time": "2023-09-21T09:08:43.843Z"
   },
   {
    "duration": 151,
    "start_time": "2023-09-21T09:08:43.923Z"
   },
   {
    "duration": 208,
    "start_time": "2023-09-21T09:08:44.076Z"
   },
   {
    "duration": 170,
    "start_time": "2023-09-21T09:08:44.286Z"
   },
   {
    "duration": 288,
    "start_time": "2023-09-21T09:08:44.458Z"
   },
   {
    "duration": 0,
    "start_time": "2023-09-21T09:08:44.747Z"
   },
   {
    "duration": 0,
    "start_time": "2023-09-21T09:08:44.749Z"
   },
   {
    "duration": 0,
    "start_time": "2023-09-21T09:08:44.751Z"
   },
   {
    "duration": 0,
    "start_time": "2023-09-21T09:08:44.752Z"
   },
   {
    "duration": 188,
    "start_time": "2023-09-21T09:11:08.407Z"
   },
   {
    "duration": 190,
    "start_time": "2023-09-21T09:11:42.117Z"
   },
   {
    "duration": 197,
    "start_time": "2023-09-21T09:12:04.462Z"
   },
   {
    "duration": 22,
    "start_time": "2023-09-21T09:12:21.942Z"
   },
   {
    "duration": 32,
    "start_time": "2023-09-21T09:17:23.016Z"
   },
   {
    "duration": 33,
    "start_time": "2023-09-21T09:18:23.042Z"
   },
   {
    "duration": 22,
    "start_time": "2023-09-21T09:18:33.514Z"
   },
   {
    "duration": 18,
    "start_time": "2023-09-21T09:19:15.177Z"
   },
   {
    "duration": 20,
    "start_time": "2023-09-21T09:19:50.235Z"
   },
   {
    "duration": 1098,
    "start_time": "2023-09-21T09:24:26.596Z"
   },
   {
    "duration": 81,
    "start_time": "2023-09-21T09:24:27.696Z"
   },
   {
    "duration": 11,
    "start_time": "2023-09-21T09:24:27.778Z"
   },
   {
    "duration": 21,
    "start_time": "2023-09-21T09:24:27.791Z"
   },
   {
    "duration": 5,
    "start_time": "2023-09-21T09:24:27.814Z"
   },
   {
    "duration": 9,
    "start_time": "2023-09-21T09:24:27.820Z"
   },
   {
    "duration": 10,
    "start_time": "2023-09-21T09:24:27.831Z"
   },
   {
    "duration": 91,
    "start_time": "2023-09-21T09:24:27.842Z"
   },
   {
    "duration": 32,
    "start_time": "2023-09-21T09:24:27.934Z"
   },
   {
    "duration": 18,
    "start_time": "2023-09-21T09:24:27.967Z"
   },
   {
    "duration": 190,
    "start_time": "2023-09-21T09:24:27.987Z"
   },
   {
    "duration": 91,
    "start_time": "2023-09-21T09:24:28.179Z"
   },
   {
    "duration": 159,
    "start_time": "2023-09-21T09:24:28.272Z"
   },
   {
    "duration": 235,
    "start_time": "2023-09-21T09:24:28.433Z"
   },
   {
    "duration": 203,
    "start_time": "2023-09-21T09:24:28.670Z"
   },
   {
    "duration": 23,
    "start_time": "2023-09-21T09:24:28.874Z"
   },
   {
    "duration": 11,
    "start_time": "2023-09-21T09:24:28.898Z"
   },
   {
    "duration": 162,
    "start_time": "2023-09-21T09:24:28.911Z"
   },
   {
    "duration": 19,
    "start_time": "2023-09-21T09:24:29.075Z"
   },
   {
    "duration": 15,
    "start_time": "2023-09-21T09:24:29.095Z"
   },
   {
    "duration": 144,
    "start_time": "2023-09-21T09:27:45.944Z"
   },
   {
    "duration": 1057,
    "start_time": "2023-09-21T09:28:27.138Z"
   },
   {
    "duration": 67,
    "start_time": "2023-09-21T09:28:28.196Z"
   },
   {
    "duration": 12,
    "start_time": "2023-09-21T09:28:28.264Z"
   },
   {
    "duration": 13,
    "start_time": "2023-09-21T09:28:28.278Z"
   },
   {
    "duration": 12,
    "start_time": "2023-09-21T09:28:28.292Z"
   },
   {
    "duration": 18,
    "start_time": "2023-09-21T09:28:28.305Z"
   },
   {
    "duration": 20,
    "start_time": "2023-09-21T09:28:28.324Z"
   },
   {
    "duration": 14,
    "start_time": "2023-09-21T09:28:28.345Z"
   },
   {
    "duration": 10,
    "start_time": "2023-09-21T09:28:28.360Z"
   },
   {
    "duration": 34,
    "start_time": "2023-09-21T09:28:28.372Z"
   },
   {
    "duration": 184,
    "start_time": "2023-09-21T09:28:28.407Z"
   },
   {
    "duration": 75,
    "start_time": "2023-09-21T09:28:28.593Z"
   },
   {
    "duration": 147,
    "start_time": "2023-09-21T09:28:28.670Z"
   },
   {
    "duration": 211,
    "start_time": "2023-09-21T09:28:28.818Z"
   },
   {
    "duration": 177,
    "start_time": "2023-09-21T09:28:29.031Z"
   },
   {
    "duration": 22,
    "start_time": "2023-09-21T09:28:29.209Z"
   },
   {
    "duration": 20,
    "start_time": "2023-09-21T09:28:29.232Z"
   },
   {
    "duration": 124,
    "start_time": "2023-09-21T09:28:29.254Z"
   },
   {
    "duration": 18,
    "start_time": "2023-09-21T09:28:29.380Z"
   },
   {
    "duration": 44,
    "start_time": "2023-09-21T09:28:29.399Z"
   },
   {
    "duration": 15,
    "start_time": "2023-09-21T09:30:00.271Z"
   },
   {
    "duration": 93,
    "start_time": "2023-09-21T09:31:44.216Z"
   },
   {
    "duration": 19,
    "start_time": "2023-09-21T09:34:35.947Z"
   },
   {
    "duration": 17,
    "start_time": "2023-09-21T09:36:35.851Z"
   },
   {
    "duration": 14,
    "start_time": "2023-09-21T09:37:00.243Z"
   },
   {
    "duration": 14,
    "start_time": "2023-09-21T09:37:32.539Z"
   },
   {
    "duration": 31,
    "start_time": "2023-09-21T09:40:21.523Z"
   },
   {
    "duration": 15,
    "start_time": "2023-09-21T09:40:59.045Z"
   },
   {
    "duration": 14,
    "start_time": "2023-09-21T09:41:53.453Z"
   },
   {
    "duration": 25,
    "start_time": "2023-09-21T09:44:23.241Z"
   },
   {
    "duration": 20,
    "start_time": "2023-09-21T09:45:11.755Z"
   },
   {
    "duration": 25,
    "start_time": "2023-09-21T09:45:53.361Z"
   },
   {
    "duration": 16,
    "start_time": "2023-09-21T09:48:12.530Z"
   },
   {
    "duration": 17,
    "start_time": "2023-09-21T09:52:06.244Z"
   },
   {
    "duration": 12,
    "start_time": "2023-09-21T09:56:16.259Z"
   },
   {
    "duration": 4,
    "start_time": "2023-09-21T09:56:59.292Z"
   },
   {
    "duration": 4,
    "start_time": "2023-09-21T09:57:09.316Z"
   },
   {
    "duration": 16,
    "start_time": "2023-09-21T10:05:40.802Z"
   },
   {
    "duration": 21,
    "start_time": "2023-09-21T10:06:08.522Z"
   },
   {
    "duration": 1223,
    "start_time": "2023-09-21T10:06:33.771Z"
   },
   {
    "duration": 92,
    "start_time": "2023-09-21T10:06:34.996Z"
   },
   {
    "duration": 14,
    "start_time": "2023-09-21T10:06:35.091Z"
   },
   {
    "duration": 34,
    "start_time": "2023-09-21T10:06:35.106Z"
   },
   {
    "duration": 37,
    "start_time": "2023-09-21T10:06:35.142Z"
   },
   {
    "duration": 32,
    "start_time": "2023-09-21T10:06:35.180Z"
   },
   {
    "duration": 23,
    "start_time": "2023-09-21T10:06:35.214Z"
   },
   {
    "duration": 28,
    "start_time": "2023-09-21T10:06:35.239Z"
   },
   {
    "duration": 33,
    "start_time": "2023-09-21T10:06:35.269Z"
   },
   {
    "duration": 60,
    "start_time": "2023-09-21T10:06:35.304Z"
   },
   {
    "duration": 174,
    "start_time": "2023-09-21T10:06:35.371Z"
   },
   {
    "duration": 103,
    "start_time": "2023-09-21T10:06:35.549Z"
   },
   {
    "duration": 181,
    "start_time": "2023-09-21T10:06:35.655Z"
   },
   {
    "duration": 271,
    "start_time": "2023-09-21T10:06:35.839Z"
   },
   {
    "duration": 278,
    "start_time": "2023-09-21T10:06:36.113Z"
   },
   {
    "duration": 29,
    "start_time": "2023-09-21T10:06:36.393Z"
   },
   {
    "duration": 36,
    "start_time": "2023-09-21T10:06:36.425Z"
   },
   {
    "duration": 165,
    "start_time": "2023-09-21T10:06:36.466Z"
   },
   {
    "duration": 35,
    "start_time": "2023-09-21T10:06:36.632Z"
   },
   {
    "duration": 16,
    "start_time": "2023-09-21T10:06:36.676Z"
   },
   {
    "duration": 111,
    "start_time": "2023-09-21T10:09:02.874Z"
   },
   {
    "duration": 9,
    "start_time": "2023-09-21T10:10:14.358Z"
   },
   {
    "duration": 11,
    "start_time": "2023-09-21T10:10:57.673Z"
   },
   {
    "duration": 151,
    "start_time": "2023-09-21T10:13:19.400Z"
   },
   {
    "duration": 14,
    "start_time": "2023-09-21T10:13:54.701Z"
   },
   {
    "duration": 16,
    "start_time": "2023-09-21T10:29:36.070Z"
   },
   {
    "duration": 20,
    "start_time": "2023-09-21T10:34:52.087Z"
   },
   {
    "duration": 11,
    "start_time": "2023-09-21T10:40:14.714Z"
   },
   {
    "duration": 10,
    "start_time": "2023-09-21T10:41:12.698Z"
   },
   {
    "duration": 3308,
    "start_time": "2023-09-21T11:00:14.173Z"
   },
   {
    "duration": 50,
    "start_time": "2023-09-21T11:02:02.765Z"
   },
   {
    "duration": 169,
    "start_time": "2023-09-21T11:03:12.005Z"
   },
   {
    "duration": 1164,
    "start_time": "2023-09-21T11:04:57.657Z"
   },
   {
    "duration": 75,
    "start_time": "2023-09-21T11:04:58.822Z"
   },
   {
    "duration": 14,
    "start_time": "2023-09-21T11:04:58.898Z"
   },
   {
    "duration": 22,
    "start_time": "2023-09-21T11:04:58.915Z"
   },
   {
    "duration": 15,
    "start_time": "2023-09-21T11:04:58.939Z"
   },
   {
    "duration": 18,
    "start_time": "2023-09-21T11:04:58.960Z"
   },
   {
    "duration": 18,
    "start_time": "2023-09-21T11:04:58.980Z"
   },
   {
    "duration": 15,
    "start_time": "2023-09-21T11:04:59.000Z"
   },
   {
    "duration": 10,
    "start_time": "2023-09-21T11:04:59.017Z"
   },
   {
    "duration": 23,
    "start_time": "2023-09-21T11:04:59.030Z"
   },
   {
    "duration": 223,
    "start_time": "2023-09-21T11:04:59.055Z"
   },
   {
    "duration": 100,
    "start_time": "2023-09-21T11:04:59.280Z"
   },
   {
    "duration": 189,
    "start_time": "2023-09-21T11:04:59.382Z"
   },
   {
    "duration": 265,
    "start_time": "2023-09-21T11:04:59.573Z"
   },
   {
    "duration": 206,
    "start_time": "2023-09-21T11:04:59.840Z"
   },
   {
    "duration": 30,
    "start_time": "2023-09-21T11:05:00.052Z"
   },
   {
    "duration": 44,
    "start_time": "2023-09-21T11:05:00.084Z"
   },
   {
    "duration": 174,
    "start_time": "2023-09-21T11:05:00.130Z"
   },
   {
    "duration": 21,
    "start_time": "2023-09-21T11:05:00.306Z"
   },
   {
    "duration": 1085,
    "start_time": "2023-09-21T11:11:47.118Z"
   },
   {
    "duration": 88,
    "start_time": "2023-09-21T11:11:48.205Z"
   },
   {
    "duration": 13,
    "start_time": "2023-09-21T11:11:48.295Z"
   },
   {
    "duration": 8,
    "start_time": "2023-09-21T11:11:48.310Z"
   },
   {
    "duration": 32,
    "start_time": "2023-09-21T11:11:48.319Z"
   },
   {
    "duration": 20,
    "start_time": "2023-09-21T11:11:48.359Z"
   },
   {
    "duration": 25,
    "start_time": "2023-09-21T11:11:48.381Z"
   },
   {
    "duration": 20,
    "start_time": "2023-09-21T11:11:48.407Z"
   },
   {
    "duration": 30,
    "start_time": "2023-09-21T11:11:48.429Z"
   },
   {
    "duration": 13,
    "start_time": "2023-09-21T11:11:48.464Z"
   },
   {
    "duration": 164,
    "start_time": "2023-09-21T11:11:48.478Z"
   },
   {
    "duration": 89,
    "start_time": "2023-09-21T11:11:48.643Z"
   },
   {
    "duration": 186,
    "start_time": "2023-09-21T11:11:48.734Z"
   },
   {
    "duration": 242,
    "start_time": "2023-09-21T11:11:48.922Z"
   },
   {
    "duration": 224,
    "start_time": "2023-09-21T11:11:49.165Z"
   },
   {
    "duration": 36,
    "start_time": "2023-09-21T11:11:49.391Z"
   },
   {
    "duration": 32,
    "start_time": "2023-09-21T11:11:49.429Z"
   },
   {
    "duration": 154,
    "start_time": "2023-09-21T11:11:49.463Z"
   },
   {
    "duration": 31,
    "start_time": "2023-09-21T11:11:49.618Z"
   },
   {
    "duration": 263397,
    "start_time": "2023-09-21T11:11:49.651Z"
   },
   {
    "duration": 37,
    "start_time": "2023-09-21T11:20:18.767Z"
   },
   {
    "duration": 5,
    "start_time": "2023-09-21T11:22:38.879Z"
   },
   {
    "duration": 19,
    "start_time": "2023-09-21T11:22:54.704Z"
   },
   {
    "duration": 9,
    "start_time": "2023-09-21T11:25:44.889Z"
   },
   {
    "duration": 1307,
    "start_time": "2023-09-21T11:25:57.934Z"
   },
   {
    "duration": 73,
    "start_time": "2023-09-21T11:25:59.244Z"
   },
   {
    "duration": 13,
    "start_time": "2023-09-21T11:25:59.318Z"
   },
   {
    "duration": 26,
    "start_time": "2023-09-21T11:25:59.333Z"
   },
   {
    "duration": 9,
    "start_time": "2023-09-21T11:25:59.363Z"
   },
   {
    "duration": 108,
    "start_time": "2023-09-21T11:25:59.374Z"
   },
   {
    "duration": 0,
    "start_time": "2023-09-21T11:25:59.484Z"
   },
   {
    "duration": 0,
    "start_time": "2023-09-21T11:25:59.486Z"
   },
   {
    "duration": 0,
    "start_time": "2023-09-21T11:25:59.487Z"
   },
   {
    "duration": 0,
    "start_time": "2023-09-21T11:25:59.488Z"
   },
   {
    "duration": 0,
    "start_time": "2023-09-21T11:25:59.489Z"
   },
   {
    "duration": 0,
    "start_time": "2023-09-21T11:25:59.490Z"
   },
   {
    "duration": 0,
    "start_time": "2023-09-21T11:25:59.492Z"
   },
   {
    "duration": 0,
    "start_time": "2023-09-21T11:25:59.492Z"
   },
   {
    "duration": 0,
    "start_time": "2023-09-21T11:25:59.494Z"
   },
   {
    "duration": 0,
    "start_time": "2023-09-21T11:25:59.495Z"
   },
   {
    "duration": 0,
    "start_time": "2023-09-21T11:25:59.496Z"
   },
   {
    "duration": 0,
    "start_time": "2023-09-21T11:25:59.496Z"
   },
   {
    "duration": 0,
    "start_time": "2023-09-21T11:25:59.497Z"
   },
   {
    "duration": 0,
    "start_time": "2023-09-21T11:25:59.498Z"
   },
   {
    "duration": 0,
    "start_time": "2023-09-21T11:25:59.499Z"
   },
   {
    "duration": 23,
    "start_time": "2023-09-21T11:26:35.346Z"
   },
   {
    "duration": 10,
    "start_time": "2023-09-21T11:26:55.691Z"
   },
   {
    "duration": 8,
    "start_time": "2023-09-21T11:27:06.661Z"
   },
   {
    "duration": 9,
    "start_time": "2023-09-21T11:27:42.357Z"
   },
   {
    "duration": 8,
    "start_time": "2023-09-21T11:28:15.788Z"
   },
   {
    "duration": 14,
    "start_time": "2023-09-21T11:28:36.828Z"
   },
   {
    "duration": 8,
    "start_time": "2023-09-21T11:29:27.196Z"
   },
   {
    "duration": 1071,
    "start_time": "2023-09-21T11:30:44.109Z"
   },
   {
    "duration": 70,
    "start_time": "2023-09-21T11:30:45.182Z"
   },
   {
    "duration": 14,
    "start_time": "2023-09-21T11:30:45.256Z"
   },
   {
    "duration": 22,
    "start_time": "2023-09-21T11:30:45.272Z"
   },
   {
    "duration": 12,
    "start_time": "2023-09-21T11:30:45.296Z"
   },
   {
    "duration": 20,
    "start_time": "2023-09-21T11:30:45.309Z"
   },
   {
    "duration": 7,
    "start_time": "2023-09-21T11:30:45.330Z"
   },
   {
    "duration": 15,
    "start_time": "2023-09-21T11:30:45.338Z"
   },
   {
    "duration": 17,
    "start_time": "2023-09-21T11:30:45.355Z"
   },
   {
    "duration": 22,
    "start_time": "2023-09-21T11:30:45.374Z"
   },
   {
    "duration": 184,
    "start_time": "2023-09-21T11:30:45.397Z"
   },
   {
    "duration": 84,
    "start_time": "2023-09-21T11:30:45.582Z"
   },
   {
    "duration": 149,
    "start_time": "2023-09-21T11:30:45.667Z"
   },
   {
    "duration": 221,
    "start_time": "2023-09-21T11:30:45.818Z"
   },
   {
    "duration": 208,
    "start_time": "2023-09-21T11:30:46.041Z"
   },
   {
    "duration": 31,
    "start_time": "2023-09-21T11:30:46.251Z"
   },
   {
    "duration": 28,
    "start_time": "2023-09-21T11:30:46.284Z"
   },
   {
    "duration": 144,
    "start_time": "2023-09-21T11:30:46.314Z"
   },
   {
    "duration": 19,
    "start_time": "2023-09-21T11:30:46.459Z"
   },
   {
    "duration": 1386,
    "start_time": "2023-09-22T12:41:56.818Z"
   },
   {
    "duration": 207,
    "start_time": "2023-09-22T12:41:58.207Z"
   },
   {
    "duration": 16,
    "start_time": "2023-09-22T12:41:58.416Z"
   },
   {
    "duration": 27,
    "start_time": "2023-09-22T12:41:58.434Z"
   },
   {
    "duration": 29,
    "start_time": "2023-09-22T12:41:58.463Z"
   },
   {
    "duration": 27,
    "start_time": "2023-09-22T12:41:58.494Z"
   },
   {
    "duration": 42,
    "start_time": "2023-09-22T12:41:58.523Z"
   },
   {
    "duration": 17,
    "start_time": "2023-09-22T12:41:58.567Z"
   },
   {
    "duration": 20,
    "start_time": "2023-09-22T12:41:58.586Z"
   },
   {
    "duration": 47,
    "start_time": "2023-09-22T12:41:58.608Z"
   },
   {
    "duration": 217,
    "start_time": "2023-09-22T12:41:58.657Z"
   },
   {
    "duration": 103,
    "start_time": "2023-09-22T12:41:58.876Z"
   },
   {
    "duration": 180,
    "start_time": "2023-09-22T12:41:58.981Z"
   },
   {
    "duration": 258,
    "start_time": "2023-09-22T12:41:59.163Z"
   },
   {
    "duration": 216,
    "start_time": "2023-09-22T12:41:59.423Z"
   },
   {
    "duration": 26,
    "start_time": "2023-09-22T12:41:59.642Z"
   },
   {
    "duration": 107,
    "start_time": "2023-09-22T12:41:59.671Z"
   },
   {
    "duration": 164,
    "start_time": "2023-09-22T12:41:59.780Z"
   },
   {
    "duration": 44,
    "start_time": "2023-09-22T12:41:59.946Z"
   },
   {
    "duration": 258890,
    "start_time": "2023-09-22T12:41:59.992Z"
   },
   {
    "duration": 166,
    "start_time": "2023-09-22T13:00:28.730Z"
   },
   {
    "duration": 26,
    "start_time": "2023-09-22T13:02:17.089Z"
   },
   {
    "duration": 1688,
    "start_time": "2023-09-22T13:10:18.885Z"
   },
   {
    "duration": 25,
    "start_time": "2023-09-22T13:11:10.095Z"
   },
   {
    "duration": 96,
    "start_time": "2023-09-22T13:12:10.998Z"
   },
   {
    "duration": 127,
    "start_time": "2023-09-22T13:12:46.813Z"
   },
   {
    "duration": 123,
    "start_time": "2023-09-22T13:15:35.168Z"
   },
   {
    "duration": 82,
    "start_time": "2023-09-22T13:15:45.361Z"
   },
   {
    "duration": 168,
    "start_time": "2023-09-22T13:20:30.003Z"
   },
   {
    "duration": 83,
    "start_time": "2023-09-22T13:27:37.509Z"
   },
   {
    "duration": 108,
    "start_time": "2023-09-22T13:28:26.134Z"
   },
   {
    "duration": 183,
    "start_time": "2023-09-22T13:30:14.679Z"
   },
   {
    "duration": 188,
    "start_time": "2023-09-22T13:30:51.272Z"
   },
   {
    "duration": 9,
    "start_time": "2023-09-22T13:31:13.904Z"
   },
   {
    "duration": 21,
    "start_time": "2023-09-22T13:31:40.989Z"
   },
   {
    "duration": 215,
    "start_time": "2023-09-22T13:32:12.217Z"
   },
   {
    "duration": 10,
    "start_time": "2023-09-22T13:32:35.873Z"
   },
   {
    "duration": 10,
    "start_time": "2023-09-22T13:40:50.505Z"
   },
   {
    "duration": 9,
    "start_time": "2023-09-22T13:46:29.421Z"
   },
   {
    "duration": 127,
    "start_time": "2023-09-22T14:12:51.173Z"
   },
   {
    "duration": 148,
    "start_time": "2023-09-22T14:14:23.988Z"
   },
   {
    "duration": 327,
    "start_time": "2023-09-22T14:16:23.996Z"
   },
   {
    "duration": 106,
    "start_time": "2023-09-22T14:22:02.978Z"
   },
   {
    "duration": 109,
    "start_time": "2023-09-22T14:27:07.955Z"
   },
   {
    "duration": 114,
    "start_time": "2023-09-22T14:27:28.178Z"
   },
   {
    "duration": 83,
    "start_time": "2023-09-22T14:30:20.054Z"
   },
   {
    "duration": 1187,
    "start_time": "2023-09-22T14:30:51.019Z"
   },
   {
    "duration": 132,
    "start_time": "2023-09-22T14:30:52.208Z"
   },
   {
    "duration": 16,
    "start_time": "2023-09-22T14:30:52.342Z"
   },
   {
    "duration": 51,
    "start_time": "2023-09-22T14:30:52.360Z"
   },
   {
    "duration": 45,
    "start_time": "2023-09-22T14:30:52.413Z"
   },
   {
    "duration": 92,
    "start_time": "2023-09-22T14:30:52.461Z"
   },
   {
    "duration": 79,
    "start_time": "2023-09-22T14:30:52.556Z"
   },
   {
    "duration": 46,
    "start_time": "2023-09-22T14:30:52.636Z"
   },
   {
    "duration": 51,
    "start_time": "2023-09-22T14:30:52.683Z"
   },
   {
    "duration": 41,
    "start_time": "2023-09-22T14:30:52.737Z"
   },
   {
    "duration": 235,
    "start_time": "2023-09-22T14:30:52.781Z"
   },
   {
    "duration": 98,
    "start_time": "2023-09-22T14:30:53.017Z"
   },
   {
    "duration": 172,
    "start_time": "2023-09-22T14:30:53.117Z"
   },
   {
    "duration": 246,
    "start_time": "2023-09-22T14:30:53.300Z"
   },
   {
    "duration": 207,
    "start_time": "2023-09-22T14:30:53.549Z"
   },
   {
    "duration": 26,
    "start_time": "2023-09-22T14:30:53.758Z"
   },
   {
    "duration": 26,
    "start_time": "2023-09-22T14:30:53.787Z"
   },
   {
    "duration": 164,
    "start_time": "2023-09-22T14:30:53.815Z"
   },
   {
    "duration": 197,
    "start_time": "2023-09-22T14:30:53.981Z"
   },
   {
    "duration": 0,
    "start_time": "2023-09-22T14:30:54.180Z"
   },
   {
    "duration": 157,
    "start_time": "2023-09-22T14:31:30.170Z"
   },
   {
    "duration": 118,
    "start_time": "2023-09-22T14:40:44.437Z"
   },
   {
    "duration": 1225,
    "start_time": "2023-09-22T14:44:09.162Z"
   },
   {
    "duration": 71,
    "start_time": "2023-09-22T14:44:10.389Z"
   },
   {
    "duration": 15,
    "start_time": "2023-09-22T14:44:10.462Z"
   },
   {
    "duration": 9,
    "start_time": "2023-09-22T14:44:10.480Z"
   },
   {
    "duration": 27,
    "start_time": "2023-09-22T14:44:10.491Z"
   },
   {
    "duration": 16,
    "start_time": "2023-09-22T14:44:10.520Z"
   },
   {
    "duration": 15,
    "start_time": "2023-09-22T14:44:10.538Z"
   },
   {
    "duration": 11,
    "start_time": "2023-09-22T14:44:10.555Z"
   },
   {
    "duration": 12,
    "start_time": "2023-09-22T14:44:10.567Z"
   },
   {
    "duration": 13,
    "start_time": "2023-09-22T14:44:10.582Z"
   },
   {
    "duration": 178,
    "start_time": "2023-09-22T14:44:10.597Z"
   },
   {
    "duration": 98,
    "start_time": "2023-09-22T14:44:10.776Z"
   },
   {
    "duration": 172,
    "start_time": "2023-09-22T14:44:10.876Z"
   },
   {
    "duration": 253,
    "start_time": "2023-09-22T14:44:11.050Z"
   },
   {
    "duration": 198,
    "start_time": "2023-09-22T14:44:11.305Z"
   },
   {
    "duration": 25,
    "start_time": "2023-09-22T14:44:11.505Z"
   },
   {
    "duration": 23,
    "start_time": "2023-09-22T14:44:11.532Z"
   },
   {
    "duration": 150,
    "start_time": "2023-09-22T14:44:11.557Z"
   },
   {
    "duration": 76,
    "start_time": "2023-09-22T14:44:11.709Z"
   },
   {
    "duration": 0,
    "start_time": "2023-09-22T14:44:11.788Z"
   },
   {
    "duration": 0,
    "start_time": "2023-09-22T14:44:11.789Z"
   },
   {
    "duration": 99,
    "start_time": "2023-09-22T15:02:16.024Z"
   },
   {
    "duration": 118,
    "start_time": "2023-09-22T15:04:31.987Z"
   },
   {
    "duration": 44,
    "start_time": "2023-09-22T15:11:44.959Z"
   },
   {
    "duration": 11,
    "start_time": "2023-09-22T15:11:58.916Z"
   },
   {
    "duration": 1311,
    "start_time": "2023-09-22T15:12:06.252Z"
   },
   {
    "duration": 13,
    "start_time": "2023-09-22T15:12:47.822Z"
   },
   {
    "duration": 104,
    "start_time": "2023-09-22T15:13:21.423Z"
   },
   {
    "duration": 8,
    "start_time": "2023-09-22T15:13:30.199Z"
   },
   {
    "duration": 9,
    "start_time": "2023-09-22T15:17:53.890Z"
   },
   {
    "duration": 1407,
    "start_time": "2023-09-22T15:18:17.283Z"
   },
   {
    "duration": 1338,
    "start_time": "2023-09-22T15:19:21.196Z"
   },
   {
    "duration": 28920,
    "start_time": "2023-09-22T15:20:55.407Z"
   },
   {
    "duration": 21,
    "start_time": "2023-09-22T15:21:41.159Z"
   },
   {
    "duration": 10,
    "start_time": "2023-09-22T15:21:57.550Z"
   },
   {
    "duration": 85,
    "start_time": "2023-09-22T15:25:23.050Z"
   },
   {
    "duration": 1212,
    "start_time": "2023-09-22T15:25:33.695Z"
   },
   {
    "duration": 70,
    "start_time": "2023-09-22T15:25:34.909Z"
   },
   {
    "duration": 15,
    "start_time": "2023-09-22T15:25:34.981Z"
   },
   {
    "duration": 20,
    "start_time": "2023-09-22T15:25:34.998Z"
   },
   {
    "duration": 25,
    "start_time": "2023-09-22T15:25:35.020Z"
   },
   {
    "duration": 32,
    "start_time": "2023-09-22T15:25:35.047Z"
   },
   {
    "duration": 88,
    "start_time": "2023-09-22T15:25:35.081Z"
   },
   {
    "duration": 48,
    "start_time": "2023-09-22T15:25:35.171Z"
   },
   {
    "duration": 16,
    "start_time": "2023-09-22T15:25:35.221Z"
   },
   {
    "duration": 30,
    "start_time": "2023-09-22T15:25:35.239Z"
   },
   {
    "duration": 222,
    "start_time": "2023-09-22T15:25:35.271Z"
   },
   {
    "duration": 113,
    "start_time": "2023-09-22T15:25:35.502Z"
   },
   {
    "duration": 166,
    "start_time": "2023-09-22T15:25:35.616Z"
   },
   {
    "duration": 246,
    "start_time": "2023-09-22T15:25:35.784Z"
   },
   {
    "duration": 193,
    "start_time": "2023-09-22T15:25:36.032Z"
   },
   {
    "duration": 24,
    "start_time": "2023-09-22T15:25:36.227Z"
   },
   {
    "duration": 78,
    "start_time": "2023-09-22T15:25:36.253Z"
   },
   {
    "duration": 170,
    "start_time": "2023-09-22T15:25:36.333Z"
   },
   {
    "duration": 44,
    "start_time": "2023-09-22T15:25:36.506Z"
   },
   {
    "duration": 78,
    "start_time": "2023-09-22T15:25:36.552Z"
   },
   {
    "duration": 0,
    "start_time": "2023-09-22T15:25:36.632Z"
   },
   {
    "duration": 0,
    "start_time": "2023-09-22T15:25:36.634Z"
   },
   {
    "duration": 0,
    "start_time": "2023-09-22T15:25:36.635Z"
   },
   {
    "duration": 102,
    "start_time": "2023-09-22T15:26:07.212Z"
   },
   {
    "duration": 26800,
    "start_time": "2023-09-22T15:27:43.734Z"
   },
   {
    "duration": 19,
    "start_time": "2023-09-22T15:28:26.350Z"
   },
   {
    "duration": 4,
    "start_time": "2023-09-22T15:28:47.007Z"
   },
   {
    "duration": 100,
    "start_time": "2023-09-22T15:28:54.381Z"
   },
   {
    "duration": 99,
    "start_time": "2023-09-22T15:29:04.390Z"
   },
   {
    "duration": 99,
    "start_time": "2023-09-22T15:29:29.639Z"
   },
   {
    "duration": 1321,
    "start_time": "2023-09-22T15:30:29.784Z"
   },
   {
    "duration": 72,
    "start_time": "2023-09-22T15:30:31.107Z"
   },
   {
    "duration": 234,
    "start_time": "2023-09-22T15:30:31.181Z"
   },
   {
    "duration": 155,
    "start_time": "2023-09-22T15:30:31.418Z"
   },
   {
    "duration": 201,
    "start_time": "2023-09-22T15:30:31.575Z"
   },
   {
    "duration": 199,
    "start_time": "2023-09-22T15:30:31.778Z"
   },
   {
    "duration": 38,
    "start_time": "2023-09-22T15:30:31.979Z"
   },
   {
    "duration": 73,
    "start_time": "2023-09-22T15:30:32.018Z"
   },
   {
    "duration": 66,
    "start_time": "2023-09-22T15:30:32.093Z"
   },
   {
    "duration": 110,
    "start_time": "2023-09-22T15:30:32.162Z"
   },
   {
    "duration": 357,
    "start_time": "2023-09-22T15:30:32.274Z"
   },
   {
    "duration": 110,
    "start_time": "2023-09-22T15:30:32.633Z"
   },
   {
    "duration": 336,
    "start_time": "2023-09-22T15:30:32.746Z"
   },
   {
    "duration": 509,
    "start_time": "2023-09-22T15:30:33.084Z"
   },
   {
    "duration": 208,
    "start_time": "2023-09-22T15:30:33.594Z"
   },
   {
    "duration": 27,
    "start_time": "2023-09-22T15:30:33.803Z"
   },
   {
    "duration": 14,
    "start_time": "2023-09-22T15:30:33.832Z"
   },
   {
    "duration": 162,
    "start_time": "2023-09-22T15:30:33.848Z"
   },
   {
    "duration": 40,
    "start_time": "2023-09-22T15:30:34.012Z"
   },
   {
    "duration": 121,
    "start_time": "2023-09-22T15:30:34.054Z"
   },
   {
    "duration": 0,
    "start_time": "2023-09-22T15:30:34.176Z"
   },
   {
    "duration": 0,
    "start_time": "2023-09-22T15:30:34.178Z"
   },
   {
    "duration": 0,
    "start_time": "2023-09-22T15:30:34.179Z"
   },
   {
    "duration": 84,
    "start_time": "2023-09-22T15:32:06.114Z"
   },
   {
    "duration": 98,
    "start_time": "2023-09-22T15:32:24.721Z"
   },
   {
    "duration": 143,
    "start_time": "2023-09-22T15:32:30.952Z"
   },
   {
    "duration": 130,
    "start_time": "2023-09-22T15:34:24.467Z"
   },
   {
    "duration": 22,
    "start_time": "2023-09-22T15:34:39.211Z"
   },
   {
    "duration": 78,
    "start_time": "2023-09-22T15:35:17.788Z"
   },
   {
    "duration": 97,
    "start_time": "2023-09-22T15:35:27.923Z"
   },
   {
    "duration": 92,
    "start_time": "2023-09-22T15:36:44.637Z"
   },
   {
    "duration": 123,
    "start_time": "2023-09-22T15:36:54.694Z"
   },
   {
    "duration": 204,
    "start_time": "2023-09-22T15:37:00.757Z"
   },
   {
    "duration": 76,
    "start_time": "2023-09-22T15:37:06.900Z"
   },
   {
    "duration": 144,
    "start_time": "2023-09-22T15:37:14.469Z"
   },
   {
    "duration": 155,
    "start_time": "2023-09-22T15:37:50.862Z"
   },
   {
    "duration": 117,
    "start_time": "2023-09-22T15:37:56.396Z"
   },
   {
    "duration": 20,
    "start_time": "2023-09-22T15:38:26.636Z"
   },
   {
    "duration": 91,
    "start_time": "2023-09-22T15:38:50.334Z"
   },
   {
    "duration": 5,
    "start_time": "2023-09-22T15:39:06.644Z"
   },
   {
    "duration": 20,
    "start_time": "2023-09-22T15:39:19.637Z"
   },
   {
    "duration": 26130,
    "start_time": "2023-09-22T15:39:45.142Z"
   },
   {
    "duration": 10,
    "start_time": "2023-09-22T15:40:26.741Z"
   },
   {
    "duration": 1164,
    "start_time": "2023-09-22T15:43:53.252Z"
   },
   {
    "duration": 204,
    "start_time": "2023-09-22T15:43:54.418Z"
   },
   {
    "duration": 20,
    "start_time": "2023-09-22T15:43:54.624Z"
   },
   {
    "duration": 9,
    "start_time": "2023-09-22T15:43:54.647Z"
   },
   {
    "duration": 29,
    "start_time": "2023-09-22T15:43:54.658Z"
   },
   {
    "duration": 52,
    "start_time": "2023-09-22T15:43:54.690Z"
   },
   {
    "duration": 12,
    "start_time": "2023-09-22T15:43:54.745Z"
   },
   {
    "duration": 24,
    "start_time": "2023-09-22T15:43:54.759Z"
   },
   {
    "duration": 25,
    "start_time": "2023-09-22T15:43:54.786Z"
   },
   {
    "duration": 19,
    "start_time": "2023-09-22T15:43:54.815Z"
   },
   {
    "duration": 246,
    "start_time": "2023-09-22T15:43:54.840Z"
   },
   {
    "duration": 102,
    "start_time": "2023-09-22T15:43:55.093Z"
   },
   {
    "duration": 172,
    "start_time": "2023-09-22T15:43:55.202Z"
   },
   {
    "duration": 269,
    "start_time": "2023-09-22T15:43:55.376Z"
   },
   {
    "duration": 210,
    "start_time": "2023-09-22T15:43:55.646Z"
   },
   {
    "duration": 25,
    "start_time": "2023-09-22T15:43:55.858Z"
   },
   {
    "duration": 28,
    "start_time": "2023-09-22T15:43:55.885Z"
   },
   {
    "duration": 182,
    "start_time": "2023-09-22T15:43:55.914Z"
   },
   {
    "duration": 52,
    "start_time": "2023-09-22T15:43:56.100Z"
   },
   {
    "duration": 26491,
    "start_time": "2023-09-22T15:43:56.154Z"
   },
   {
    "duration": 0,
    "start_time": "2023-09-22T15:44:22.647Z"
   },
   {
    "duration": 0,
    "start_time": "2023-09-22T15:44:22.649Z"
   },
   {
    "duration": 0,
    "start_time": "2023-09-22T15:44:22.651Z"
   },
   {
    "duration": 26,
    "start_time": "2023-09-22T15:45:02.072Z"
   },
   {
    "duration": 27777,
    "start_time": "2023-09-22T15:45:12.128Z"
   },
   {
    "duration": 1249,
    "start_time": "2023-09-22T15:49:43.835Z"
   },
   {
    "duration": 195,
    "start_time": "2023-09-22T15:49:45.086Z"
   },
   {
    "duration": 15,
    "start_time": "2023-09-22T15:49:45.287Z"
   },
   {
    "duration": 10,
    "start_time": "2023-09-22T15:49:45.304Z"
   },
   {
    "duration": 17,
    "start_time": "2023-09-22T15:49:45.315Z"
   },
   {
    "duration": 15,
    "start_time": "2023-09-22T15:49:45.334Z"
   },
   {
    "duration": 8,
    "start_time": "2023-09-22T15:49:45.351Z"
   },
   {
    "duration": 17,
    "start_time": "2023-09-22T15:49:45.361Z"
   },
   {
    "duration": 20,
    "start_time": "2023-09-22T15:49:45.381Z"
   },
   {
    "duration": 9,
    "start_time": "2023-09-22T15:49:45.403Z"
   },
   {
    "duration": 201,
    "start_time": "2023-09-22T15:49:45.414Z"
   },
   {
    "duration": 101,
    "start_time": "2023-09-22T15:49:45.617Z"
   },
   {
    "duration": 167,
    "start_time": "2023-09-22T15:49:45.720Z"
   },
   {
    "duration": 257,
    "start_time": "2023-09-22T15:49:45.889Z"
   },
   {
    "duration": 206,
    "start_time": "2023-09-22T15:49:46.149Z"
   },
   {
    "duration": 26,
    "start_time": "2023-09-22T15:49:46.357Z"
   },
   {
    "duration": 123,
    "start_time": "2023-09-22T15:49:46.385Z"
   },
   {
    "duration": 148,
    "start_time": "2023-09-22T15:49:46.510Z"
   },
   {
    "duration": 54,
    "start_time": "2023-09-22T15:49:46.660Z"
   },
   {
    "duration": 27321,
    "start_time": "2023-09-22T15:49:46.716Z"
   },
   {
    "duration": 0,
    "start_time": "2023-09-22T15:50:14.039Z"
   },
   {
    "duration": 0,
    "start_time": "2023-09-22T15:50:14.040Z"
   },
   {
    "duration": 0,
    "start_time": "2023-09-22T15:50:14.042Z"
   },
   {
    "duration": 1246,
    "start_time": "2023-09-22T15:51:19.986Z"
   },
   {
    "duration": 194,
    "start_time": "2023-09-22T15:51:21.234Z"
   },
   {
    "duration": 15,
    "start_time": "2023-09-22T15:51:21.430Z"
   },
   {
    "duration": 53,
    "start_time": "2023-09-22T15:51:21.448Z"
   },
   {
    "duration": 17,
    "start_time": "2023-09-22T15:51:21.502Z"
   },
   {
    "duration": 24,
    "start_time": "2023-09-22T15:51:21.521Z"
   },
   {
    "duration": 62,
    "start_time": "2023-09-22T15:51:21.548Z"
   },
   {
    "duration": 62,
    "start_time": "2023-09-22T15:51:21.612Z"
   },
   {
    "duration": 26,
    "start_time": "2023-09-22T15:51:21.676Z"
   },
   {
    "duration": 25,
    "start_time": "2023-09-22T15:51:21.705Z"
   },
   {
    "duration": 202,
    "start_time": "2023-09-22T15:51:21.732Z"
   },
   {
    "duration": 113,
    "start_time": "2023-09-22T15:51:21.936Z"
   },
   {
    "duration": 168,
    "start_time": "2023-09-22T15:51:22.051Z"
   },
   {
    "duration": 245,
    "start_time": "2023-09-22T15:51:22.221Z"
   },
   {
    "duration": 202,
    "start_time": "2023-09-22T15:51:22.468Z"
   },
   {
    "duration": 38,
    "start_time": "2023-09-22T15:51:22.673Z"
   },
   {
    "duration": 167,
    "start_time": "2023-09-22T15:51:22.713Z"
   },
   {
    "duration": 140,
    "start_time": "2023-09-22T15:51:22.882Z"
   },
   {
    "duration": 43,
    "start_time": "2023-09-22T15:51:23.024Z"
   },
   {
    "duration": 26819,
    "start_time": "2023-09-22T15:51:23.069Z"
   },
   {
    "duration": 0,
    "start_time": "2023-09-22T15:51:49.890Z"
   },
   {
    "duration": 0,
    "start_time": "2023-09-22T15:51:49.891Z"
   },
   {
    "duration": 0,
    "start_time": "2023-09-22T15:51:49.893Z"
   },
   {
    "duration": 142,
    "start_time": "2023-09-23T15:53:20.474Z"
   },
   {
    "duration": 104,
    "start_time": "2023-09-23T15:56:52.478Z"
   },
   {
    "duration": 104,
    "start_time": "2023-09-23T15:57:15.809Z"
   },
   {
    "duration": 48,
    "start_time": "2023-09-23T15:59:19.734Z"
   },
   {
    "duration": 1421,
    "start_time": "2023-09-23T15:59:47.275Z"
   },
   {
    "duration": 250,
    "start_time": "2023-09-23T15:59:48.698Z"
   },
   {
    "duration": 21,
    "start_time": "2023-09-23T15:59:48.954Z"
   },
   {
    "duration": 20,
    "start_time": "2023-09-23T15:59:48.977Z"
   },
   {
    "duration": 9,
    "start_time": "2023-09-23T15:59:48.998Z"
   },
   {
    "duration": 29,
    "start_time": "2023-09-23T15:59:49.008Z"
   },
   {
    "duration": 32,
    "start_time": "2023-09-23T15:59:49.039Z"
   },
   {
    "duration": 12,
    "start_time": "2023-09-23T15:59:49.078Z"
   },
   {
    "duration": 18,
    "start_time": "2023-09-23T15:59:49.091Z"
   },
   {
    "duration": 35,
    "start_time": "2023-09-23T15:59:49.112Z"
   },
   {
    "duration": 196,
    "start_time": "2023-09-23T15:59:49.149Z"
   },
   {
    "duration": 93,
    "start_time": "2023-09-23T15:59:49.347Z"
   },
   {
    "duration": 163,
    "start_time": "2023-09-23T15:59:49.442Z"
   },
   {
    "duration": 215,
    "start_time": "2023-09-23T15:59:49.606Z"
   },
   {
    "duration": 232,
    "start_time": "2023-09-23T15:59:49.823Z"
   },
   {
    "duration": 26,
    "start_time": "2023-09-23T15:59:50.065Z"
   },
   {
    "duration": 11,
    "start_time": "2023-09-23T15:59:50.093Z"
   },
   {
    "duration": 136,
    "start_time": "2023-09-23T15:59:50.106Z"
   },
   {
    "duration": 48,
    "start_time": "2023-09-23T15:59:50.244Z"
   },
   {
    "duration": 26708,
    "start_time": "2023-09-23T15:59:50.294Z"
   },
   {
    "duration": 0,
    "start_time": "2023-09-23T16:00:17.004Z"
   },
   {
    "duration": 0,
    "start_time": "2023-09-23T16:00:17.005Z"
   },
   {
    "duration": 0,
    "start_time": "2023-09-23T16:00:17.006Z"
   },
   {
    "duration": 1173,
    "start_time": "2023-09-23T16:02:47.637Z"
   },
   {
    "duration": 233,
    "start_time": "2023-09-23T16:02:48.812Z"
   },
   {
    "duration": 20,
    "start_time": "2023-09-23T16:02:49.047Z"
   },
   {
    "duration": 10,
    "start_time": "2023-09-23T16:02:49.074Z"
   },
   {
    "duration": 17,
    "start_time": "2023-09-23T16:02:49.085Z"
   },
   {
    "duration": 14,
    "start_time": "2023-09-23T16:02:49.104Z"
   },
   {
    "duration": 32,
    "start_time": "2023-09-23T16:02:49.120Z"
   },
   {
    "duration": 38,
    "start_time": "2023-09-23T16:02:49.154Z"
   },
   {
    "duration": 21,
    "start_time": "2023-09-23T16:02:49.194Z"
   },
   {
    "duration": 27,
    "start_time": "2023-09-23T16:02:49.217Z"
   },
   {
    "duration": 180,
    "start_time": "2023-09-23T16:02:49.246Z"
   },
   {
    "duration": 89,
    "start_time": "2023-09-23T16:02:49.427Z"
   },
   {
    "duration": 176,
    "start_time": "2023-09-23T16:02:49.518Z"
   },
   {
    "duration": 230,
    "start_time": "2023-09-23T16:02:49.696Z"
   },
   {
    "duration": 194,
    "start_time": "2023-09-23T16:02:49.928Z"
   },
   {
    "duration": 30,
    "start_time": "2023-09-23T16:02:50.123Z"
   },
   {
    "duration": 27,
    "start_time": "2023-09-23T16:02:50.155Z"
   },
   {
    "duration": 140,
    "start_time": "2023-09-23T16:02:50.184Z"
   },
   {
    "duration": 61,
    "start_time": "2023-09-23T16:02:50.325Z"
   },
   {
    "duration": 25940,
    "start_time": "2023-09-23T16:02:50.387Z"
   },
   {
    "duration": 0,
    "start_time": "2023-09-23T16:03:16.329Z"
   },
   {
    "duration": 0,
    "start_time": "2023-09-23T16:03:16.330Z"
   },
   {
    "duration": 0,
    "start_time": "2023-09-23T16:03:16.332Z"
   },
   {
    "duration": 1201,
    "start_time": "2023-09-23T16:05:09.125Z"
   },
   {
    "duration": 258,
    "start_time": "2023-09-23T16:05:10.329Z"
   },
   {
    "duration": 13,
    "start_time": "2023-09-23T16:05:10.588Z"
   },
   {
    "duration": 7,
    "start_time": "2023-09-23T16:05:10.603Z"
   },
   {
    "duration": 12,
    "start_time": "2023-09-23T16:05:10.613Z"
   },
   {
    "duration": 33,
    "start_time": "2023-09-23T16:05:10.627Z"
   },
   {
    "duration": 25,
    "start_time": "2023-09-23T16:05:10.662Z"
   },
   {
    "duration": 32,
    "start_time": "2023-09-23T16:05:10.689Z"
   },
   {
    "duration": 9,
    "start_time": "2023-09-23T16:05:10.723Z"
   },
   {
    "duration": 9,
    "start_time": "2023-09-23T16:05:10.734Z"
   },
   {
    "duration": 189,
    "start_time": "2023-09-23T16:05:10.744Z"
   },
   {
    "duration": 102,
    "start_time": "2023-09-23T16:05:10.935Z"
   },
   {
    "duration": 172,
    "start_time": "2023-09-23T16:05:11.039Z"
   },
   {
    "duration": 253,
    "start_time": "2023-09-23T16:05:11.213Z"
   },
   {
    "duration": 211,
    "start_time": "2023-09-23T16:05:11.468Z"
   },
   {
    "duration": 34,
    "start_time": "2023-09-23T16:05:11.681Z"
   },
   {
    "duration": 15,
    "start_time": "2023-09-23T16:05:11.717Z"
   },
   {
    "duration": 211,
    "start_time": "2023-09-23T16:05:11.734Z"
   },
   {
    "duration": 48,
    "start_time": "2023-09-23T16:05:11.946Z"
   },
   {
    "duration": 7737,
    "start_time": "2023-09-23T16:05:11.996Z"
   },
   {
    "duration": 0,
    "start_time": "2023-09-23T16:05:19.735Z"
   },
   {
    "duration": 0,
    "start_time": "2023-09-23T16:05:19.736Z"
   },
   {
    "duration": 0,
    "start_time": "2023-09-23T16:05:19.738Z"
   },
   {
    "duration": 16,
    "start_time": "2023-09-23T16:05:43.681Z"
   },
   {
    "duration": 105,
    "start_time": "2023-09-23T16:06:21.711Z"
   },
   {
    "duration": 85,
    "start_time": "2023-09-23T16:06:38.241Z"
   },
   {
    "duration": 94,
    "start_time": "2023-09-23T16:06:45.721Z"
   },
   {
    "duration": 9,
    "start_time": "2023-09-23T16:06:55.877Z"
   },
   {
    "duration": 26019,
    "start_time": "2023-09-23T16:07:09.475Z"
   },
   {
    "duration": 8,
    "start_time": "2023-09-23T16:08:35.013Z"
   },
   {
    "duration": 16,
    "start_time": "2023-09-23T16:09:15.596Z"
   },
   {
    "duration": 1960,
    "start_time": "2023-09-23T16:09:35.972Z"
   },
   {
    "duration": 26531,
    "start_time": "2023-09-23T16:12:30.600Z"
   },
   {
    "duration": 1043,
    "start_time": "2023-09-23T16:16:51.718Z"
   },
   {
    "duration": 223,
    "start_time": "2023-09-23T16:16:52.763Z"
   },
   {
    "duration": 13,
    "start_time": "2023-09-23T16:16:52.987Z"
   },
   {
    "duration": 8,
    "start_time": "2023-09-23T16:16:53.002Z"
   },
   {
    "duration": 15,
    "start_time": "2023-09-23T16:16:53.011Z"
   },
   {
    "duration": 11,
    "start_time": "2023-09-23T16:16:53.028Z"
   },
   {
    "duration": 16,
    "start_time": "2023-09-23T16:16:53.041Z"
   },
   {
    "duration": 16,
    "start_time": "2023-09-23T16:16:53.064Z"
   },
   {
    "duration": 17,
    "start_time": "2023-09-23T16:16:53.082Z"
   },
   {
    "duration": 7,
    "start_time": "2023-09-23T16:16:53.102Z"
   },
   {
    "duration": 182,
    "start_time": "2023-09-23T16:16:53.111Z"
   },
   {
    "duration": 94,
    "start_time": "2023-09-23T16:16:53.295Z"
   },
   {
    "duration": 165,
    "start_time": "2023-09-23T16:16:53.391Z"
   },
   {
    "duration": 215,
    "start_time": "2023-09-23T16:16:53.563Z"
   },
   {
    "duration": 182,
    "start_time": "2023-09-23T16:16:53.780Z"
   },
   {
    "duration": 23,
    "start_time": "2023-09-23T16:16:53.965Z"
   },
   {
    "duration": 14,
    "start_time": "2023-09-23T16:16:53.990Z"
   },
   {
    "duration": 134,
    "start_time": "2023-09-23T16:16:54.006Z"
   },
   {
    "duration": 46,
    "start_time": "2023-09-23T16:16:54.142Z"
   },
   {
    "duration": 24370,
    "start_time": "2023-09-23T16:16:54.189Z"
   },
   {
    "duration": 0,
    "start_time": "2023-09-23T16:17:18.561Z"
   },
   {
    "duration": 0,
    "start_time": "2023-09-23T16:17:18.562Z"
   },
   {
    "duration": 0,
    "start_time": "2023-09-23T16:17:18.564Z"
   },
   {
    "duration": 90,
    "start_time": "2023-09-23T16:19:26.709Z"
   },
   {
    "duration": 97,
    "start_time": "2023-09-23T16:21:13.797Z"
   },
   {
    "duration": 223,
    "start_time": "2023-09-23T16:21:50.733Z"
   },
   {
    "duration": 81,
    "start_time": "2023-09-23T16:22:01.861Z"
   },
   {
    "duration": 8,
    "start_time": "2023-09-23T16:22:57.686Z"
   },
   {
    "duration": 1071,
    "start_time": "2023-09-23T16:24:18.821Z"
   },
   {
    "duration": 210,
    "start_time": "2023-09-23T16:24:19.894Z"
   },
   {
    "duration": 16,
    "start_time": "2023-09-23T16:24:20.106Z"
   },
   {
    "duration": 18,
    "start_time": "2023-09-23T16:24:20.124Z"
   },
   {
    "duration": 19,
    "start_time": "2023-09-23T16:24:20.144Z"
   },
   {
    "duration": 14,
    "start_time": "2023-09-23T16:24:20.165Z"
   },
   {
    "duration": 22,
    "start_time": "2023-09-23T16:24:20.180Z"
   },
   {
    "duration": 17,
    "start_time": "2023-09-23T16:24:20.203Z"
   },
   {
    "duration": 20,
    "start_time": "2023-09-23T16:24:20.221Z"
   },
   {
    "duration": 25,
    "start_time": "2023-09-23T16:24:20.243Z"
   },
   {
    "duration": 209,
    "start_time": "2023-09-23T16:24:20.270Z"
   },
   {
    "duration": 87,
    "start_time": "2023-09-23T16:24:20.481Z"
   },
   {
    "duration": 141,
    "start_time": "2023-09-23T16:24:20.570Z"
   },
   {
    "duration": 208,
    "start_time": "2023-09-23T16:24:20.712Z"
   },
   {
    "duration": 270,
    "start_time": "2023-09-23T16:24:20.922Z"
   },
   {
    "duration": 66,
    "start_time": "2023-09-23T16:24:21.193Z"
   },
   {
    "duration": 13,
    "start_time": "2023-09-23T16:24:21.260Z"
   },
   {
    "duration": 127,
    "start_time": "2023-09-23T16:24:21.274Z"
   },
   {
    "duration": 33,
    "start_time": "2023-09-23T16:24:21.402Z"
   },
   {
    "duration": 24550,
    "start_time": "2023-09-23T16:24:21.437Z"
   },
   {
    "duration": 0,
    "start_time": "2023-09-23T16:24:45.989Z"
   },
   {
    "duration": 0,
    "start_time": "2023-09-23T16:24:45.991Z"
   },
   {
    "duration": 0,
    "start_time": "2023-09-23T16:24:45.993Z"
   },
   {
    "duration": 112,
    "start_time": "2023-09-23T16:25:28.305Z"
   },
   {
    "duration": 90,
    "start_time": "2023-09-23T16:25:48.753Z"
   },
   {
    "duration": 22,
    "start_time": "2023-09-23T16:26:05.946Z"
   },
   {
    "duration": 24463,
    "start_time": "2023-09-23T16:26:18.848Z"
   },
   {
    "duration": 1142,
    "start_time": "2023-09-23T16:31:15.955Z"
   },
   {
    "duration": 215,
    "start_time": "2023-09-23T16:31:17.099Z"
   },
   {
    "duration": 18,
    "start_time": "2023-09-23T16:31:17.316Z"
   },
   {
    "duration": 7,
    "start_time": "2023-09-23T16:31:17.337Z"
   },
   {
    "duration": 25,
    "start_time": "2023-09-23T16:31:17.346Z"
   },
   {
    "duration": 15,
    "start_time": "2023-09-23T16:31:17.373Z"
   },
   {
    "duration": 28,
    "start_time": "2023-09-23T16:31:17.390Z"
   },
   {
    "duration": 23,
    "start_time": "2023-09-23T16:31:17.420Z"
   },
   {
    "duration": 22,
    "start_time": "2023-09-23T16:31:17.444Z"
   },
   {
    "duration": 22,
    "start_time": "2023-09-23T16:31:17.470Z"
   },
   {
    "duration": 169,
    "start_time": "2023-09-23T16:31:17.494Z"
   },
   {
    "duration": 87,
    "start_time": "2023-09-23T16:31:17.664Z"
   },
   {
    "duration": 143,
    "start_time": "2023-09-23T16:31:17.752Z"
   },
   {
    "duration": 219,
    "start_time": "2023-09-23T16:31:17.897Z"
   },
   {
    "duration": 183,
    "start_time": "2023-09-23T16:31:18.117Z"
   },
   {
    "duration": 23,
    "start_time": "2023-09-23T16:31:18.301Z"
   },
   {
    "duration": 27,
    "start_time": "2023-09-23T16:31:18.326Z"
   },
   {
    "duration": 133,
    "start_time": "2023-09-23T16:31:18.354Z"
   },
   {
    "duration": 33,
    "start_time": "2023-09-23T16:31:18.488Z"
   },
   {
    "duration": 31457,
    "start_time": "2023-09-23T16:31:18.522Z"
   },
   {
    "duration": 0,
    "start_time": "2023-09-23T16:31:49.980Z"
   },
   {
    "duration": 0,
    "start_time": "2023-09-23T16:31:49.981Z"
   },
   {
    "duration": 0,
    "start_time": "2023-09-23T16:31:49.982Z"
   },
   {
    "duration": 1039,
    "start_time": "2023-09-23T16:36:53.160Z"
   },
   {
    "duration": 212,
    "start_time": "2023-09-23T16:36:54.200Z"
   },
   {
    "duration": 11,
    "start_time": "2023-09-23T16:36:54.414Z"
   },
   {
    "duration": 15,
    "start_time": "2023-09-23T16:36:54.426Z"
   },
   {
    "duration": 10,
    "start_time": "2023-09-23T16:36:54.443Z"
   },
   {
    "duration": 9,
    "start_time": "2023-09-23T16:36:54.464Z"
   },
   {
    "duration": 17,
    "start_time": "2023-09-23T16:36:54.475Z"
   },
   {
    "duration": 12,
    "start_time": "2023-09-23T16:36:54.493Z"
   },
   {
    "duration": 17,
    "start_time": "2023-09-23T16:36:54.507Z"
   },
   {
    "duration": 10,
    "start_time": "2023-09-23T16:36:54.525Z"
   },
   {
    "duration": 167,
    "start_time": "2023-09-23T16:36:54.536Z"
   },
   {
    "duration": 90,
    "start_time": "2023-09-23T16:36:54.704Z"
   },
   {
    "duration": 136,
    "start_time": "2023-09-23T16:36:54.796Z"
   },
   {
    "duration": 234,
    "start_time": "2023-09-23T16:36:54.934Z"
   },
   {
    "duration": 177,
    "start_time": "2023-09-23T16:36:55.171Z"
   },
   {
    "duration": 26,
    "start_time": "2023-09-23T16:36:55.356Z"
   },
   {
    "duration": 12,
    "start_time": "2023-09-23T16:36:55.383Z"
   },
   {
    "duration": 127,
    "start_time": "2023-09-23T16:36:55.397Z"
   },
   {
    "duration": 46,
    "start_time": "2023-09-23T16:36:55.526Z"
   },
   {
    "duration": 16701,
    "start_time": "2023-09-23T16:36:55.574Z"
   },
   {
    "duration": 0,
    "start_time": "2023-09-23T16:37:12.276Z"
   },
   {
    "duration": 0,
    "start_time": "2023-09-23T16:37:12.278Z"
   },
   {
    "duration": 0,
    "start_time": "2023-09-23T16:37:12.279Z"
   },
   {
    "duration": 1096,
    "start_time": "2023-09-23T16:39:04.207Z"
   },
   {
    "duration": 208,
    "start_time": "2023-09-23T16:39:05.305Z"
   },
   {
    "duration": 13,
    "start_time": "2023-09-23T16:39:05.514Z"
   },
   {
    "duration": 10,
    "start_time": "2023-09-23T16:39:05.529Z"
   },
   {
    "duration": 5,
    "start_time": "2023-09-23T16:39:05.541Z"
   },
   {
    "duration": 15,
    "start_time": "2023-09-23T16:39:05.547Z"
   },
   {
    "duration": 15,
    "start_time": "2023-09-23T16:39:05.564Z"
   },
   {
    "duration": 10,
    "start_time": "2023-09-23T16:39:05.580Z"
   },
   {
    "duration": 8,
    "start_time": "2023-09-23T16:39:05.591Z"
   },
   {
    "duration": 9,
    "start_time": "2023-09-23T16:39:05.601Z"
   },
   {
    "duration": 197,
    "start_time": "2023-09-23T16:39:05.612Z"
   },
   {
    "duration": 87,
    "start_time": "2023-09-23T16:39:05.811Z"
   },
   {
    "duration": 186,
    "start_time": "2023-09-23T16:39:05.900Z"
   },
   {
    "duration": 293,
    "start_time": "2023-09-23T16:39:06.088Z"
   },
   {
    "duration": 187,
    "start_time": "2023-09-23T16:39:06.383Z"
   },
   {
    "duration": 22,
    "start_time": "2023-09-23T16:39:06.572Z"
   },
   {
    "duration": 10,
    "start_time": "2023-09-23T16:39:06.596Z"
   },
   {
    "duration": 142,
    "start_time": "2023-09-23T16:39:06.607Z"
   },
   {
    "duration": 39,
    "start_time": "2023-09-23T16:39:06.754Z"
   },
   {
    "duration": 16190,
    "start_time": "2023-09-23T16:39:06.795Z"
   },
   {
    "duration": 0,
    "start_time": "2023-09-23T16:39:22.988Z"
   },
   {
    "duration": 0,
    "start_time": "2023-09-23T16:39:22.989Z"
   },
   {
    "duration": 0,
    "start_time": "2023-09-23T16:39:22.991Z"
   },
   {
    "duration": 8,
    "start_time": "2023-09-23T16:39:55.093Z"
   },
   {
    "duration": 1241,
    "start_time": "2023-09-23T16:41:25.764Z"
   },
   {
    "duration": 208,
    "start_time": "2023-09-23T16:41:27.007Z"
   },
   {
    "duration": 11,
    "start_time": "2023-09-23T16:41:27.217Z"
   },
   {
    "duration": 17,
    "start_time": "2023-09-23T16:41:27.230Z"
   },
   {
    "duration": 19,
    "start_time": "2023-09-23T16:41:27.248Z"
   },
   {
    "duration": 21,
    "start_time": "2023-09-23T16:41:27.269Z"
   },
   {
    "duration": 15,
    "start_time": "2023-09-23T16:41:27.292Z"
   },
   {
    "duration": 9,
    "start_time": "2023-09-23T16:41:27.308Z"
   },
   {
    "duration": 9,
    "start_time": "2023-09-23T16:41:27.318Z"
   },
   {
    "duration": 31,
    "start_time": "2023-09-23T16:41:27.330Z"
   },
   {
    "duration": 165,
    "start_time": "2023-09-23T16:41:27.363Z"
   },
   {
    "duration": 96,
    "start_time": "2023-09-23T16:41:27.530Z"
   },
   {
    "duration": 176,
    "start_time": "2023-09-23T16:41:27.628Z"
   },
   {
    "duration": 259,
    "start_time": "2023-09-23T16:41:27.806Z"
   },
   {
    "duration": 182,
    "start_time": "2023-09-23T16:41:28.067Z"
   },
   {
    "duration": 26,
    "start_time": "2023-09-23T16:41:28.251Z"
   },
   {
    "duration": 10,
    "start_time": "2023-09-23T16:41:28.279Z"
   },
   {
    "duration": 142,
    "start_time": "2023-09-23T16:41:28.290Z"
   },
   {
    "duration": 48,
    "start_time": "2023-09-23T16:41:28.434Z"
   },
   {
    "duration": 16796,
    "start_time": "2023-09-23T16:41:28.483Z"
   },
   {
    "duration": 0,
    "start_time": "2023-09-23T16:41:45.281Z"
   },
   {
    "duration": 0,
    "start_time": "2023-09-23T16:41:45.282Z"
   },
   {
    "duration": 0,
    "start_time": "2023-09-23T16:41:45.284Z"
   },
   {
    "duration": 44,
    "start_time": "2023-09-24T07:25:02.184Z"
   },
   {
    "duration": 1262,
    "start_time": "2023-09-24T07:25:41.377Z"
   },
   {
    "duration": 248,
    "start_time": "2023-09-24T07:25:42.641Z"
   },
   {
    "duration": 11,
    "start_time": "2023-09-24T07:25:42.890Z"
   },
   {
    "duration": 7,
    "start_time": "2023-09-24T07:25:42.903Z"
   },
   {
    "duration": 8,
    "start_time": "2023-09-24T07:25:42.912Z"
   },
   {
    "duration": 12,
    "start_time": "2023-09-24T07:25:42.921Z"
   },
   {
    "duration": 8,
    "start_time": "2023-09-24T07:25:42.935Z"
   },
   {
    "duration": 20,
    "start_time": "2023-09-24T07:25:42.945Z"
   },
   {
    "duration": 16,
    "start_time": "2023-09-24T07:25:42.967Z"
   },
   {
    "duration": 11,
    "start_time": "2023-09-24T07:25:42.985Z"
   },
   {
    "duration": 184,
    "start_time": "2023-09-24T07:25:42.997Z"
   },
   {
    "duration": 81,
    "start_time": "2023-09-24T07:25:43.183Z"
   },
   {
    "duration": 148,
    "start_time": "2023-09-24T07:25:43.270Z"
   },
   {
    "duration": 213,
    "start_time": "2023-09-24T07:25:43.421Z"
   },
   {
    "duration": 187,
    "start_time": "2023-09-24T07:25:43.636Z"
   },
   {
    "duration": 34,
    "start_time": "2023-09-24T07:25:43.825Z"
   },
   {
    "duration": 20,
    "start_time": "2023-09-24T07:25:43.864Z"
   },
   {
    "duration": 127,
    "start_time": "2023-09-24T07:25:43.885Z"
   },
   {
    "duration": 51,
    "start_time": "2023-09-24T07:25:44.014Z"
   },
   {
    "duration": 243,
    "start_time": "2023-09-24T07:25:44.069Z"
   },
   {
    "duration": 10,
    "start_time": "2023-09-24T07:25:44.314Z"
   },
   {
    "duration": 8,
    "start_time": "2023-09-24T07:25:44.325Z"
   },
   {
    "duration": 17,
    "start_time": "2023-09-24T07:25:44.334Z"
   },
   {
    "duration": 11,
    "start_time": "2023-09-24T07:29:56.487Z"
   },
   {
    "duration": 144,
    "start_time": "2023-09-24T07:39:05.333Z"
   },
   {
    "duration": 6,
    "start_time": "2023-09-24T07:40:44.414Z"
   },
   {
    "duration": 1211,
    "start_time": "2023-09-24T08:01:11.176Z"
   },
   {
    "duration": 93,
    "start_time": "2023-09-24T08:01:12.392Z"
   },
   {
    "duration": 14,
    "start_time": "2023-09-24T08:01:12.487Z"
   },
   {
    "duration": 15,
    "start_time": "2023-09-24T08:01:12.502Z"
   },
   {
    "duration": 34,
    "start_time": "2023-09-24T08:01:12.518Z"
   },
   {
    "duration": 36,
    "start_time": "2023-09-24T08:01:12.554Z"
   },
   {
    "duration": 30,
    "start_time": "2023-09-24T08:01:12.592Z"
   },
   {
    "duration": 33,
    "start_time": "2023-09-24T08:01:12.624Z"
   },
   {
    "duration": 24,
    "start_time": "2023-09-24T08:01:12.666Z"
   },
   {
    "duration": 7,
    "start_time": "2023-09-24T08:01:12.692Z"
   },
   {
    "duration": 208,
    "start_time": "2023-09-24T08:01:12.700Z"
   },
   {
    "duration": 105,
    "start_time": "2023-09-24T08:01:12.910Z"
   },
   {
    "duration": 206,
    "start_time": "2023-09-24T08:01:13.016Z"
   },
   {
    "duration": 245,
    "start_time": "2023-09-24T08:01:13.225Z"
   },
   {
    "duration": 242,
    "start_time": "2023-09-24T08:01:13.472Z"
   },
   {
    "duration": 50,
    "start_time": "2023-09-24T08:01:13.718Z"
   },
   {
    "duration": 15,
    "start_time": "2023-09-24T08:01:13.770Z"
   },
   {
    "duration": 173,
    "start_time": "2023-09-24T08:01:13.786Z"
   },
   {
    "duration": 53,
    "start_time": "2023-09-24T08:01:13.965Z"
   },
   {
    "duration": 291,
    "start_time": "2023-09-24T08:01:14.019Z"
   },
   {
    "duration": 12,
    "start_time": "2023-09-24T08:01:14.311Z"
   },
   {
    "duration": 71,
    "start_time": "2023-09-24T08:01:14.324Z"
   },
   {
    "duration": 28,
    "start_time": "2023-09-24T08:01:14.396Z"
   },
   {
    "duration": 177,
    "start_time": "2023-09-24T08:01:14.426Z"
   },
   {
    "duration": 5,
    "start_time": "2023-09-24T08:01:14.605Z"
   },
   {
    "duration": 1126,
    "start_time": "2023-09-24T08:02:04.310Z"
   },
   {
    "duration": 89,
    "start_time": "2023-09-24T08:02:05.438Z"
   },
   {
    "duration": 15,
    "start_time": "2023-09-24T08:02:05.528Z"
   },
   {
    "duration": 17,
    "start_time": "2023-09-24T08:02:05.546Z"
   },
   {
    "duration": 21,
    "start_time": "2023-09-24T08:02:05.567Z"
   },
   {
    "duration": 21,
    "start_time": "2023-09-24T08:02:05.589Z"
   },
   {
    "duration": 26,
    "start_time": "2023-09-24T08:02:05.612Z"
   },
   {
    "duration": 13,
    "start_time": "2023-09-24T08:02:05.640Z"
   },
   {
    "duration": 17,
    "start_time": "2023-09-24T08:02:05.655Z"
   },
   {
    "duration": 16,
    "start_time": "2023-09-24T08:02:05.677Z"
   },
   {
    "duration": 272,
    "start_time": "2023-09-24T08:02:05.694Z"
   },
   {
    "duration": 118,
    "start_time": "2023-09-24T08:02:05.969Z"
   },
   {
    "duration": 224,
    "start_time": "2023-09-24T08:02:06.089Z"
   },
   {
    "duration": 311,
    "start_time": "2023-09-24T08:02:06.314Z"
   },
   {
    "duration": 202,
    "start_time": "2023-09-24T08:02:06.627Z"
   },
   {
    "duration": 41,
    "start_time": "2023-09-24T08:02:06.831Z"
   },
   {
    "duration": 16,
    "start_time": "2023-09-24T08:02:06.874Z"
   },
   {
    "duration": 210,
    "start_time": "2023-09-24T08:02:06.892Z"
   },
   {
    "duration": 47,
    "start_time": "2023-09-24T08:02:07.103Z"
   },
   {
    "duration": 269,
    "start_time": "2023-09-24T08:02:07.154Z"
   },
   {
    "duration": 14,
    "start_time": "2023-09-24T08:02:07.425Z"
   },
   {
    "duration": 15,
    "start_time": "2023-09-24T08:02:07.451Z"
   },
   {
    "duration": 43,
    "start_time": "2023-09-24T08:02:07.468Z"
   },
   {
    "duration": 165,
    "start_time": "2023-09-24T08:02:07.513Z"
   },
   {
    "duration": 5,
    "start_time": "2023-09-24T08:02:07.686Z"
   },
   {
    "duration": 1532,
    "start_time": "2023-09-24T15:52:19.199Z"
   },
   {
    "duration": 214,
    "start_time": "2023-09-24T15:52:20.734Z"
   },
   {
    "duration": 15,
    "start_time": "2023-09-24T15:52:20.950Z"
   },
   {
    "duration": 98,
    "start_time": "2023-09-24T15:52:20.967Z"
   },
   {
    "duration": 36,
    "start_time": "2023-09-24T15:52:21.068Z"
   },
   {
    "duration": 39,
    "start_time": "2023-09-24T15:52:21.106Z"
   },
   {
    "duration": 32,
    "start_time": "2023-09-24T15:52:21.146Z"
   },
   {
    "duration": 102,
    "start_time": "2023-09-24T15:52:21.179Z"
   },
   {
    "duration": 15,
    "start_time": "2023-09-24T15:52:21.283Z"
   },
   {
    "duration": 35,
    "start_time": "2023-09-24T15:52:21.300Z"
   },
   {
    "duration": 225,
    "start_time": "2023-09-24T15:52:21.338Z"
   },
   {
    "duration": 115,
    "start_time": "2023-09-24T15:52:21.565Z"
   },
   {
    "duration": 194,
    "start_time": "2023-09-24T15:52:21.682Z"
   },
   {
    "duration": 286,
    "start_time": "2023-09-24T15:52:21.881Z"
   },
   {
    "duration": 223,
    "start_time": "2023-09-24T15:52:22.169Z"
   },
   {
    "duration": 43,
    "start_time": "2023-09-24T15:52:22.401Z"
   },
   {
    "duration": 13,
    "start_time": "2023-09-24T15:52:22.446Z"
   },
   {
    "duration": 183,
    "start_time": "2023-09-24T15:52:22.461Z"
   },
   {
    "duration": 41,
    "start_time": "2023-09-24T15:52:22.646Z"
   },
   {
    "duration": 277,
    "start_time": "2023-09-24T15:52:22.706Z"
   },
   {
    "duration": 25,
    "start_time": "2023-09-24T15:52:22.985Z"
   },
   {
    "duration": 21,
    "start_time": "2023-09-24T15:52:23.018Z"
   },
   {
    "duration": 48,
    "start_time": "2023-09-24T15:52:23.040Z"
   },
   {
    "duration": 190,
    "start_time": "2023-09-24T15:52:23.090Z"
   },
   {
    "duration": 6,
    "start_time": "2023-09-24T15:52:23.281Z"
   },
   {
    "duration": 1302,
    "start_time": "2023-09-25T10:21:14.818Z"
   },
   {
    "duration": 198,
    "start_time": "2023-09-25T10:21:16.122Z"
   },
   {
    "duration": 15,
    "start_time": "2023-09-25T10:21:16.321Z"
   },
   {
    "duration": 53,
    "start_time": "2023-09-25T10:21:16.339Z"
   },
   {
    "duration": 281,
    "start_time": "2023-09-25T10:21:16.394Z"
   },
   {
    "duration": 44,
    "start_time": "2023-09-25T10:21:16.677Z"
   },
   {
    "duration": 17,
    "start_time": "2023-09-25T10:21:16.722Z"
   },
   {
    "duration": 25,
    "start_time": "2023-09-25T10:21:16.740Z"
   },
   {
    "duration": 39,
    "start_time": "2023-09-25T10:21:16.766Z"
   },
   {
    "duration": 35,
    "start_time": "2023-09-25T10:21:16.807Z"
   },
   {
    "duration": 167,
    "start_time": "2023-09-25T10:21:16.844Z"
   },
   {
    "duration": 91,
    "start_time": "2023-09-25T10:21:17.013Z"
   },
   {
    "duration": 146,
    "start_time": "2023-09-25T10:21:17.106Z"
   },
   {
    "duration": 220,
    "start_time": "2023-09-25T10:21:17.253Z"
   },
   {
    "duration": 177,
    "start_time": "2023-09-25T10:21:17.475Z"
   },
   {
    "duration": 24,
    "start_time": "2023-09-25T10:21:17.653Z"
   },
   {
    "duration": 20,
    "start_time": "2023-09-25T10:21:17.678Z"
   },
   {
    "duration": 139,
    "start_time": "2023-09-25T10:21:17.699Z"
   },
   {
    "duration": 36,
    "start_time": "2023-09-25T10:21:17.844Z"
   },
   {
    "duration": 222,
    "start_time": "2023-09-25T10:21:17.882Z"
   },
   {
    "duration": 11,
    "start_time": "2023-09-25T10:21:18.106Z"
   },
   {
    "duration": 47,
    "start_time": "2023-09-25T10:21:18.118Z"
   },
   {
    "duration": 28,
    "start_time": "2023-09-25T10:21:18.167Z"
   },
   {
    "duration": 133,
    "start_time": "2023-09-25T10:21:18.197Z"
   },
   {
    "duration": 4,
    "start_time": "2023-09-25T10:21:18.332Z"
   },
   {
    "duration": 27,
    "start_time": "2023-09-25T10:23:40.808Z"
   },
   {
    "duration": 26,
    "start_time": "2023-09-25T10:24:20.305Z"
   },
   {
    "duration": 47,
    "start_time": "2023-09-25T10:24:56.031Z"
   },
   {
    "duration": 8,
    "start_time": "2023-09-25T10:26:49.752Z"
   },
   {
    "duration": 10,
    "start_time": "2023-09-25T10:27:53.109Z"
   },
   {
    "duration": 1085,
    "start_time": "2023-09-25T10:28:05.109Z"
   },
   {
    "duration": 68,
    "start_time": "2023-09-25T10:28:06.196Z"
   },
   {
    "duration": 51,
    "start_time": "2023-09-25T10:28:06.266Z"
   },
   {
    "duration": 7,
    "start_time": "2023-09-25T10:28:06.319Z"
   },
   {
    "duration": 18,
    "start_time": "2023-09-25T10:28:06.327Z"
   },
   {
    "duration": 15,
    "start_time": "2023-09-25T10:28:06.347Z"
   },
   {
    "duration": 7,
    "start_time": "2023-09-25T10:28:06.364Z"
   },
   {
    "duration": 11,
    "start_time": "2023-09-25T10:28:06.373Z"
   },
   {
    "duration": 17,
    "start_time": "2023-09-25T10:28:06.385Z"
   },
   {
    "duration": 21,
    "start_time": "2023-09-25T10:28:06.405Z"
   },
   {
    "duration": 18,
    "start_time": "2023-09-25T10:28:06.428Z"
   },
   {
    "duration": 11,
    "start_time": "2023-09-25T10:28:06.448Z"
   },
   {
    "duration": 160,
    "start_time": "2023-09-25T10:28:06.460Z"
   },
   {
    "duration": 84,
    "start_time": "2023-09-25T10:28:06.622Z"
   },
   {
    "duration": 151,
    "start_time": "2023-09-25T10:28:06.707Z"
   },
   {
    "duration": 219,
    "start_time": "2023-09-25T10:28:06.859Z"
   },
   {
    "duration": 180,
    "start_time": "2023-09-25T10:28:07.079Z"
   },
   {
    "duration": 21,
    "start_time": "2023-09-25T10:28:07.260Z"
   },
   {
    "duration": 11,
    "start_time": "2023-09-25T10:28:07.283Z"
   },
   {
    "duration": 154,
    "start_time": "2023-09-25T10:28:07.296Z"
   },
   {
    "duration": 39,
    "start_time": "2023-09-25T10:28:07.451Z"
   },
   {
    "duration": 227,
    "start_time": "2023-09-25T10:28:07.491Z"
   },
   {
    "duration": 25,
    "start_time": "2023-09-25T10:28:07.720Z"
   },
   {
    "duration": 12,
    "start_time": "2023-09-25T10:28:07.747Z"
   },
   {
    "duration": 42,
    "start_time": "2023-09-25T10:28:07.761Z"
   },
   {
    "duration": 162,
    "start_time": "2023-09-25T10:28:07.805Z"
   },
   {
    "duration": 5,
    "start_time": "2023-09-25T10:28:07.968Z"
   },
   {
    "duration": 1131,
    "start_time": "2023-09-25T10:28:32.169Z"
   },
   {
    "duration": 66,
    "start_time": "2023-09-25T10:28:33.302Z"
   },
   {
    "duration": 52,
    "start_time": "2023-09-25T10:28:33.369Z"
   },
   {
    "duration": 22,
    "start_time": "2023-09-25T10:28:33.423Z"
   },
   {
    "duration": 42,
    "start_time": "2023-09-25T10:28:33.446Z"
   },
   {
    "duration": 20,
    "start_time": "2023-09-25T10:28:33.490Z"
   },
   {
    "duration": 41,
    "start_time": "2023-09-25T10:28:33.512Z"
   },
   {
    "duration": 27,
    "start_time": "2023-09-25T10:28:33.554Z"
   },
   {
    "duration": 22,
    "start_time": "2023-09-25T10:28:33.582Z"
   },
   {
    "duration": 35,
    "start_time": "2023-09-25T10:28:33.606Z"
   },
   {
    "duration": 22,
    "start_time": "2023-09-25T10:28:33.643Z"
   },
   {
    "duration": 10,
    "start_time": "2023-09-25T10:28:33.667Z"
   },
   {
    "duration": 204,
    "start_time": "2023-09-25T10:28:33.678Z"
   },
   {
    "duration": 89,
    "start_time": "2023-09-25T10:28:33.883Z"
   },
   {
    "duration": 148,
    "start_time": "2023-09-25T10:28:33.974Z"
   },
   {
    "duration": 220,
    "start_time": "2023-09-25T10:28:34.124Z"
   },
   {
    "duration": 214,
    "start_time": "2023-09-25T10:28:34.346Z"
   },
   {
    "duration": 25,
    "start_time": "2023-09-25T10:28:34.562Z"
   },
   {
    "duration": 12,
    "start_time": "2023-09-25T10:28:34.588Z"
   },
   {
    "duration": 145,
    "start_time": "2023-09-25T10:28:34.602Z"
   },
   {
    "duration": 36,
    "start_time": "2023-09-25T10:28:34.749Z"
   },
   {
    "duration": 216,
    "start_time": "2023-09-25T10:28:34.787Z"
   },
   {
    "duration": 10,
    "start_time": "2023-09-25T10:28:35.005Z"
   },
   {
    "duration": 23,
    "start_time": "2023-09-25T10:28:35.016Z"
   },
   {
    "duration": 52,
    "start_time": "2023-09-25T10:28:35.041Z"
   },
   {
    "duration": 160,
    "start_time": "2023-09-25T10:28:35.094Z"
   },
   {
    "duration": 5,
    "start_time": "2023-09-25T10:28:35.255Z"
   },
   {
    "duration": 132,
    "start_time": "2023-09-25T10:34:04.217Z"
   },
   {
    "duration": 155,
    "start_time": "2023-09-25T10:37:18.322Z"
   },
   {
    "duration": 4,
    "start_time": "2023-09-25T10:39:07.177Z"
   },
   {
    "duration": 1177,
    "start_time": "2023-09-25T10:39:34.120Z"
   },
   {
    "duration": 67,
    "start_time": "2023-09-25T10:39:35.299Z"
   },
   {
    "duration": 55,
    "start_time": "2023-09-25T10:39:35.368Z"
   },
   {
    "duration": 7,
    "start_time": "2023-09-25T10:39:35.425Z"
   },
   {
    "duration": 6,
    "start_time": "2023-09-25T10:39:35.444Z"
   },
   {
    "duration": 13,
    "start_time": "2023-09-25T10:39:35.451Z"
   },
   {
    "duration": 7,
    "start_time": "2023-09-25T10:39:35.466Z"
   },
   {
    "duration": 12,
    "start_time": "2023-09-25T10:39:35.474Z"
   },
   {
    "duration": 14,
    "start_time": "2023-09-25T10:39:35.487Z"
   },
   {
    "duration": 23,
    "start_time": "2023-09-25T10:39:35.503Z"
   },
   {
    "duration": 33,
    "start_time": "2023-09-25T10:39:35.527Z"
   },
   {
    "duration": 11,
    "start_time": "2023-09-25T10:39:35.562Z"
   },
   {
    "duration": 162,
    "start_time": "2023-09-25T10:39:35.575Z"
   },
   {
    "duration": 82,
    "start_time": "2023-09-25T10:39:35.740Z"
   },
   {
    "duration": 159,
    "start_time": "2023-09-25T10:39:35.825Z"
   },
   {
    "duration": 233,
    "start_time": "2023-09-25T10:39:35.986Z"
   },
   {
    "duration": 141,
    "start_time": "2023-09-25T10:39:36.221Z"
   },
   {
    "duration": 188,
    "start_time": "2023-09-25T10:39:36.364Z"
   },
   {
    "duration": 22,
    "start_time": "2023-09-25T10:39:36.553Z"
   },
   {
    "duration": 7,
    "start_time": "2023-09-25T10:39:36.576Z"
   },
   {
    "duration": 33,
    "start_time": "2023-09-25T10:39:36.585Z"
   },
   {
    "duration": 128,
    "start_time": "2023-09-25T10:39:36.620Z"
   },
   {
    "duration": 36,
    "start_time": "2023-09-25T10:39:36.750Z"
   },
   {
    "duration": 299,
    "start_time": "2023-09-25T10:39:36.788Z"
   },
   {
    "duration": 11,
    "start_time": "2023-09-25T10:39:37.088Z"
   },
   {
    "duration": 45,
    "start_time": "2023-09-25T10:39:37.100Z"
   },
   {
    "duration": 11,
    "start_time": "2023-09-25T10:39:37.147Z"
   },
   {
    "duration": 148,
    "start_time": "2023-09-25T10:39:37.161Z"
   },
   {
    "duration": 4,
    "start_time": "2023-09-25T10:39:37.311Z"
   },
   {
    "duration": 30,
    "start_time": "2023-09-25T10:42:24.020Z"
   },
   {
    "duration": 1155,
    "start_time": "2023-09-25T10:42:47.844Z"
   },
   {
    "duration": 69,
    "start_time": "2023-09-25T10:42:49.001Z"
   },
   {
    "duration": 50,
    "start_time": "2023-09-25T10:42:49.072Z"
   },
   {
    "duration": 7,
    "start_time": "2023-09-25T10:42:49.124Z"
   },
   {
    "duration": 27,
    "start_time": "2023-09-25T10:42:49.143Z"
   },
   {
    "duration": 28,
    "start_time": "2023-09-25T10:42:49.172Z"
   },
   {
    "duration": 38,
    "start_time": "2023-09-25T10:42:49.202Z"
   },
   {
    "duration": 23,
    "start_time": "2023-09-25T10:42:49.241Z"
   },
   {
    "duration": 37,
    "start_time": "2023-09-25T10:42:49.266Z"
   },
   {
    "duration": 47,
    "start_time": "2023-09-25T10:42:49.306Z"
   },
   {
    "duration": 54,
    "start_time": "2023-09-25T10:42:49.354Z"
   },
   {
    "duration": 52,
    "start_time": "2023-09-25T10:42:49.409Z"
   },
   {
    "duration": 163,
    "start_time": "2023-09-25T10:42:49.463Z"
   },
   {
    "duration": 88,
    "start_time": "2023-09-25T10:42:49.628Z"
   },
   {
    "duration": 158,
    "start_time": "2023-09-25T10:42:49.717Z"
   },
   {
    "duration": 219,
    "start_time": "2023-09-25T10:42:49.876Z"
   },
   {
    "duration": 143,
    "start_time": "2023-09-25T10:42:50.096Z"
   },
   {
    "duration": 179,
    "start_time": "2023-09-25T10:42:50.243Z"
   },
   {
    "duration": 31,
    "start_time": "2023-09-25T10:42:50.423Z"
   },
   {
    "duration": 26,
    "start_time": "2023-09-25T10:42:50.456Z"
   },
   {
    "duration": 43,
    "start_time": "2023-09-25T10:42:50.484Z"
   },
   {
    "duration": 137,
    "start_time": "2023-09-25T10:42:50.529Z"
   },
   {
    "duration": 36,
    "start_time": "2023-09-25T10:42:50.668Z"
   },
   {
    "duration": 223,
    "start_time": "2023-09-25T10:42:50.706Z"
   },
   {
    "duration": 19,
    "start_time": "2023-09-25T10:42:50.931Z"
   },
   {
    "duration": 79,
    "start_time": "2023-09-25T10:42:50.952Z"
   },
   {
    "duration": 55,
    "start_time": "2023-09-25T10:42:51.034Z"
   },
   {
    "duration": 144,
    "start_time": "2023-09-25T10:42:51.092Z"
   },
   {
    "duration": 6,
    "start_time": "2023-09-25T10:42:51.237Z"
   },
   {
    "duration": 1103,
    "start_time": "2023-09-25T10:46:11.697Z"
   },
   {
    "duration": 69,
    "start_time": "2023-09-25T10:46:12.803Z"
   },
   {
    "duration": 54,
    "start_time": "2023-09-25T10:46:12.873Z"
   },
   {
    "duration": 19,
    "start_time": "2023-09-25T10:46:12.928Z"
   },
   {
    "duration": 18,
    "start_time": "2023-09-25T10:46:12.948Z"
   },
   {
    "duration": 23,
    "start_time": "2023-09-25T10:46:12.968Z"
   },
   {
    "duration": 24,
    "start_time": "2023-09-25T10:46:12.992Z"
   },
   {
    "duration": 35,
    "start_time": "2023-09-25T10:46:13.018Z"
   },
   {
    "duration": 15,
    "start_time": "2023-09-25T10:46:13.055Z"
   },
   {
    "duration": 13,
    "start_time": "2023-09-25T10:46:13.073Z"
   },
   {
    "duration": 31,
    "start_time": "2023-09-25T10:46:13.087Z"
   },
   {
    "duration": 44,
    "start_time": "2023-09-25T10:46:13.120Z"
   },
   {
    "duration": 178,
    "start_time": "2023-09-25T10:46:13.165Z"
   },
   {
    "duration": 84,
    "start_time": "2023-09-25T10:46:13.345Z"
   },
   {
    "duration": 168,
    "start_time": "2023-09-25T10:46:13.431Z"
   },
   {
    "duration": 264,
    "start_time": "2023-09-25T10:46:13.601Z"
   },
   {
    "duration": 138,
    "start_time": "2023-09-25T10:46:13.867Z"
   },
   {
    "duration": 189,
    "start_time": "2023-09-25T10:46:14.006Z"
   },
   {
    "duration": 23,
    "start_time": "2023-09-25T10:46:14.197Z"
   },
   {
    "duration": 16,
    "start_time": "2023-09-25T10:46:14.221Z"
   },
   {
    "duration": 30,
    "start_time": "2023-09-25T10:46:14.244Z"
   },
   {
    "duration": 199,
    "start_time": "2023-09-25T10:46:14.276Z"
   },
   {
    "duration": 48,
    "start_time": "2023-09-25T10:46:14.477Z"
   },
   {
    "duration": 221,
    "start_time": "2023-09-25T10:46:14.543Z"
   },
   {
    "duration": 11,
    "start_time": "2023-09-25T10:46:14.765Z"
   },
   {
    "duration": 16,
    "start_time": "2023-09-25T10:46:14.778Z"
   },
   {
    "duration": 59,
    "start_time": "2023-09-25T10:46:14.796Z"
   },
   {
    "duration": 140,
    "start_time": "2023-09-25T10:46:14.858Z"
   },
   {
    "duration": 4,
    "start_time": "2023-09-25T10:46:15.000Z"
   },
   {
    "duration": 219,
    "start_time": "2023-09-25T10:49:03.861Z"
   },
   {
    "duration": 261,
    "start_time": "2023-09-25T10:57:23.794Z"
   },
   {
    "duration": 4,
    "start_time": "2023-09-25T11:06:33.114Z"
   },
   {
    "duration": 106,
    "start_time": "2023-09-25T11:10:25.957Z"
   },
   {
    "duration": 35,
    "start_time": "2023-09-25T11:15:16.107Z"
   },
   {
    "duration": 55,
    "start_time": "2023-09-25T11:15:43.847Z"
   },
   {
    "duration": 113,
    "start_time": "2023-09-25T11:17:49.379Z"
   },
   {
    "duration": 10,
    "start_time": "2023-09-25T11:18:42.161Z"
   },
   {
    "duration": 216,
    "start_time": "2023-09-25T11:19:19.292Z"
   },
   {
    "duration": 10,
    "start_time": "2023-09-25T11:24:04.903Z"
   },
   {
    "duration": 6,
    "start_time": "2023-09-25T11:28:34.363Z"
   },
   {
    "duration": 7,
    "start_time": "2023-09-25T11:33:24.269Z"
   },
   {
    "duration": 1087,
    "start_time": "2023-09-25T11:40:19.923Z"
   },
   {
    "duration": 66,
    "start_time": "2023-09-25T11:40:21.012Z"
   },
   {
    "duration": 49,
    "start_time": "2023-09-25T11:40:21.079Z"
   },
   {
    "duration": 7,
    "start_time": "2023-09-25T11:40:21.130Z"
   },
   {
    "duration": 25,
    "start_time": "2023-09-25T11:40:21.143Z"
   },
   {
    "duration": 20,
    "start_time": "2023-09-25T11:40:21.169Z"
   },
   {
    "duration": 14,
    "start_time": "2023-09-25T11:40:21.191Z"
   },
   {
    "duration": 10,
    "start_time": "2023-09-25T11:40:21.207Z"
   },
   {
    "duration": 11,
    "start_time": "2023-09-25T11:40:21.218Z"
   },
   {
    "duration": 10,
    "start_time": "2023-09-25T11:40:21.231Z"
   },
   {
    "duration": 10,
    "start_time": "2023-09-25T11:40:21.243Z"
   },
   {
    "duration": 31,
    "start_time": "2023-09-25T11:40:21.255Z"
   },
   {
    "duration": 175,
    "start_time": "2023-09-25T11:40:21.287Z"
   },
   {
    "duration": 90,
    "start_time": "2023-09-25T11:40:21.464Z"
   },
   {
    "duration": 144,
    "start_time": "2023-09-25T11:40:21.556Z"
   },
   {
    "duration": 215,
    "start_time": "2023-09-25T11:40:21.702Z"
   },
   {
    "duration": 139,
    "start_time": "2023-09-25T11:40:21.919Z"
   },
   {
    "duration": 196,
    "start_time": "2023-09-25T11:40:22.060Z"
   },
   {
    "duration": 24,
    "start_time": "2023-09-25T11:40:22.257Z"
   },
   {
    "duration": 111,
    "start_time": "2023-09-25T11:40:22.283Z"
   },
   {
    "duration": 0,
    "start_time": "2023-09-25T11:40:22.396Z"
   },
   {
    "duration": 0,
    "start_time": "2023-09-25T11:40:22.398Z"
   },
   {
    "duration": 0,
    "start_time": "2023-09-25T11:40:22.399Z"
   },
   {
    "duration": 0,
    "start_time": "2023-09-25T11:40:22.400Z"
   },
   {
    "duration": 0,
    "start_time": "2023-09-25T11:40:22.401Z"
   },
   {
    "duration": 0,
    "start_time": "2023-09-25T11:40:22.402Z"
   },
   {
    "duration": 0,
    "start_time": "2023-09-25T11:40:22.403Z"
   },
   {
    "duration": 0,
    "start_time": "2023-09-25T11:40:22.404Z"
   },
   {
    "duration": 0,
    "start_time": "2023-09-25T11:40:22.405Z"
   },
   {
    "duration": 0,
    "start_time": "2023-09-25T11:40:22.406Z"
   },
   {
    "duration": 252,
    "start_time": "2023-09-25T11:42:57.132Z"
   },
   {
    "duration": 1055,
    "start_time": "2023-09-25T11:43:50.590Z"
   },
   {
    "duration": 67,
    "start_time": "2023-09-25T11:43:51.647Z"
   },
   {
    "duration": 55,
    "start_time": "2023-09-25T11:43:51.716Z"
   },
   {
    "duration": 7,
    "start_time": "2023-09-25T11:43:51.774Z"
   },
   {
    "duration": 24,
    "start_time": "2023-09-25T11:43:51.783Z"
   },
   {
    "duration": 18,
    "start_time": "2023-09-25T11:43:51.808Z"
   },
   {
    "duration": 18,
    "start_time": "2023-09-25T11:43:51.828Z"
   },
   {
    "duration": 23,
    "start_time": "2023-09-25T11:43:51.847Z"
   },
   {
    "duration": 33,
    "start_time": "2023-09-25T11:43:51.872Z"
   },
   {
    "duration": 12,
    "start_time": "2023-09-25T11:43:51.908Z"
   },
   {
    "duration": 19,
    "start_time": "2023-09-25T11:43:51.921Z"
   },
   {
    "duration": 32,
    "start_time": "2023-09-25T11:43:51.941Z"
   },
   {
    "duration": 173,
    "start_time": "2023-09-25T11:43:51.975Z"
   },
   {
    "duration": 107,
    "start_time": "2023-09-25T11:43:52.150Z"
   },
   {
    "duration": 168,
    "start_time": "2023-09-25T11:43:52.259Z"
   },
   {
    "duration": 227,
    "start_time": "2023-09-25T11:43:52.429Z"
   },
   {
    "duration": 146,
    "start_time": "2023-09-25T11:43:52.658Z"
   },
   {
    "duration": 209,
    "start_time": "2023-09-25T11:43:52.806Z"
   },
   {
    "duration": 32,
    "start_time": "2023-09-25T11:43:53.017Z"
   },
   {
    "duration": 103,
    "start_time": "2023-09-25T11:43:53.051Z"
   },
   {
    "duration": 0,
    "start_time": "2023-09-25T11:43:53.156Z"
   },
   {
    "duration": 0,
    "start_time": "2023-09-25T11:43:53.157Z"
   },
   {
    "duration": 0,
    "start_time": "2023-09-25T11:43:53.158Z"
   },
   {
    "duration": 0,
    "start_time": "2023-09-25T11:43:53.159Z"
   },
   {
    "duration": 0,
    "start_time": "2023-09-25T11:43:53.160Z"
   },
   {
    "duration": 0,
    "start_time": "2023-09-25T11:43:53.161Z"
   },
   {
    "duration": 0,
    "start_time": "2023-09-25T11:43:53.163Z"
   },
   {
    "duration": 0,
    "start_time": "2023-09-25T11:43:53.164Z"
   },
   {
    "duration": 0,
    "start_time": "2023-09-25T11:43:53.165Z"
   },
   {
    "duration": 0,
    "start_time": "2023-09-25T11:43:53.166Z"
   },
   {
    "duration": 1154,
    "start_time": "2023-09-25T11:44:47.017Z"
   },
   {
    "duration": 67,
    "start_time": "2023-09-25T11:44:48.173Z"
   },
   {
    "duration": 52,
    "start_time": "2023-09-25T11:44:48.241Z"
   },
   {
    "duration": 6,
    "start_time": "2023-09-25T11:44:48.295Z"
   },
   {
    "duration": 22,
    "start_time": "2023-09-25T11:44:48.302Z"
   },
   {
    "duration": 28,
    "start_time": "2023-09-25T11:44:48.325Z"
   },
   {
    "duration": 9,
    "start_time": "2023-09-25T11:44:48.355Z"
   },
   {
    "duration": 21,
    "start_time": "2023-09-25T11:44:48.366Z"
   },
   {
    "duration": 17,
    "start_time": "2023-09-25T11:44:48.388Z"
   },
   {
    "duration": 33,
    "start_time": "2023-09-25T11:44:48.407Z"
   },
   {
    "duration": 34,
    "start_time": "2023-09-25T11:44:48.442Z"
   },
   {
    "duration": 40,
    "start_time": "2023-09-25T11:44:48.478Z"
   },
   {
    "duration": 167,
    "start_time": "2023-09-25T11:44:48.520Z"
   },
   {
    "duration": 94,
    "start_time": "2023-09-25T11:44:48.688Z"
   },
   {
    "duration": 151,
    "start_time": "2023-09-25T11:44:48.784Z"
   },
   {
    "duration": 219,
    "start_time": "2023-09-25T11:44:48.936Z"
   },
   {
    "duration": 149,
    "start_time": "2023-09-25T11:44:49.157Z"
   },
   {
    "duration": 203,
    "start_time": "2023-09-25T11:44:49.307Z"
   },
   {
    "duration": 22,
    "start_time": "2023-09-25T11:44:49.512Z"
   },
   {
    "duration": 116,
    "start_time": "2023-09-25T11:44:49.543Z"
   },
   {
    "duration": 0,
    "start_time": "2023-09-25T11:44:49.661Z"
   },
   {
    "duration": 0,
    "start_time": "2023-09-25T11:44:49.664Z"
   },
   {
    "duration": 0,
    "start_time": "2023-09-25T11:44:49.666Z"
   },
   {
    "duration": 0,
    "start_time": "2023-09-25T11:44:49.667Z"
   },
   {
    "duration": 0,
    "start_time": "2023-09-25T11:44:49.669Z"
   },
   {
    "duration": 0,
    "start_time": "2023-09-25T11:44:49.671Z"
   },
   {
    "duration": 0,
    "start_time": "2023-09-25T11:44:49.672Z"
   },
   {
    "duration": 0,
    "start_time": "2023-09-25T11:44:49.673Z"
   },
   {
    "duration": 0,
    "start_time": "2023-09-25T11:44:49.675Z"
   },
   {
    "duration": 1,
    "start_time": "2023-09-25T11:44:49.675Z"
   },
   {
    "duration": 10,
    "start_time": "2023-09-25T11:45:51.908Z"
   },
   {
    "duration": 20,
    "start_time": "2023-09-25T11:50:58.018Z"
   },
   {
    "duration": 1038,
    "start_time": "2023-09-25T11:51:32.980Z"
   },
   {
    "duration": 69,
    "start_time": "2023-09-25T11:51:34.020Z"
   },
   {
    "duration": 49,
    "start_time": "2023-09-25T11:51:34.091Z"
   },
   {
    "duration": 6,
    "start_time": "2023-09-25T11:51:34.142Z"
   },
   {
    "duration": 26,
    "start_time": "2023-09-25T11:51:34.150Z"
   },
   {
    "duration": 13,
    "start_time": "2023-09-25T11:51:34.178Z"
   },
   {
    "duration": 14,
    "start_time": "2023-09-25T11:51:34.192Z"
   },
   {
    "duration": 7,
    "start_time": "2023-09-25T11:51:34.208Z"
   },
   {
    "duration": 17,
    "start_time": "2023-09-25T11:51:34.217Z"
   },
   {
    "duration": 16,
    "start_time": "2023-09-25T11:51:34.235Z"
   },
   {
    "duration": 10,
    "start_time": "2023-09-25T11:51:34.253Z"
   },
   {
    "duration": 38,
    "start_time": "2023-09-25T11:51:34.265Z"
   },
   {
    "duration": 188,
    "start_time": "2023-09-25T11:51:34.305Z"
   },
   {
    "duration": 106,
    "start_time": "2023-09-25T11:51:34.496Z"
   },
   {
    "duration": 148,
    "start_time": "2023-09-25T11:51:34.603Z"
   },
   {
    "duration": 212,
    "start_time": "2023-09-25T11:51:34.753Z"
   },
   {
    "duration": 159,
    "start_time": "2023-09-25T11:51:34.966Z"
   },
   {
    "duration": 216,
    "start_time": "2023-09-25T11:51:35.127Z"
   },
   {
    "duration": 23,
    "start_time": "2023-09-25T11:51:35.345Z"
   },
   {
    "duration": 106,
    "start_time": "2023-09-25T11:51:35.369Z"
   },
   {
    "duration": 0,
    "start_time": "2023-09-25T11:51:35.477Z"
   },
   {
    "duration": 0,
    "start_time": "2023-09-25T11:51:35.478Z"
   },
   {
    "duration": 0,
    "start_time": "2023-09-25T11:51:35.479Z"
   },
   {
    "duration": 0,
    "start_time": "2023-09-25T11:51:35.480Z"
   },
   {
    "duration": 0,
    "start_time": "2023-09-25T11:51:35.480Z"
   },
   {
    "duration": 0,
    "start_time": "2023-09-25T11:51:35.481Z"
   },
   {
    "duration": 0,
    "start_time": "2023-09-25T11:51:35.482Z"
   },
   {
    "duration": 0,
    "start_time": "2023-09-25T11:51:35.483Z"
   },
   {
    "duration": 0,
    "start_time": "2023-09-25T11:51:35.484Z"
   },
   {
    "duration": 0,
    "start_time": "2023-09-25T11:51:35.485Z"
   },
   {
    "duration": 4,
    "start_time": "2023-09-25T11:54:14.557Z"
   },
   {
    "duration": 1089,
    "start_time": "2023-09-25T11:54:51.512Z"
   },
   {
    "duration": 68,
    "start_time": "2023-09-25T11:54:52.602Z"
   },
   {
    "duration": 64,
    "start_time": "2023-09-25T11:54:52.672Z"
   },
   {
    "duration": 21,
    "start_time": "2023-09-25T11:54:52.739Z"
   },
   {
    "duration": 43,
    "start_time": "2023-09-25T11:54:52.762Z"
   },
   {
    "duration": 60,
    "start_time": "2023-09-25T11:54:52.808Z"
   },
   {
    "duration": 25,
    "start_time": "2023-09-25T11:54:52.870Z"
   },
   {
    "duration": 54,
    "start_time": "2023-09-25T11:54:52.896Z"
   },
   {
    "duration": 34,
    "start_time": "2023-09-25T11:54:52.951Z"
   },
   {
    "duration": 53,
    "start_time": "2023-09-25T11:54:52.988Z"
   },
   {
    "duration": 29,
    "start_time": "2023-09-25T11:54:53.043Z"
   },
   {
    "duration": 67,
    "start_time": "2023-09-25T11:54:53.074Z"
   },
   {
    "duration": 177,
    "start_time": "2023-09-25T11:54:53.143Z"
   },
   {
    "duration": 91,
    "start_time": "2023-09-25T11:54:53.322Z"
   },
   {
    "duration": 157,
    "start_time": "2023-09-25T11:54:53.415Z"
   },
   {
    "duration": 243,
    "start_time": "2023-09-25T11:54:53.574Z"
   },
   {
    "duration": 147,
    "start_time": "2023-09-25T11:54:53.818Z"
   },
   {
    "duration": 195,
    "start_time": "2023-09-25T11:54:53.967Z"
   },
   {
    "duration": 23,
    "start_time": "2023-09-25T11:54:54.164Z"
   },
   {
    "duration": 5,
    "start_time": "2023-09-25T11:54:54.189Z"
   },
   {
    "duration": 40,
    "start_time": "2023-09-25T11:54:54.196Z"
   },
   {
    "duration": 134,
    "start_time": "2023-09-25T11:54:54.238Z"
   },
   {
    "duration": 246,
    "start_time": "2023-09-25T11:54:54.374Z"
   },
   {
    "duration": 61,
    "start_time": "2023-09-25T11:54:54.622Z"
   },
   {
    "duration": 98,
    "start_time": "2023-09-25T11:54:54.685Z"
   },
   {
    "duration": 0,
    "start_time": "2023-09-25T11:54:54.785Z"
   },
   {
    "duration": 0,
    "start_time": "2023-09-25T11:54:54.786Z"
   },
   {
    "duration": 0,
    "start_time": "2023-09-25T11:54:54.787Z"
   },
   {
    "duration": 0,
    "start_time": "2023-09-25T11:54:54.788Z"
   },
   {
    "duration": 0,
    "start_time": "2023-09-25T11:54:54.789Z"
   },
   {
    "duration": 342,
    "start_time": "2023-09-25T11:55:22.874Z"
   },
   {
    "duration": 191,
    "start_time": "2023-09-25T11:57:03.061Z"
   },
   {
    "duration": 1086,
    "start_time": "2023-09-25T11:57:15.550Z"
   },
   {
    "duration": 67,
    "start_time": "2023-09-25T11:57:16.638Z"
   },
   {
    "duration": 54,
    "start_time": "2023-09-25T11:57:16.707Z"
   },
   {
    "duration": 7,
    "start_time": "2023-09-25T11:57:16.763Z"
   },
   {
    "duration": 45,
    "start_time": "2023-09-25T11:57:16.772Z"
   },
   {
    "duration": 25,
    "start_time": "2023-09-25T11:57:16.819Z"
   },
   {
    "duration": 23,
    "start_time": "2023-09-25T11:57:16.846Z"
   },
   {
    "duration": 26,
    "start_time": "2023-09-25T11:57:16.871Z"
   },
   {
    "duration": 28,
    "start_time": "2023-09-25T11:57:16.899Z"
   },
   {
    "duration": 18,
    "start_time": "2023-09-25T11:57:16.930Z"
   },
   {
    "duration": 16,
    "start_time": "2023-09-25T11:57:16.950Z"
   },
   {
    "duration": 37,
    "start_time": "2023-09-25T11:57:16.969Z"
   },
   {
    "duration": 210,
    "start_time": "2023-09-25T11:57:17.008Z"
   },
   {
    "duration": 91,
    "start_time": "2023-09-25T11:57:17.219Z"
   },
   {
    "duration": 150,
    "start_time": "2023-09-25T11:57:17.312Z"
   },
   {
    "duration": 224,
    "start_time": "2023-09-25T11:57:17.463Z"
   },
   {
    "duration": 144,
    "start_time": "2023-09-25T11:57:17.689Z"
   },
   {
    "duration": 190,
    "start_time": "2023-09-25T11:57:17.835Z"
   },
   {
    "duration": 32,
    "start_time": "2023-09-25T11:57:18.027Z"
   },
   {
    "duration": 37,
    "start_time": "2023-09-25T11:57:18.061Z"
   },
   {
    "duration": 14,
    "start_time": "2023-09-25T11:57:18.100Z"
   },
   {
    "duration": 131,
    "start_time": "2023-09-25T11:57:18.115Z"
   },
   {
    "duration": 196,
    "start_time": "2023-09-25T11:57:18.247Z"
   },
   {
    "duration": 42,
    "start_time": "2023-09-25T11:57:18.445Z"
   },
   {
    "duration": 213,
    "start_time": "2023-09-25T11:57:18.488Z"
   },
   {
    "duration": 112,
    "start_time": "2023-09-25T11:57:18.703Z"
   },
   {
    "duration": 0,
    "start_time": "2023-09-25T11:57:18.816Z"
   },
   {
    "duration": 0,
    "start_time": "2023-09-25T11:57:18.817Z"
   },
   {
    "duration": 0,
    "start_time": "2023-09-25T11:57:18.818Z"
   },
   {
    "duration": 0,
    "start_time": "2023-09-25T11:57:18.819Z"
   },
   {
    "duration": 16,
    "start_time": "2023-09-25T11:57:38.405Z"
   },
   {
    "duration": 92,
    "start_time": "2023-09-25T11:59:33.858Z"
   },
   {
    "duration": 0,
    "start_time": "2023-09-25T11:59:33.951Z"
   },
   {
    "duration": 0,
    "start_time": "2023-09-25T11:59:33.953Z"
   },
   {
    "duration": 0,
    "start_time": "2023-09-25T11:59:33.954Z"
   },
   {
    "duration": 0,
    "start_time": "2023-09-25T11:59:33.955Z"
   },
   {
    "duration": 0,
    "start_time": "2023-09-25T11:59:33.956Z"
   },
   {
    "duration": 0,
    "start_time": "2023-09-25T11:59:33.957Z"
   },
   {
    "duration": 0,
    "start_time": "2023-09-25T11:59:33.958Z"
   },
   {
    "duration": 0,
    "start_time": "2023-09-25T11:59:33.959Z"
   },
   {
    "duration": 0,
    "start_time": "2023-09-25T11:59:33.960Z"
   },
   {
    "duration": 0,
    "start_time": "2023-09-25T11:59:33.961Z"
   },
   {
    "duration": 0,
    "start_time": "2023-09-25T11:59:33.961Z"
   },
   {
    "duration": 0,
    "start_time": "2023-09-25T11:59:33.963Z"
   },
   {
    "duration": 0,
    "start_time": "2023-09-25T11:59:33.964Z"
   },
   {
    "duration": 0,
    "start_time": "2023-09-25T11:59:33.965Z"
   },
   {
    "duration": 0,
    "start_time": "2023-09-25T11:59:33.966Z"
   },
   {
    "duration": 0,
    "start_time": "2023-09-25T11:59:33.967Z"
   },
   {
    "duration": 0,
    "start_time": "2023-09-25T11:59:33.968Z"
   },
   {
    "duration": 98,
    "start_time": "2023-09-25T11:59:33.970Z"
   },
   {
    "duration": 0,
    "start_time": "2023-09-25T11:59:34.070Z"
   },
   {
    "duration": 0,
    "start_time": "2023-09-25T11:59:34.071Z"
   },
   {
    "duration": 0,
    "start_time": "2023-09-25T11:59:34.073Z"
   },
   {
    "duration": 0,
    "start_time": "2023-09-25T11:59:34.074Z"
   },
   {
    "duration": 0,
    "start_time": "2023-09-25T11:59:34.075Z"
   },
   {
    "duration": 0,
    "start_time": "2023-09-25T11:59:34.076Z"
   },
   {
    "duration": 0,
    "start_time": "2023-09-25T11:59:34.078Z"
   },
   {
    "duration": 0,
    "start_time": "2023-09-25T11:59:34.079Z"
   },
   {
    "duration": 0,
    "start_time": "2023-09-25T11:59:34.080Z"
   },
   {
    "duration": 0,
    "start_time": "2023-09-25T11:59:34.082Z"
   },
   {
    "duration": 0,
    "start_time": "2023-09-25T11:59:34.083Z"
   },
   {
    "duration": 646,
    "start_time": "2023-09-25T12:00:54.887Z"
   },
   {
    "duration": 0,
    "start_time": "2023-09-25T12:00:55.536Z"
   },
   {
    "duration": 0,
    "start_time": "2023-09-25T12:00:55.537Z"
   },
   {
    "duration": 0,
    "start_time": "2023-09-25T12:00:55.538Z"
   },
   {
    "duration": 0,
    "start_time": "2023-09-25T12:00:55.544Z"
   },
   {
    "duration": 0,
    "start_time": "2023-09-25T12:00:55.545Z"
   },
   {
    "duration": 1,
    "start_time": "2023-09-25T12:00:55.546Z"
   },
   {
    "duration": 0,
    "start_time": "2023-09-25T12:00:55.547Z"
   },
   {
    "duration": 0,
    "start_time": "2023-09-25T12:00:55.548Z"
   },
   {
    "duration": 0,
    "start_time": "2023-09-25T12:00:55.549Z"
   },
   {
    "duration": 0,
    "start_time": "2023-09-25T12:00:55.550Z"
   },
   {
    "duration": 0,
    "start_time": "2023-09-25T12:00:55.551Z"
   },
   {
    "duration": 0,
    "start_time": "2023-09-25T12:00:55.553Z"
   },
   {
    "duration": 0,
    "start_time": "2023-09-25T12:00:55.553Z"
   },
   {
    "duration": 0,
    "start_time": "2023-09-25T12:00:55.554Z"
   },
   {
    "duration": 0,
    "start_time": "2023-09-25T12:00:55.555Z"
   },
   {
    "duration": 0,
    "start_time": "2023-09-25T12:00:55.556Z"
   },
   {
    "duration": 0,
    "start_time": "2023-09-25T12:00:55.557Z"
   },
   {
    "duration": 0,
    "start_time": "2023-09-25T12:00:55.558Z"
   },
   {
    "duration": 0,
    "start_time": "2023-09-25T12:00:55.559Z"
   },
   {
    "duration": 0,
    "start_time": "2023-09-25T12:00:55.560Z"
   },
   {
    "duration": 0,
    "start_time": "2023-09-25T12:00:55.561Z"
   },
   {
    "duration": 0,
    "start_time": "2023-09-25T12:00:55.562Z"
   },
   {
    "duration": 0,
    "start_time": "2023-09-25T12:00:55.563Z"
   },
   {
    "duration": 0,
    "start_time": "2023-09-25T12:00:55.564Z"
   },
   {
    "duration": 0,
    "start_time": "2023-09-25T12:00:55.565Z"
   },
   {
    "duration": 0,
    "start_time": "2023-09-25T12:00:55.566Z"
   },
   {
    "duration": 0,
    "start_time": "2023-09-25T12:00:55.567Z"
   },
   {
    "duration": 0,
    "start_time": "2023-09-25T12:00:55.568Z"
   },
   {
    "duration": 0,
    "start_time": "2023-09-25T12:00:55.569Z"
   },
   {
    "duration": 1287,
    "start_time": "2023-09-25T12:01:33.384Z"
   },
   {
    "duration": 0,
    "start_time": "2023-09-25T12:01:34.674Z"
   },
   {
    "duration": 0,
    "start_time": "2023-09-25T12:01:34.676Z"
   },
   {
    "duration": 0,
    "start_time": "2023-09-25T12:01:34.677Z"
   },
   {
    "duration": 0,
    "start_time": "2023-09-25T12:01:34.678Z"
   },
   {
    "duration": 0,
    "start_time": "2023-09-25T12:01:34.680Z"
   },
   {
    "duration": 0,
    "start_time": "2023-09-25T12:01:34.681Z"
   },
   {
    "duration": 0,
    "start_time": "2023-09-25T12:01:34.682Z"
   },
   {
    "duration": 0,
    "start_time": "2023-09-25T12:01:34.684Z"
   },
   {
    "duration": 0,
    "start_time": "2023-09-25T12:01:34.685Z"
   },
   {
    "duration": 0,
    "start_time": "2023-09-25T12:01:34.686Z"
   },
   {
    "duration": 0,
    "start_time": "2023-09-25T12:01:34.689Z"
   },
   {
    "duration": 0,
    "start_time": "2023-09-25T12:01:34.690Z"
   },
   {
    "duration": 0,
    "start_time": "2023-09-25T12:01:34.691Z"
   },
   {
    "duration": 1,
    "start_time": "2023-09-25T12:01:34.692Z"
   },
   {
    "duration": 0,
    "start_time": "2023-09-25T12:01:34.694Z"
   },
   {
    "duration": 0,
    "start_time": "2023-09-25T12:01:34.695Z"
   },
   {
    "duration": 0,
    "start_time": "2023-09-25T12:01:34.696Z"
   },
   {
    "duration": 0,
    "start_time": "2023-09-25T12:01:34.698Z"
   },
   {
    "duration": 0,
    "start_time": "2023-09-25T12:01:34.699Z"
   },
   {
    "duration": 0,
    "start_time": "2023-09-25T12:01:34.699Z"
   },
   {
    "duration": 0,
    "start_time": "2023-09-25T12:01:34.701Z"
   },
   {
    "duration": 0,
    "start_time": "2023-09-25T12:01:34.702Z"
   },
   {
    "duration": 0,
    "start_time": "2023-09-25T12:01:34.744Z"
   },
   {
    "duration": 0,
    "start_time": "2023-09-25T12:01:34.745Z"
   },
   {
    "duration": 0,
    "start_time": "2023-09-25T12:01:34.747Z"
   },
   {
    "duration": 0,
    "start_time": "2023-09-25T12:01:34.749Z"
   },
   {
    "duration": 0,
    "start_time": "2023-09-25T12:01:34.750Z"
   },
   {
    "duration": 0,
    "start_time": "2023-09-25T12:01:34.752Z"
   },
   {
    "duration": 0,
    "start_time": "2023-09-25T12:01:34.753Z"
   },
   {
    "duration": 9,
    "start_time": "2023-09-25T12:01:52.879Z"
   },
   {
    "duration": 4,
    "start_time": "2023-09-25T12:01:59.503Z"
   },
   {
    "duration": 1097,
    "start_time": "2023-09-25T12:02:08.701Z"
   },
   {
    "duration": 68,
    "start_time": "2023-09-25T12:02:09.800Z"
   },
   {
    "duration": 53,
    "start_time": "2023-09-25T12:02:09.870Z"
   },
   {
    "duration": 7,
    "start_time": "2023-09-25T12:02:09.925Z"
   },
   {
    "duration": 13,
    "start_time": "2023-09-25T12:02:09.934Z"
   },
   {
    "duration": 10,
    "start_time": "2023-09-25T12:02:09.949Z"
   },
   {
    "duration": 21,
    "start_time": "2023-09-25T12:02:09.960Z"
   },
   {
    "duration": 11,
    "start_time": "2023-09-25T12:02:09.983Z"
   },
   {
    "duration": 15,
    "start_time": "2023-09-25T12:02:09.995Z"
   },
   {
    "duration": 31,
    "start_time": "2023-09-25T12:02:10.013Z"
   },
   {
    "duration": 38,
    "start_time": "2023-09-25T12:02:10.046Z"
   },
   {
    "duration": 51,
    "start_time": "2023-09-25T12:02:10.086Z"
   },
   {
    "duration": 157,
    "start_time": "2023-09-25T12:02:10.139Z"
   },
   {
    "duration": 99,
    "start_time": "2023-09-25T12:02:10.298Z"
   },
   {
    "duration": 154,
    "start_time": "2023-09-25T12:02:10.399Z"
   },
   {
    "duration": 217,
    "start_time": "2023-09-25T12:02:10.555Z"
   },
   {
    "duration": 146,
    "start_time": "2023-09-25T12:02:10.774Z"
   },
   {
    "duration": 205,
    "start_time": "2023-09-25T12:02:10.921Z"
   },
   {
    "duration": 32,
    "start_time": "2023-09-25T12:02:11.127Z"
   },
   {
    "duration": 5,
    "start_time": "2023-09-25T12:02:11.161Z"
   },
   {
    "duration": 16,
    "start_time": "2023-09-25T12:02:11.167Z"
   },
   {
    "duration": 138,
    "start_time": "2023-09-25T12:02:11.184Z"
   },
   {
    "duration": 192,
    "start_time": "2023-09-25T12:02:11.324Z"
   },
   {
    "duration": 55,
    "start_time": "2023-09-25T12:02:11.518Z"
   },
   {
    "duration": 210,
    "start_time": "2023-09-25T12:02:11.575Z"
   },
   {
    "duration": 7,
    "start_time": "2023-09-25T12:02:11.786Z"
   },
   {
    "duration": 15,
    "start_time": "2023-09-25T12:02:11.795Z"
   },
   {
    "duration": 112,
    "start_time": "2023-09-25T12:02:11.813Z"
   },
   {
    "duration": 0,
    "start_time": "2023-09-25T12:02:11.927Z"
   },
   {
    "duration": 0,
    "start_time": "2023-09-25T12:02:11.928Z"
   },
   {
    "duration": 11,
    "start_time": "2023-09-25T12:02:20.807Z"
   },
   {
    "duration": 6,
    "start_time": "2023-09-25T12:03:17.079Z"
   },
   {
    "duration": 1117,
    "start_time": "2023-09-25T12:03:24.897Z"
   },
   {
    "duration": 70,
    "start_time": "2023-09-25T12:03:26.016Z"
   },
   {
    "duration": 57,
    "start_time": "2023-09-25T12:03:26.087Z"
   },
   {
    "duration": 8,
    "start_time": "2023-09-25T12:03:26.146Z"
   },
   {
    "duration": 12,
    "start_time": "2023-09-25T12:03:26.156Z"
   },
   {
    "duration": 32,
    "start_time": "2023-09-25T12:03:26.170Z"
   },
   {
    "duration": 8,
    "start_time": "2023-09-25T12:03:26.204Z"
   },
   {
    "duration": 13,
    "start_time": "2023-09-25T12:03:26.213Z"
   },
   {
    "duration": 31,
    "start_time": "2023-09-25T12:03:26.227Z"
   },
   {
    "duration": 19,
    "start_time": "2023-09-25T12:03:26.261Z"
   },
   {
    "duration": 14,
    "start_time": "2023-09-25T12:03:26.282Z"
   },
   {
    "duration": 37,
    "start_time": "2023-09-25T12:03:26.298Z"
   },
   {
    "duration": 179,
    "start_time": "2023-09-25T12:03:26.337Z"
   },
   {
    "duration": 95,
    "start_time": "2023-09-25T12:03:26.517Z"
   },
   {
    "duration": 156,
    "start_time": "2023-09-25T12:03:26.613Z"
   },
   {
    "duration": 215,
    "start_time": "2023-09-25T12:03:26.771Z"
   },
   {
    "duration": 147,
    "start_time": "2023-09-25T12:03:26.987Z"
   },
   {
    "duration": 222,
    "start_time": "2023-09-25T12:03:27.136Z"
   },
   {
    "duration": 30,
    "start_time": "2023-09-25T12:03:27.360Z"
   },
   {
    "duration": 5,
    "start_time": "2023-09-25T12:03:27.392Z"
   },
   {
    "duration": 16,
    "start_time": "2023-09-25T12:03:27.399Z"
   },
   {
    "duration": 145,
    "start_time": "2023-09-25T12:03:27.416Z"
   },
   {
    "duration": 208,
    "start_time": "2023-09-25T12:03:27.563Z"
   },
   {
    "duration": 44,
    "start_time": "2023-09-25T12:03:27.772Z"
   },
   {
    "duration": 209,
    "start_time": "2023-09-25T12:03:27.818Z"
   },
   {
    "duration": 17,
    "start_time": "2023-09-25T12:03:28.029Z"
   },
   {
    "duration": 34,
    "start_time": "2023-09-25T12:03:28.047Z"
   },
   {
    "duration": 28,
    "start_time": "2023-09-25T12:03:28.084Z"
   },
   {
    "duration": 319,
    "start_time": "2023-09-25T12:03:28.114Z"
   },
   {
    "duration": 98,
    "start_time": "2023-09-25T12:03:28.435Z"
   },
   {
    "duration": 5,
    "start_time": "2023-09-25T12:03:37.005Z"
   },
   {
    "duration": 986,
    "start_time": "2023-09-25T12:29:06.791Z"
   },
   {
    "duration": 65,
    "start_time": "2023-09-25T12:29:07.778Z"
   },
   {
    "duration": 48,
    "start_time": "2023-09-25T12:29:07.845Z"
   },
   {
    "duration": 7,
    "start_time": "2023-09-25T12:29:07.896Z"
   },
   {
    "duration": 9,
    "start_time": "2023-09-25T12:29:07.904Z"
   },
   {
    "duration": 37,
    "start_time": "2023-09-25T12:29:07.915Z"
   },
   {
    "duration": 12,
    "start_time": "2023-09-25T12:29:07.954Z"
   },
   {
    "duration": 11,
    "start_time": "2023-09-25T12:29:07.968Z"
   },
   {
    "duration": 21,
    "start_time": "2023-09-25T12:29:07.980Z"
   },
   {
    "duration": 20,
    "start_time": "2023-09-25T12:29:08.003Z"
   },
   {
    "duration": 36,
    "start_time": "2023-09-25T12:29:08.024Z"
   },
   {
    "duration": 38,
    "start_time": "2023-09-25T12:29:08.062Z"
   },
   {
    "duration": 144,
    "start_time": "2023-09-25T12:29:08.102Z"
   },
   {
    "duration": 75,
    "start_time": "2023-09-25T12:29:08.248Z"
   },
   {
    "duration": 151,
    "start_time": "2023-09-25T12:29:08.325Z"
   },
   {
    "duration": 198,
    "start_time": "2023-09-25T12:29:08.477Z"
   },
   {
    "duration": 138,
    "start_time": "2023-09-25T12:29:08.676Z"
   },
   {
    "duration": 186,
    "start_time": "2023-09-25T12:29:08.815Z"
   },
   {
    "duration": 23,
    "start_time": "2023-09-25T12:29:09.003Z"
   },
   {
    "duration": 18,
    "start_time": "2023-09-25T12:29:09.028Z"
   },
   {
    "duration": 14,
    "start_time": "2023-09-25T12:29:09.047Z"
   },
   {
    "duration": 128,
    "start_time": "2023-09-25T12:29:09.062Z"
   },
   {
    "duration": 177,
    "start_time": "2023-09-25T12:29:09.191Z"
   },
   {
    "duration": 39,
    "start_time": "2023-09-25T12:29:09.370Z"
   },
   {
    "duration": 203,
    "start_time": "2023-09-25T12:29:09.411Z"
   },
   {
    "duration": 8,
    "start_time": "2023-09-25T12:29:09.615Z"
   },
   {
    "duration": 20,
    "start_time": "2023-09-25T12:29:09.624Z"
   },
   {
    "duration": 9,
    "start_time": "2023-09-25T12:29:09.647Z"
   },
   {
    "duration": 295,
    "start_time": "2023-09-25T12:29:09.657Z"
   },
   {
    "duration": 5,
    "start_time": "2023-09-25T12:29:09.953Z"
   },
   {
    "duration": 5,
    "start_time": "2023-09-25T12:37:54.791Z"
   },
   {
    "duration": 1160,
    "start_time": "2023-09-25T12:43:20.422Z"
   },
   {
    "duration": 316,
    "start_time": "2023-09-25T12:43:36.538Z"
   },
   {
    "duration": 216,
    "start_time": "2023-09-25T12:43:40.530Z"
   },
   {
    "duration": 4,
    "start_time": "2023-09-25T12:44:55.322Z"
   },
   {
    "duration": 222,
    "start_time": "2023-09-25T12:45:13.029Z"
   },
   {
    "duration": 4,
    "start_time": "2023-09-25T12:45:17.363Z"
   },
   {
    "duration": 219,
    "start_time": "2023-09-25T12:45:26.315Z"
   },
   {
    "duration": 1539,
    "start_time": "2023-09-25T12:45:35.248Z"
   },
   {
    "duration": 1119,
    "start_time": "2023-09-25T12:47:29.641Z"
   },
   {
    "duration": 66,
    "start_time": "2023-09-25T12:47:30.762Z"
   },
   {
    "duration": 51,
    "start_time": "2023-09-25T12:47:30.829Z"
   },
   {
    "duration": 44,
    "start_time": "2023-09-25T12:47:30.881Z"
   },
   {
    "duration": 74,
    "start_time": "2023-09-25T12:47:30.927Z"
   },
   {
    "duration": 37,
    "start_time": "2023-09-25T12:47:31.003Z"
   },
   {
    "duration": 22,
    "start_time": "2023-09-25T12:47:31.042Z"
   },
   {
    "duration": 11,
    "start_time": "2023-09-25T12:47:31.066Z"
   },
   {
    "duration": 45,
    "start_time": "2023-09-25T12:47:31.079Z"
   },
   {
    "duration": 39,
    "start_time": "2023-09-25T12:47:31.125Z"
   },
   {
    "duration": 42,
    "start_time": "2023-09-25T12:47:31.166Z"
   },
   {
    "duration": 64,
    "start_time": "2023-09-25T12:47:31.209Z"
   },
   {
    "duration": 167,
    "start_time": "2023-09-25T12:47:31.275Z"
   },
   {
    "duration": 76,
    "start_time": "2023-09-25T12:47:31.444Z"
   },
   {
    "duration": 146,
    "start_time": "2023-09-25T12:47:31.521Z"
   },
   {
    "duration": 199,
    "start_time": "2023-09-25T12:47:31.668Z"
   },
   {
    "duration": 126,
    "start_time": "2023-09-25T12:47:31.868Z"
   },
   {
    "duration": 183,
    "start_time": "2023-09-25T12:47:31.996Z"
   },
   {
    "duration": 21,
    "start_time": "2023-09-25T12:47:32.180Z"
   },
   {
    "duration": 4,
    "start_time": "2023-09-25T12:47:32.203Z"
   },
   {
    "duration": 14,
    "start_time": "2023-09-25T12:47:32.208Z"
   },
   {
    "duration": 152,
    "start_time": "2023-09-25T12:47:32.223Z"
   },
   {
    "duration": 204,
    "start_time": "2023-09-25T12:47:32.376Z"
   },
   {
    "duration": 38,
    "start_time": "2023-09-25T12:47:32.581Z"
   },
   {
    "duration": 194,
    "start_time": "2023-09-25T12:47:32.621Z"
   },
   {
    "duration": 6,
    "start_time": "2023-09-25T12:47:32.817Z"
   },
   {
    "duration": 18,
    "start_time": "2023-09-25T12:47:32.825Z"
   },
   {
    "duration": 30,
    "start_time": "2023-09-25T12:47:32.844Z"
   },
   {
    "duration": 84,
    "start_time": "2023-09-25T12:47:32.876Z"
   },
   {
    "duration": 0,
    "start_time": "2023-09-25T12:47:32.962Z"
   },
   {
    "duration": 0,
    "start_time": "2023-09-25T12:47:32.963Z"
   },
   {
    "duration": 274,
    "start_time": "2023-09-25T12:47:38.314Z"
   },
   {
    "duration": 4,
    "start_time": "2023-09-25T12:47:41.006Z"
   },
   {
    "duration": 1368,
    "start_time": "2023-09-25T18:48:46.765Z"
   },
   {
    "duration": 193,
    "start_time": "2023-09-25T18:48:48.135Z"
   },
   {
    "duration": 72,
    "start_time": "2023-09-25T18:48:48.329Z"
   },
   {
    "duration": 12,
    "start_time": "2023-09-25T18:48:48.403Z"
   },
   {
    "duration": 37,
    "start_time": "2023-09-25T18:48:48.417Z"
   },
   {
    "duration": 19,
    "start_time": "2023-09-25T18:48:48.457Z"
   },
   {
    "duration": 11,
    "start_time": "2023-09-25T18:48:48.478Z"
   },
   {
    "duration": 10,
    "start_time": "2023-09-25T18:48:48.491Z"
   },
   {
    "duration": 10,
    "start_time": "2023-09-25T18:48:48.503Z"
   },
   {
    "duration": 47,
    "start_time": "2023-09-25T18:48:48.517Z"
   },
   {
    "duration": 46,
    "start_time": "2023-09-25T18:48:48.566Z"
   },
   {
    "duration": 45,
    "start_time": "2023-09-25T18:48:48.614Z"
   },
   {
    "duration": 195,
    "start_time": "2023-09-25T18:48:48.660Z"
   },
   {
    "duration": 95,
    "start_time": "2023-09-25T18:48:48.857Z"
   },
   {
    "duration": 202,
    "start_time": "2023-09-25T18:48:48.954Z"
   },
   {
    "duration": 240,
    "start_time": "2023-09-25T18:48:49.158Z"
   },
   {
    "duration": 168,
    "start_time": "2023-09-25T18:48:49.400Z"
   },
   {
    "duration": 224,
    "start_time": "2023-09-25T18:48:49.570Z"
   },
   {
    "duration": 27,
    "start_time": "2023-09-25T18:48:49.796Z"
   },
   {
    "duration": 22,
    "start_time": "2023-09-25T18:48:49.824Z"
   },
   {
    "duration": 40,
    "start_time": "2023-09-25T18:48:49.848Z"
   },
   {
    "duration": 169,
    "start_time": "2023-09-25T18:48:49.889Z"
   },
   {
    "duration": 374,
    "start_time": "2023-09-25T18:48:50.060Z"
   },
   {
    "duration": 437,
    "start_time": "2023-09-25T18:48:50.436Z"
   },
   {
    "duration": 50,
    "start_time": "2023-09-25T18:48:50.875Z"
   },
   {
    "duration": 254,
    "start_time": "2023-09-25T18:48:50.926Z"
   },
   {
    "duration": 10,
    "start_time": "2023-09-25T18:48:51.182Z"
   },
   {
    "duration": 12,
    "start_time": "2023-09-25T18:48:51.196Z"
   },
   {
    "duration": 50,
    "start_time": "2023-09-25T18:48:51.210Z"
   },
   {
    "duration": 277,
    "start_time": "2023-09-25T18:48:51.263Z"
   },
   {
    "duration": 7,
    "start_time": "2023-09-25T18:48:51.543Z"
   },
   {
    "duration": 186,
    "start_time": "2023-09-25T18:51:45.446Z"
   },
   {
    "duration": 180,
    "start_time": "2023-09-25T18:52:02.298Z"
   },
   {
    "duration": 18,
    "start_time": "2023-09-25T18:56:43.758Z"
   },
   {
    "duration": 2257,
    "start_time": "2023-09-25T19:06:17.396Z"
   },
   {
    "duration": 1124,
    "start_time": "2023-09-25T19:07:33.299Z"
   },
   {
    "duration": 70,
    "start_time": "2023-09-25T19:07:34.425Z"
   },
   {
    "duration": 62,
    "start_time": "2023-09-25T19:07:34.497Z"
   },
   {
    "duration": 8,
    "start_time": "2023-09-25T19:07:34.561Z"
   },
   {
    "duration": 11,
    "start_time": "2023-09-25T19:07:34.570Z"
   },
   {
    "duration": 15,
    "start_time": "2023-09-25T19:07:34.583Z"
   },
   {
    "duration": 11,
    "start_time": "2023-09-25T19:07:34.600Z"
   },
   {
    "duration": 39,
    "start_time": "2023-09-25T19:07:34.613Z"
   },
   {
    "duration": 23,
    "start_time": "2023-09-25T19:07:34.654Z"
   },
   {
    "duration": 14,
    "start_time": "2023-09-25T19:07:34.681Z"
   },
   {
    "duration": 30,
    "start_time": "2023-09-25T19:07:34.697Z"
   },
   {
    "duration": 41,
    "start_time": "2023-09-25T19:07:34.729Z"
   },
   {
    "duration": 215,
    "start_time": "2023-09-25T19:07:34.772Z"
   },
   {
    "duration": 105,
    "start_time": "2023-09-25T19:07:34.989Z"
   },
   {
    "duration": 222,
    "start_time": "2023-09-25T19:07:35.096Z"
   },
   {
    "duration": 248,
    "start_time": "2023-09-25T19:07:35.320Z"
   },
   {
    "duration": 180,
    "start_time": "2023-09-25T19:07:35.570Z"
   },
   {
    "duration": 223,
    "start_time": "2023-09-25T19:07:35.752Z"
   },
   {
    "duration": 24,
    "start_time": "2023-09-25T19:07:35.977Z"
   },
   {
    "duration": 5,
    "start_time": "2023-09-25T19:07:36.003Z"
   },
   {
    "duration": 47,
    "start_time": "2023-09-25T19:07:36.010Z"
   },
   {
    "duration": 159,
    "start_time": "2023-09-25T19:07:36.059Z"
   },
   {
    "duration": 360,
    "start_time": "2023-09-25T19:07:36.220Z"
   },
   {
    "duration": 430,
    "start_time": "2023-09-25T19:07:36.582Z"
   },
   {
    "duration": 52,
    "start_time": "2023-09-25T19:07:37.014Z"
   },
   {
    "duration": 18,
    "start_time": "2023-09-25T19:07:37.068Z"
   },
   {
    "duration": 1464,
    "start_time": "2023-09-25T19:07:37.088Z"
   },
   {
    "duration": 0,
    "start_time": "2023-09-25T19:07:38.554Z"
   },
   {
    "duration": 0,
    "start_time": "2023-09-25T19:07:38.556Z"
   },
   {
    "duration": 0,
    "start_time": "2023-09-25T19:07:38.558Z"
   },
   {
    "duration": 0,
    "start_time": "2023-09-25T19:07:38.559Z"
   },
   {
    "duration": 1286,
    "start_time": "2023-09-25T19:08:52.213Z"
   },
   {
    "duration": 83,
    "start_time": "2023-09-25T19:11:19.390Z"
   },
   {
    "duration": 14,
    "start_time": "2023-09-25T19:12:31.878Z"
   },
   {
    "duration": 1633,
    "start_time": "2023-09-25T19:16:02.336Z"
   },
   {
    "duration": 1409,
    "start_time": "2023-09-25T19:16:43.361Z"
   },
   {
    "duration": 1578,
    "start_time": "2023-09-25T19:18:31.185Z"
   },
   {
    "duration": 11,
    "start_time": "2023-09-25T19:20:48.349Z"
   },
   {
    "duration": 6,
    "start_time": "2023-09-25T19:22:55.762Z"
   },
   {
    "duration": 7,
    "start_time": "2023-09-25T19:23:16.907Z"
   },
   {
    "duration": 1435,
    "start_time": "2023-09-25T19:26:08.421Z"
   },
   {
    "duration": 4,
    "start_time": "2023-09-25T19:27:18.598Z"
   },
   {
    "duration": 5,
    "start_time": "2023-09-25T19:30:46.562Z"
   },
   {
    "duration": 1200,
    "start_time": "2023-09-25T19:32:42.183Z"
   },
   {
    "duration": 76,
    "start_time": "2023-09-25T19:32:43.385Z"
   },
   {
    "duration": 57,
    "start_time": "2023-09-25T19:32:43.463Z"
   },
   {
    "duration": 30,
    "start_time": "2023-09-25T19:32:43.522Z"
   },
   {
    "duration": 29,
    "start_time": "2023-09-25T19:32:43.554Z"
   },
   {
    "duration": 19,
    "start_time": "2023-09-25T19:32:43.584Z"
   },
   {
    "duration": 32,
    "start_time": "2023-09-25T19:32:43.605Z"
   },
   {
    "duration": 33,
    "start_time": "2023-09-25T19:32:43.639Z"
   },
   {
    "duration": 28,
    "start_time": "2023-09-25T19:32:43.674Z"
   },
   {
    "duration": 27,
    "start_time": "2023-09-25T19:32:43.705Z"
   },
   {
    "duration": 21,
    "start_time": "2023-09-25T19:32:43.734Z"
   },
   {
    "duration": 42,
    "start_time": "2023-09-25T19:32:43.757Z"
   },
   {
    "duration": 195,
    "start_time": "2023-09-25T19:32:43.801Z"
   },
   {
    "duration": 118,
    "start_time": "2023-09-25T19:32:43.998Z"
   },
   {
    "duration": 176,
    "start_time": "2023-09-25T19:32:44.118Z"
   },
   {
    "duration": 265,
    "start_time": "2023-09-25T19:32:44.296Z"
   },
   {
    "duration": 154,
    "start_time": "2023-09-25T19:32:44.563Z"
   },
   {
    "duration": 251,
    "start_time": "2023-09-25T19:32:44.719Z"
   },
   {
    "duration": 26,
    "start_time": "2023-09-25T19:32:44.972Z"
   },
   {
    "duration": 7,
    "start_time": "2023-09-25T19:32:45.000Z"
   },
   {
    "duration": 89,
    "start_time": "2023-09-25T19:32:45.009Z"
   },
   {
    "duration": 170,
    "start_time": "2023-09-25T19:32:45.100Z"
   },
   {
    "duration": 402,
    "start_time": "2023-09-25T19:32:45.271Z"
   },
   {
    "duration": 519,
    "start_time": "2023-09-25T19:32:45.675Z"
   },
   {
    "duration": 69,
    "start_time": "2023-09-25T19:32:46.196Z"
   },
   {
    "duration": 19,
    "start_time": "2023-09-25T19:32:46.268Z"
   },
   {
    "duration": 33,
    "start_time": "2023-09-25T19:32:46.289Z"
   },
   {
    "duration": 49,
    "start_time": "2023-09-25T19:32:46.326Z"
   },
   {
    "duration": 16,
    "start_time": "2023-09-25T19:32:46.376Z"
   },
   {
    "duration": 39,
    "start_time": "2023-09-25T19:32:46.394Z"
   },
   {
    "duration": 339,
    "start_time": "2023-09-25T19:32:46.436Z"
   },
   {
    "duration": 5,
    "start_time": "2023-09-25T19:32:46.777Z"
   },
   {
    "duration": 1665,
    "start_time": "2023-09-25T19:42:00.598Z"
   },
   {
    "duration": 91,
    "start_time": "2023-09-25T19:44:45.305Z"
   },
   {
    "duration": 1326,
    "start_time": "2023-09-25T19:45:45.888Z"
   },
   {
    "duration": 31,
    "start_time": "2023-09-25T19:47:20.461Z"
   },
   {
    "duration": 1216,
    "start_time": "2023-09-25T19:48:10.022Z"
   },
   {
    "duration": 72,
    "start_time": "2023-09-25T19:48:11.240Z"
   },
   {
    "duration": 77,
    "start_time": "2023-09-25T19:48:11.314Z"
   },
   {
    "duration": 8,
    "start_time": "2023-09-25T19:48:11.393Z"
   },
   {
    "duration": 6,
    "start_time": "2023-09-25T19:48:11.402Z"
   },
   {
    "duration": 9,
    "start_time": "2023-09-25T19:48:11.410Z"
   },
   {
    "duration": 39,
    "start_time": "2023-09-25T19:48:11.421Z"
   },
   {
    "duration": 9,
    "start_time": "2023-09-25T19:48:11.462Z"
   },
   {
    "duration": 13,
    "start_time": "2023-09-25T19:48:11.473Z"
   },
   {
    "duration": 9,
    "start_time": "2023-09-25T19:48:11.489Z"
   },
   {
    "duration": 14,
    "start_time": "2023-09-25T19:48:11.500Z"
   },
   {
    "duration": 59,
    "start_time": "2023-09-25T19:48:11.516Z"
   },
   {
    "duration": 204,
    "start_time": "2023-09-25T19:48:11.576Z"
   },
   {
    "duration": 105,
    "start_time": "2023-09-25T19:48:11.781Z"
   },
   {
    "duration": 185,
    "start_time": "2023-09-25T19:48:11.888Z"
   },
   {
    "duration": 264,
    "start_time": "2023-09-25T19:48:12.075Z"
   },
   {
    "duration": 165,
    "start_time": "2023-09-25T19:48:12.351Z"
   },
   {
    "duration": 235,
    "start_time": "2023-09-25T19:48:12.518Z"
   },
   {
    "duration": 30,
    "start_time": "2023-09-25T19:48:12.755Z"
   },
   {
    "duration": 5,
    "start_time": "2023-09-25T19:48:12.787Z"
   },
   {
    "duration": 14,
    "start_time": "2023-09-25T19:48:12.793Z"
   },
   {
    "duration": 173,
    "start_time": "2023-09-25T19:48:12.809Z"
   },
   {
    "duration": 381,
    "start_time": "2023-09-25T19:48:12.984Z"
   },
   {
    "duration": 450,
    "start_time": "2023-09-25T19:48:13.366Z"
   },
   {
    "duration": 73,
    "start_time": "2023-09-25T19:48:13.818Z"
   },
   {
    "duration": 18,
    "start_time": "2023-09-25T19:48:13.892Z"
   },
   {
    "duration": 5,
    "start_time": "2023-09-25T19:48:13.912Z"
   },
   {
    "duration": 12,
    "start_time": "2023-09-25T19:48:13.920Z"
   },
   {
    "duration": 10,
    "start_time": "2023-09-25T19:48:13.950Z"
   },
   {
    "duration": 41,
    "start_time": "2023-09-25T19:48:13.961Z"
   },
   {
    "duration": 302,
    "start_time": "2023-09-25T19:48:14.003Z"
   },
   {
    "duration": 5,
    "start_time": "2023-09-25T19:48:14.307Z"
   },
   {
    "duration": 280,
    "start_time": "2023-09-25T19:53:29.085Z"
   },
   {
    "duration": 1174,
    "start_time": "2023-09-25T19:54:14.178Z"
   },
   {
    "duration": 78,
    "start_time": "2023-09-25T19:54:15.354Z"
   },
   {
    "duration": 83,
    "start_time": "2023-09-25T19:54:15.434Z"
   },
   {
    "duration": 35,
    "start_time": "2023-09-25T19:54:15.519Z"
   },
   {
    "duration": 19,
    "start_time": "2023-09-25T19:54:15.560Z"
   },
   {
    "duration": 27,
    "start_time": "2023-09-25T19:54:15.582Z"
   },
   {
    "duration": 39,
    "start_time": "2023-09-25T19:54:15.611Z"
   },
   {
    "duration": 29,
    "start_time": "2023-09-25T19:54:15.653Z"
   },
   {
    "duration": 33,
    "start_time": "2023-09-25T19:54:15.683Z"
   },
   {
    "duration": 40,
    "start_time": "2023-09-25T19:54:15.720Z"
   },
   {
    "duration": 29,
    "start_time": "2023-09-25T19:54:15.762Z"
   },
   {
    "duration": 169,
    "start_time": "2023-09-25T19:54:15.793Z"
   },
   {
    "duration": 211,
    "start_time": "2023-09-25T19:54:15.964Z"
   },
   {
    "duration": 103,
    "start_time": "2023-09-25T19:54:16.177Z"
   },
   {
    "duration": 174,
    "start_time": "2023-09-25T19:54:16.281Z"
   },
   {
    "duration": 255,
    "start_time": "2023-09-25T19:54:16.460Z"
   },
   {
    "duration": 172,
    "start_time": "2023-09-25T19:54:16.716Z"
   },
   {
    "duration": 231,
    "start_time": "2023-09-25T19:54:16.890Z"
   },
   {
    "duration": 40,
    "start_time": "2023-09-25T19:54:17.122Z"
   },
   {
    "duration": 43,
    "start_time": "2023-09-25T19:54:17.165Z"
   },
   {
    "duration": 41,
    "start_time": "2023-09-25T19:54:17.210Z"
   },
   {
    "duration": 155,
    "start_time": "2023-09-25T19:54:17.257Z"
   },
   {
    "duration": 370,
    "start_time": "2023-09-25T19:54:17.414Z"
   },
   {
    "duration": 460,
    "start_time": "2023-09-25T19:54:17.786Z"
   },
   {
    "duration": 50,
    "start_time": "2023-09-25T19:54:18.248Z"
   },
   {
    "duration": 19,
    "start_time": "2023-09-25T19:54:18.300Z"
   },
   {
    "duration": 32,
    "start_time": "2023-09-25T19:54:18.320Z"
   },
   {
    "duration": 23,
    "start_time": "2023-09-25T19:54:18.357Z"
   },
   {
    "duration": 10,
    "start_time": "2023-09-25T19:54:18.382Z"
   },
   {
    "duration": 23,
    "start_time": "2023-09-25T19:54:18.394Z"
   },
   {
    "duration": 304,
    "start_time": "2023-09-25T19:54:18.419Z"
   },
   {
    "duration": 6,
    "start_time": "2023-09-25T19:54:18.725Z"
   },
   {
    "duration": 137,
    "start_time": "2023-09-25T19:58:35.079Z"
   },
   {
    "duration": 8,
    "start_time": "2023-09-25T20:00:54.427Z"
   },
   {
    "duration": 1189,
    "start_time": "2023-09-25T20:02:25.986Z"
   },
   {
    "duration": 71,
    "start_time": "2023-09-25T20:02:27.177Z"
   },
   {
    "duration": 63,
    "start_time": "2023-09-25T20:02:27.257Z"
   },
   {
    "duration": 34,
    "start_time": "2023-09-25T20:02:27.322Z"
   },
   {
    "duration": 19,
    "start_time": "2023-09-25T20:02:27.359Z"
   },
   {
    "duration": 19,
    "start_time": "2023-09-25T20:02:27.380Z"
   },
   {
    "duration": 9,
    "start_time": "2023-09-25T20:02:27.401Z"
   },
   {
    "duration": 8,
    "start_time": "2023-09-25T20:02:27.411Z"
   },
   {
    "duration": 8,
    "start_time": "2023-09-25T20:02:27.421Z"
   },
   {
    "duration": 23,
    "start_time": "2023-09-25T20:02:27.432Z"
   },
   {
    "duration": 13,
    "start_time": "2023-09-25T20:02:27.461Z"
   },
   {
    "duration": 38,
    "start_time": "2023-09-25T20:02:27.475Z"
   },
   {
    "duration": 194,
    "start_time": "2023-09-25T20:02:27.515Z"
   },
   {
    "duration": 104,
    "start_time": "2023-09-25T20:02:27.711Z"
   },
   {
    "duration": 190,
    "start_time": "2023-09-25T20:02:27.817Z"
   },
   {
    "duration": 286,
    "start_time": "2023-09-25T20:02:28.009Z"
   },
   {
    "duration": 176,
    "start_time": "2023-09-25T20:02:28.297Z"
   },
   {
    "duration": 238,
    "start_time": "2023-09-25T20:02:28.475Z"
   },
   {
    "duration": 47,
    "start_time": "2023-09-25T20:02:28.715Z"
   },
   {
    "duration": 6,
    "start_time": "2023-09-25T20:02:28.764Z"
   },
   {
    "duration": 33,
    "start_time": "2023-09-25T20:02:28.771Z"
   },
   {
    "duration": 150,
    "start_time": "2023-09-25T20:02:28.805Z"
   },
   {
    "duration": 374,
    "start_time": "2023-09-25T20:02:28.956Z"
   },
   {
    "duration": 439,
    "start_time": "2023-09-25T20:02:29.331Z"
   },
   {
    "duration": 47,
    "start_time": "2023-09-25T20:02:29.772Z"
   },
   {
    "duration": 46,
    "start_time": "2023-09-25T20:02:29.820Z"
   },
   {
    "duration": 45,
    "start_time": "2023-09-25T20:02:29.868Z"
   },
   {
    "duration": 55,
    "start_time": "2023-09-25T20:02:29.918Z"
   },
   {
    "duration": 20,
    "start_time": "2023-09-25T20:02:29.975Z"
   },
   {
    "duration": 181,
    "start_time": "2023-09-25T20:02:29.997Z"
   },
   {
    "duration": 543,
    "start_time": "2023-09-25T20:02:30.180Z"
   },
   {
    "duration": 5,
    "start_time": "2023-09-25T20:02:30.725Z"
   },
   {
    "duration": 1281,
    "start_time": "2023-09-25T20:05:29.864Z"
   },
   {
    "duration": 77,
    "start_time": "2023-09-25T20:05:31.147Z"
   },
   {
    "duration": 67,
    "start_time": "2023-09-25T20:05:31.226Z"
   },
   {
    "duration": 24,
    "start_time": "2023-09-25T20:05:31.295Z"
   },
   {
    "duration": 47,
    "start_time": "2023-09-25T20:05:31.322Z"
   },
   {
    "duration": 126,
    "start_time": "2023-09-25T20:05:31.371Z"
   },
   {
    "duration": 167,
    "start_time": "2023-09-25T20:05:31.499Z"
   },
   {
    "duration": 64,
    "start_time": "2023-09-25T20:05:31.668Z"
   },
   {
    "duration": 92,
    "start_time": "2023-09-25T20:05:31.734Z"
   },
   {
    "duration": 40,
    "start_time": "2023-09-25T20:05:31.827Z"
   },
   {
    "duration": 61,
    "start_time": "2023-09-25T20:05:31.869Z"
   },
   {
    "duration": 74,
    "start_time": "2023-09-25T20:05:31.932Z"
   },
   {
    "duration": 208,
    "start_time": "2023-09-25T20:05:32.007Z"
   },
   {
    "duration": 135,
    "start_time": "2023-09-25T20:05:32.220Z"
   },
   {
    "duration": 209,
    "start_time": "2023-09-25T20:05:32.358Z"
   },
   {
    "duration": 288,
    "start_time": "2023-09-25T20:05:32.569Z"
   },
   {
    "duration": 159,
    "start_time": "2023-09-25T20:05:32.860Z"
   },
   {
    "duration": 243,
    "start_time": "2023-09-25T20:05:33.021Z"
   },
   {
    "duration": 28,
    "start_time": "2023-09-25T20:05:33.266Z"
   },
   {
    "duration": 5,
    "start_time": "2023-09-25T20:05:33.296Z"
   },
   {
    "duration": 57,
    "start_time": "2023-09-25T20:05:33.303Z"
   },
   {
    "duration": 166,
    "start_time": "2023-09-25T20:05:33.362Z"
   },
   {
    "duration": 373,
    "start_time": "2023-09-25T20:05:33.530Z"
   },
   {
    "duration": 460,
    "start_time": "2023-09-25T20:05:33.905Z"
   },
   {
    "duration": 57,
    "start_time": "2023-09-25T20:05:34.367Z"
   },
   {
    "duration": 36,
    "start_time": "2023-09-25T20:05:34.426Z"
   },
   {
    "duration": 19,
    "start_time": "2023-09-25T20:05:34.465Z"
   },
   {
    "duration": 40,
    "start_time": "2023-09-25T20:05:34.485Z"
   },
   {
    "duration": 20,
    "start_time": "2023-09-25T20:05:34.527Z"
   },
   {
    "duration": 29,
    "start_time": "2023-09-25T20:05:34.549Z"
   },
   {
    "duration": 309,
    "start_time": "2023-09-25T20:05:34.580Z"
   },
   {
    "duration": 6,
    "start_time": "2023-09-25T20:05:34.891Z"
   },
   {
    "duration": 1309,
    "start_time": "2023-09-25T20:06:20.567Z"
   },
   {
    "duration": 74,
    "start_time": "2023-09-25T20:06:21.879Z"
   },
   {
    "duration": 63,
    "start_time": "2023-09-25T20:06:21.955Z"
   },
   {
    "duration": 35,
    "start_time": "2023-09-25T20:06:22.020Z"
   },
   {
    "duration": 9,
    "start_time": "2023-09-25T20:06:22.063Z"
   },
   {
    "duration": 11,
    "start_time": "2023-09-25T20:06:22.074Z"
   },
   {
    "duration": 10,
    "start_time": "2023-09-25T20:06:22.087Z"
   },
   {
    "duration": 11,
    "start_time": "2023-09-25T20:06:22.099Z"
   },
   {
    "duration": 46,
    "start_time": "2023-09-25T20:06:22.113Z"
   },
   {
    "duration": 19,
    "start_time": "2023-09-25T20:06:22.162Z"
   },
   {
    "duration": 14,
    "start_time": "2023-09-25T20:06:22.184Z"
   },
   {
    "duration": 63,
    "start_time": "2023-09-25T20:06:22.199Z"
   },
   {
    "duration": 202,
    "start_time": "2023-09-25T20:06:22.263Z"
   },
   {
    "duration": 115,
    "start_time": "2023-09-25T20:06:22.467Z"
   },
   {
    "duration": 240,
    "start_time": "2023-09-25T20:06:22.584Z"
   },
   {
    "duration": 306,
    "start_time": "2023-09-25T20:06:22.826Z"
   },
   {
    "duration": 179,
    "start_time": "2023-09-25T20:06:23.134Z"
   },
   {
    "duration": 263,
    "start_time": "2023-09-25T20:06:23.315Z"
   },
   {
    "duration": 31,
    "start_time": "2023-09-25T20:06:23.579Z"
   },
   {
    "duration": 5,
    "start_time": "2023-09-25T20:06:23.611Z"
   },
   {
    "duration": 39,
    "start_time": "2023-09-25T20:06:23.617Z"
   },
   {
    "duration": 156,
    "start_time": "2023-09-25T20:06:23.658Z"
   },
   {
    "duration": 419,
    "start_time": "2023-09-25T20:06:23.816Z"
   },
   {
    "duration": 476,
    "start_time": "2023-09-25T20:06:24.238Z"
   },
   {
    "duration": 59,
    "start_time": "2023-09-25T20:06:24.716Z"
   },
   {
    "duration": 18,
    "start_time": "2023-09-25T20:06:24.777Z"
   },
   {
    "duration": 6,
    "start_time": "2023-09-25T20:06:24.797Z"
   },
   {
    "duration": 8,
    "start_time": "2023-09-25T20:06:24.806Z"
   },
   {
    "duration": 33,
    "start_time": "2023-09-25T20:06:24.816Z"
   },
   {
    "duration": 15,
    "start_time": "2023-09-25T20:06:24.851Z"
   },
   {
    "duration": 333,
    "start_time": "2023-09-25T20:06:24.868Z"
   },
   {
    "duration": 6,
    "start_time": "2023-09-25T20:06:25.203Z"
   },
   {
    "duration": 1161,
    "start_time": "2023-09-25T20:07:53.772Z"
   },
   {
    "duration": 71,
    "start_time": "2023-09-25T20:07:54.935Z"
   },
   {
    "duration": 65,
    "start_time": "2023-09-25T20:07:55.008Z"
   },
   {
    "duration": 8,
    "start_time": "2023-09-25T20:07:55.076Z"
   },
   {
    "duration": 16,
    "start_time": "2023-09-25T20:07:55.085Z"
   },
   {
    "duration": 29,
    "start_time": "2023-09-25T20:07:55.102Z"
   },
   {
    "duration": 28,
    "start_time": "2023-09-25T20:07:55.133Z"
   },
   {
    "duration": 19,
    "start_time": "2023-09-25T20:07:55.168Z"
   },
   {
    "duration": 19,
    "start_time": "2023-09-25T20:07:55.189Z"
   },
   {
    "duration": 16,
    "start_time": "2023-09-25T20:07:55.212Z"
   },
   {
    "duration": 46,
    "start_time": "2023-09-25T20:07:55.230Z"
   },
   {
    "duration": 47,
    "start_time": "2023-09-25T20:07:55.278Z"
   },
   {
    "duration": 215,
    "start_time": "2023-09-25T20:07:55.327Z"
   },
   {
    "duration": 106,
    "start_time": "2023-09-25T20:07:55.544Z"
   },
   {
    "duration": 166,
    "start_time": "2023-09-25T20:07:55.660Z"
   },
   {
    "duration": 269,
    "start_time": "2023-09-25T20:07:55.827Z"
   },
   {
    "duration": 186,
    "start_time": "2023-09-25T20:07:56.098Z"
   },
   {
    "duration": 228,
    "start_time": "2023-09-25T20:07:56.286Z"
   },
   {
    "duration": 40,
    "start_time": "2023-09-25T20:07:56.516Z"
   },
   {
    "duration": 6,
    "start_time": "2023-09-25T20:07:56.560Z"
   },
   {
    "duration": 15,
    "start_time": "2023-09-25T20:07:56.568Z"
   },
   {
    "duration": 157,
    "start_time": "2023-09-25T20:07:56.584Z"
   },
   {
    "duration": 394,
    "start_time": "2023-09-25T20:07:56.743Z"
   },
   {
    "duration": 462,
    "start_time": "2023-09-25T20:07:57.139Z"
   },
   {
    "duration": 63,
    "start_time": "2023-09-25T20:07:57.603Z"
   },
   {
    "duration": 18,
    "start_time": "2023-09-25T20:07:57.667Z"
   },
   {
    "duration": 17,
    "start_time": "2023-09-25T20:07:57.686Z"
   },
   {
    "duration": 6,
    "start_time": "2023-09-25T20:07:57.706Z"
   },
   {
    "duration": 7,
    "start_time": "2023-09-25T20:07:57.713Z"
   },
   {
    "duration": 34,
    "start_time": "2023-09-25T20:07:57.721Z"
   },
   {
    "duration": 290,
    "start_time": "2023-09-25T20:07:57.758Z"
   },
   {
    "duration": 9,
    "start_time": "2023-09-25T20:07:58.056Z"
   },
   {
    "duration": 1025,
    "start_time": "2023-09-26T07:45:20.167Z"
   },
   {
    "duration": 67,
    "start_time": "2023-09-26T07:45:21.194Z"
   },
   {
    "duration": 52,
    "start_time": "2023-09-26T07:45:21.262Z"
   },
   {
    "duration": 6,
    "start_time": "2023-09-26T07:45:21.316Z"
   },
   {
    "duration": 6,
    "start_time": "2023-09-26T07:45:21.343Z"
   },
   {
    "duration": 8,
    "start_time": "2023-09-26T07:45:21.350Z"
   },
   {
    "duration": 10,
    "start_time": "2023-09-26T07:45:21.359Z"
   },
   {
    "duration": 7,
    "start_time": "2023-09-26T07:45:21.370Z"
   },
   {
    "duration": 6,
    "start_time": "2023-09-26T07:45:21.378Z"
   },
   {
    "duration": 22,
    "start_time": "2023-09-26T07:45:21.386Z"
   },
   {
    "duration": 41,
    "start_time": "2023-09-26T07:45:21.410Z"
   },
   {
    "duration": 31,
    "start_time": "2023-09-26T07:45:21.453Z"
   },
   {
    "duration": 187,
    "start_time": "2023-09-26T07:45:21.485Z"
   },
   {
    "duration": 95,
    "start_time": "2023-09-26T07:45:21.674Z"
   },
   {
    "duration": 149,
    "start_time": "2023-09-26T07:45:21.771Z"
   },
   {
    "duration": 218,
    "start_time": "2023-09-26T07:45:21.921Z"
   },
   {
    "duration": 136,
    "start_time": "2023-09-26T07:45:22.144Z"
   },
   {
    "duration": 194,
    "start_time": "2023-09-26T07:45:22.282Z"
   },
   {
    "duration": 22,
    "start_time": "2023-09-26T07:45:22.478Z"
   },
   {
    "duration": 4,
    "start_time": "2023-09-26T07:45:22.502Z"
   },
   {
    "duration": 15,
    "start_time": "2023-09-26T07:45:22.508Z"
   },
   {
    "duration": 152,
    "start_time": "2023-09-26T07:45:22.524Z"
   },
   {
    "duration": 336,
    "start_time": "2023-09-26T07:45:22.677Z"
   },
   {
    "duration": 419,
    "start_time": "2023-09-26T07:45:23.015Z"
   },
   {
    "duration": 50,
    "start_time": "2023-09-26T07:45:23.436Z"
   },
   {
    "duration": 17,
    "start_time": "2023-09-26T07:45:23.487Z"
   },
   {
    "duration": 9,
    "start_time": "2023-09-26T07:45:23.506Z"
   },
   {
    "duration": 4,
    "start_time": "2023-09-26T07:45:23.544Z"
   },
   {
    "duration": 5,
    "start_time": "2023-09-26T07:45:23.550Z"
   },
   {
    "duration": 10,
    "start_time": "2023-09-26T07:45:23.557Z"
   },
   {
    "duration": 296,
    "start_time": "2023-09-26T07:45:23.569Z"
   },
   {
    "duration": 5,
    "start_time": "2023-09-26T07:45:23.867Z"
   },
   {
    "duration": 1645,
    "start_time": "2023-09-26T07:51:04.283Z"
   },
   {
    "duration": 1209,
    "start_time": "2023-09-26T07:51:53.203Z"
   },
   {
    "duration": 66,
    "start_time": "2023-09-26T07:51:54.414Z"
   },
   {
    "duration": 55,
    "start_time": "2023-09-26T07:51:54.482Z"
   },
   {
    "duration": 156,
    "start_time": "2023-09-26T07:51:54.539Z"
   },
   {
    "duration": 15,
    "start_time": "2023-09-26T07:51:54.696Z"
   },
   {
    "duration": 19,
    "start_time": "2023-09-26T07:51:54.713Z"
   },
   {
    "duration": 22,
    "start_time": "2023-09-26T07:51:54.734Z"
   },
   {
    "duration": 11,
    "start_time": "2023-09-26T07:51:54.758Z"
   },
   {
    "duration": 9,
    "start_time": "2023-09-26T07:51:54.771Z"
   },
   {
    "duration": 11,
    "start_time": "2023-09-26T07:51:54.782Z"
   },
   {
    "duration": 20,
    "start_time": "2023-09-26T07:51:54.795Z"
   },
   {
    "duration": 36,
    "start_time": "2023-09-26T07:51:54.816Z"
   },
   {
    "duration": 195,
    "start_time": "2023-09-26T07:51:54.854Z"
   },
   {
    "duration": 99,
    "start_time": "2023-09-26T07:51:55.051Z"
   },
   {
    "duration": 160,
    "start_time": "2023-09-26T07:51:55.152Z"
   },
   {
    "duration": 216,
    "start_time": "2023-09-26T07:51:55.313Z"
   },
   {
    "duration": 156,
    "start_time": "2023-09-26T07:51:55.531Z"
   },
   {
    "duration": 202,
    "start_time": "2023-09-26T07:51:55.689Z"
   },
   {
    "duration": 22,
    "start_time": "2023-09-26T07:51:55.892Z"
   },
   {
    "duration": 5,
    "start_time": "2023-09-26T07:51:55.915Z"
   },
   {
    "duration": 29,
    "start_time": "2023-09-26T07:51:55.921Z"
   },
   {
    "duration": 142,
    "start_time": "2023-09-26T07:51:55.952Z"
   },
   {
    "duration": 342,
    "start_time": "2023-09-26T07:51:56.096Z"
   },
   {
    "duration": 389,
    "start_time": "2023-09-26T07:51:56.439Z"
   },
   {
    "duration": 45,
    "start_time": "2023-09-26T07:51:56.830Z"
   },
   {
    "duration": 16,
    "start_time": "2023-09-26T07:51:56.877Z"
   },
   {
    "duration": 5,
    "start_time": "2023-09-26T07:51:56.895Z"
   },
   {
    "duration": 40,
    "start_time": "2023-09-26T07:51:56.903Z"
   },
   {
    "duration": 21,
    "start_time": "2023-09-26T07:51:56.944Z"
   },
   {
    "duration": 54,
    "start_time": "2023-09-26T07:51:56.967Z"
   },
   {
    "duration": 256,
    "start_time": "2023-09-26T07:51:57.023Z"
   },
   {
    "duration": 4,
    "start_time": "2023-09-26T07:51:57.280Z"
   },
   {
    "duration": 1395,
    "start_time": "2023-09-26T08:47:48.652Z"
   },
   {
    "duration": 225,
    "start_time": "2023-09-26T08:47:50.050Z"
   },
   {
    "duration": 68,
    "start_time": "2023-09-26T08:47:50.277Z"
   },
   {
    "duration": 8,
    "start_time": "2023-09-26T08:47:50.348Z"
   },
   {
    "duration": 7,
    "start_time": "2023-09-26T08:47:50.381Z"
   },
   {
    "duration": 47,
    "start_time": "2023-09-26T08:47:50.390Z"
   },
   {
    "duration": 33,
    "start_time": "2023-09-26T08:47:50.439Z"
   },
   {
    "duration": 35,
    "start_time": "2023-09-26T08:47:50.473Z"
   },
   {
    "duration": 29,
    "start_time": "2023-09-26T08:47:50.509Z"
   },
   {
    "duration": 24,
    "start_time": "2023-09-26T08:47:50.541Z"
   },
   {
    "duration": 24,
    "start_time": "2023-09-26T08:47:50.567Z"
   },
   {
    "duration": 40,
    "start_time": "2023-09-26T08:47:50.593Z"
   },
   {
    "duration": 187,
    "start_time": "2023-09-26T08:47:50.634Z"
   },
   {
    "duration": 100,
    "start_time": "2023-09-26T08:47:50.823Z"
   },
   {
    "duration": 175,
    "start_time": "2023-09-26T08:47:50.925Z"
   },
   {
    "duration": 235,
    "start_time": "2023-09-26T08:47:51.101Z"
   },
   {
    "duration": 146,
    "start_time": "2023-09-26T08:47:51.338Z"
   },
   {
    "duration": 216,
    "start_time": "2023-09-26T08:47:51.486Z"
   },
   {
    "duration": 29,
    "start_time": "2023-09-26T08:47:51.704Z"
   },
   {
    "duration": 5,
    "start_time": "2023-09-26T08:47:51.736Z"
   },
   {
    "duration": 41,
    "start_time": "2023-09-26T08:47:51.743Z"
   },
   {
    "duration": 143,
    "start_time": "2023-09-26T08:47:51.785Z"
   },
   {
    "duration": 347,
    "start_time": "2023-09-26T08:47:51.930Z"
   },
   {
    "duration": 407,
    "start_time": "2023-09-26T08:47:52.279Z"
   },
   {
    "duration": 43,
    "start_time": "2023-09-26T08:47:52.688Z"
   },
   {
    "duration": 20,
    "start_time": "2023-09-26T08:47:52.732Z"
   },
   {
    "duration": 37,
    "start_time": "2023-09-26T08:47:52.754Z"
   },
   {
    "duration": 37,
    "start_time": "2023-09-26T08:47:52.796Z"
   },
   {
    "duration": 10,
    "start_time": "2023-09-26T08:47:52.835Z"
   },
   {
    "duration": 12,
    "start_time": "2023-09-26T08:47:52.847Z"
   },
   {
    "duration": 1775,
    "start_time": "2023-09-26T08:47:52.861Z"
   },
   {
    "duration": 0,
    "start_time": "2023-09-26T08:47:54.637Z"
   },
   {
    "duration": 0,
    "start_time": "2023-09-26T08:47:54.638Z"
   },
   {
    "duration": 13,
    "start_time": "2023-09-26T09:16:38.825Z"
   },
   {
    "duration": 7,
    "start_time": "2023-09-26T09:22:01.936Z"
   },
   {
    "duration": 8,
    "start_time": "2023-09-26T09:25:39.982Z"
   },
   {
    "duration": 1225,
    "start_time": "2023-09-26T09:26:16.258Z"
   },
   {
    "duration": 70,
    "start_time": "2023-09-26T09:26:17.485Z"
   },
   {
    "duration": 57,
    "start_time": "2023-09-26T09:26:17.557Z"
   },
   {
    "duration": 7,
    "start_time": "2023-09-26T09:26:17.616Z"
   },
   {
    "duration": 18,
    "start_time": "2023-09-26T09:26:17.625Z"
   },
   {
    "duration": 29,
    "start_time": "2023-09-26T09:26:17.645Z"
   },
   {
    "duration": 15,
    "start_time": "2023-09-26T09:26:17.681Z"
   },
   {
    "duration": 19,
    "start_time": "2023-09-26T09:26:17.698Z"
   },
   {
    "duration": 17,
    "start_time": "2023-09-26T09:26:17.719Z"
   },
   {
    "duration": 14,
    "start_time": "2023-09-26T09:26:17.738Z"
   },
   {
    "duration": 13,
    "start_time": "2023-09-26T09:26:17.754Z"
   },
   {
    "duration": 37,
    "start_time": "2023-09-26T09:26:17.769Z"
   },
   {
    "duration": 179,
    "start_time": "2023-09-26T09:26:17.808Z"
   },
   {
    "duration": 93,
    "start_time": "2023-09-26T09:26:17.989Z"
   },
   {
    "duration": 160,
    "start_time": "2023-09-26T09:26:18.084Z"
   },
   {
    "duration": 224,
    "start_time": "2023-09-26T09:26:18.246Z"
   },
   {
    "duration": 149,
    "start_time": "2023-09-26T09:26:18.471Z"
   },
   {
    "duration": 225,
    "start_time": "2023-09-26T09:26:18.622Z"
   },
   {
    "duration": 24,
    "start_time": "2023-09-26T09:26:18.848Z"
   },
   {
    "duration": 11,
    "start_time": "2023-09-26T09:26:18.881Z"
   },
   {
    "duration": 20,
    "start_time": "2023-09-26T09:26:18.893Z"
   },
   {
    "duration": 143,
    "start_time": "2023-09-26T09:26:18.914Z"
   },
   {
    "duration": 356,
    "start_time": "2023-09-26T09:26:19.059Z"
   },
   {
    "duration": 446,
    "start_time": "2023-09-26T09:26:19.417Z"
   },
   {
    "duration": 50,
    "start_time": "2023-09-26T09:26:19.865Z"
   },
   {
    "duration": 17,
    "start_time": "2023-09-26T09:26:19.916Z"
   },
   {
    "duration": 5,
    "start_time": "2023-09-26T09:26:19.934Z"
   },
   {
    "duration": 26,
    "start_time": "2023-09-26T09:26:19.942Z"
   },
   {
    "duration": 18,
    "start_time": "2023-09-26T09:26:19.969Z"
   },
   {
    "duration": 50,
    "start_time": "2023-09-26T09:26:19.988Z"
   },
   {
    "duration": 22,
    "start_time": "2023-09-26T09:26:20.040Z"
   },
   {
    "duration": 1780,
    "start_time": "2023-09-26T09:26:20.064Z"
   },
   {
    "duration": 4,
    "start_time": "2023-09-26T09:26:21.846Z"
   },
   {
    "duration": 1147,
    "start_time": "2023-09-26T09:33:12.424Z"
   },
   {
    "duration": 67,
    "start_time": "2023-09-26T09:33:13.573Z"
   },
   {
    "duration": 58,
    "start_time": "2023-09-26T09:33:13.642Z"
   },
   {
    "duration": 8,
    "start_time": "2023-09-26T09:33:13.702Z"
   },
   {
    "duration": 41,
    "start_time": "2023-09-26T09:33:13.711Z"
   },
   {
    "duration": 47,
    "start_time": "2023-09-26T09:33:13.754Z"
   },
   {
    "duration": 40,
    "start_time": "2023-09-26T09:33:13.803Z"
   },
   {
    "duration": 36,
    "start_time": "2023-09-26T09:33:13.845Z"
   },
   {
    "duration": 25,
    "start_time": "2023-09-26T09:33:13.882Z"
   },
   {
    "duration": 41,
    "start_time": "2023-09-26T09:33:13.909Z"
   },
   {
    "duration": 26,
    "start_time": "2023-09-26T09:33:13.952Z"
   },
   {
    "duration": 71,
    "start_time": "2023-09-26T09:33:13.980Z"
   },
   {
    "duration": 179,
    "start_time": "2023-09-26T09:33:14.052Z"
   },
   {
    "duration": 92,
    "start_time": "2023-09-26T09:33:14.232Z"
   },
   {
    "duration": 162,
    "start_time": "2023-09-26T09:33:14.326Z"
   },
   {
    "duration": 222,
    "start_time": "2023-09-26T09:33:14.490Z"
   },
   {
    "duration": 147,
    "start_time": "2023-09-26T09:33:14.713Z"
   },
   {
    "duration": 220,
    "start_time": "2023-09-26T09:33:14.861Z"
   },
   {
    "duration": 25,
    "start_time": "2023-09-26T09:33:15.082Z"
   },
   {
    "duration": 63,
    "start_time": "2023-09-26T09:33:15.108Z"
   },
   {
    "duration": 52,
    "start_time": "2023-09-26T09:33:15.172Z"
   },
   {
    "duration": 177,
    "start_time": "2023-09-26T09:33:15.226Z"
   },
   {
    "duration": 331,
    "start_time": "2023-09-26T09:33:15.405Z"
   },
   {
    "duration": 416,
    "start_time": "2023-09-26T09:33:15.738Z"
   },
   {
    "duration": 54,
    "start_time": "2023-09-26T09:33:16.156Z"
   },
   {
    "duration": 17,
    "start_time": "2023-09-26T09:33:16.212Z"
   },
   {
    "duration": 28,
    "start_time": "2023-09-26T09:33:16.231Z"
   },
   {
    "duration": 62,
    "start_time": "2023-09-26T09:33:16.263Z"
   },
   {
    "duration": 47,
    "start_time": "2023-09-26T09:33:16.327Z"
   },
   {
    "duration": 63,
    "start_time": "2023-09-26T09:33:16.376Z"
   },
   {
    "duration": 32,
    "start_time": "2023-09-26T09:33:16.441Z"
   },
   {
    "duration": 1861,
    "start_time": "2023-09-26T09:33:16.474Z"
   },
   {
    "duration": 4,
    "start_time": "2023-09-26T09:33:18.337Z"
   },
   {
    "duration": 1448,
    "start_time": "2023-09-26T14:39:32.217Z"
   },
   {
    "duration": 71,
    "start_time": "2023-09-26T14:39:33.666Z"
   },
   {
    "duration": 77,
    "start_time": "2023-09-26T14:39:33.738Z"
   },
   {
    "duration": 26,
    "start_time": "2023-09-26T14:39:33.818Z"
   },
   {
    "duration": 12,
    "start_time": "2023-09-26T14:39:33.845Z"
   },
   {
    "duration": 8,
    "start_time": "2023-09-26T14:39:33.861Z"
   },
   {
    "duration": 12,
    "start_time": "2023-09-26T14:39:33.870Z"
   },
   {
    "duration": 10,
    "start_time": "2023-09-26T14:39:33.883Z"
   },
   {
    "duration": 17,
    "start_time": "2023-09-26T14:39:33.894Z"
   },
   {
    "duration": 9,
    "start_time": "2023-09-26T14:39:33.913Z"
   },
   {
    "duration": 17,
    "start_time": "2023-09-26T14:39:33.923Z"
   },
   {
    "duration": 33,
    "start_time": "2023-09-26T14:39:33.941Z"
   },
   {
    "duration": 182,
    "start_time": "2023-09-26T14:39:33.976Z"
   },
   {
    "duration": 96,
    "start_time": "2023-09-26T14:39:34.160Z"
   },
   {
    "duration": 151,
    "start_time": "2023-09-26T14:39:34.258Z"
   },
   {
    "duration": 263,
    "start_time": "2023-09-26T14:39:34.410Z"
   },
   {
    "duration": 143,
    "start_time": "2023-09-26T14:39:34.675Z"
   },
   {
    "duration": 195,
    "start_time": "2023-09-26T14:39:34.819Z"
   },
   {
    "duration": 40,
    "start_time": "2023-09-26T14:39:35.016Z"
   },
   {
    "duration": 7,
    "start_time": "2023-09-26T14:39:35.058Z"
   },
   {
    "duration": 16,
    "start_time": "2023-09-26T14:39:35.067Z"
   },
   {
    "duration": 135,
    "start_time": "2023-09-26T14:39:35.085Z"
   },
   {
    "duration": 313,
    "start_time": "2023-09-26T14:39:35.222Z"
   },
   {
    "duration": 378,
    "start_time": "2023-09-26T14:39:35.537Z"
   },
   {
    "duration": 51,
    "start_time": "2023-09-26T14:39:35.917Z"
   },
   {
    "duration": 16,
    "start_time": "2023-09-26T14:39:35.969Z"
   },
   {
    "duration": 24,
    "start_time": "2023-09-26T14:39:35.987Z"
   },
   {
    "duration": 49,
    "start_time": "2023-09-26T14:39:36.014Z"
   },
   {
    "duration": 34,
    "start_time": "2023-09-26T14:39:36.065Z"
   },
   {
    "duration": 55,
    "start_time": "2023-09-26T14:39:36.100Z"
   },
   {
    "duration": 9,
    "start_time": "2023-09-26T14:39:36.157Z"
   },
   {
    "duration": 1833,
    "start_time": "2023-09-26T14:39:36.167Z"
   },
   {
    "duration": 5,
    "start_time": "2023-09-26T14:39:38.001Z"
   },
   {
    "duration": 1281,
    "start_time": "2023-09-26T16:50:08.540Z"
   },
   {
    "duration": 313,
    "start_time": "2023-09-26T16:50:09.823Z"
   },
   {
    "duration": 76,
    "start_time": "2023-09-26T16:50:10.138Z"
   },
   {
    "duration": 8,
    "start_time": "2023-09-26T16:50:10.243Z"
   },
   {
    "duration": 6,
    "start_time": "2023-09-26T16:50:10.253Z"
   },
   {
    "duration": 10,
    "start_time": "2023-09-26T16:50:10.261Z"
   },
   {
    "duration": 9,
    "start_time": "2023-09-26T16:50:10.273Z"
   },
   {
    "duration": 20,
    "start_time": "2023-09-26T16:50:10.284Z"
   },
   {
    "duration": 8,
    "start_time": "2023-09-26T16:50:10.306Z"
   },
   {
    "duration": 31,
    "start_time": "2023-09-26T16:50:10.317Z"
   },
   {
    "duration": 11,
    "start_time": "2023-09-26T16:50:10.350Z"
   },
   {
    "duration": 43,
    "start_time": "2023-09-26T16:50:10.363Z"
   },
   {
    "duration": 202,
    "start_time": "2023-09-26T16:50:10.408Z"
   },
   {
    "duration": 94,
    "start_time": "2023-09-26T16:50:10.612Z"
   },
   {
    "duration": 163,
    "start_time": "2023-09-26T16:50:10.708Z"
   },
   {
    "duration": 233,
    "start_time": "2023-09-26T16:50:10.873Z"
   },
   {
    "duration": 173,
    "start_time": "2023-09-26T16:50:11.108Z"
   },
   {
    "duration": 272,
    "start_time": "2023-09-26T16:50:11.283Z"
   },
   {
    "duration": 23,
    "start_time": "2023-09-26T16:50:11.557Z"
   },
   {
    "duration": 5,
    "start_time": "2023-09-26T16:50:11.582Z"
   },
   {
    "duration": 16,
    "start_time": "2023-09-26T16:50:11.588Z"
   },
   {
    "duration": 147,
    "start_time": "2023-09-26T16:50:11.606Z"
   },
   {
    "duration": 313,
    "start_time": "2023-09-26T16:50:11.755Z"
   },
   {
    "duration": 372,
    "start_time": "2023-09-26T16:50:12.069Z"
   },
   {
    "duration": 41,
    "start_time": "2023-09-26T16:50:12.444Z"
   },
   {
    "duration": 15,
    "start_time": "2023-09-26T16:50:12.487Z"
   },
   {
    "duration": 5,
    "start_time": "2023-09-26T16:50:12.503Z"
   },
   {
    "duration": 35,
    "start_time": "2023-09-26T16:50:12.511Z"
   },
   {
    "duration": 5,
    "start_time": "2023-09-26T16:50:12.548Z"
   },
   {
    "duration": 21,
    "start_time": "2023-09-26T16:50:12.555Z"
   },
   {
    "duration": 14,
    "start_time": "2023-09-26T16:50:12.578Z"
   },
   {
    "duration": 1456,
    "start_time": "2023-09-26T16:50:12.593Z"
   },
   {
    "duration": 0,
    "start_time": "2023-09-26T16:50:14.051Z"
   },
   {
    "duration": 0,
    "start_time": "2023-09-26T16:50:14.052Z"
   },
   {
    "duration": 157,
    "start_time": "2023-09-26T16:53:49.401Z"
   },
   {
    "duration": 1188,
    "start_time": "2023-09-26T16:54:40.871Z"
   },
   {
    "duration": 9,
    "start_time": "2023-09-26T16:59:07.920Z"
   },
   {
    "duration": 1277,
    "start_time": "2023-09-27T07:38:13.514Z"
   },
   {
    "duration": 222,
    "start_time": "2023-09-27T07:38:14.793Z"
   },
   {
    "duration": 58,
    "start_time": "2023-09-27T07:38:15.016Z"
   },
   {
    "duration": 6,
    "start_time": "2023-09-27T07:38:15.076Z"
   },
   {
    "duration": 46,
    "start_time": "2023-09-27T07:38:15.084Z"
   },
   {
    "duration": 36,
    "start_time": "2023-09-27T07:38:15.131Z"
   },
   {
    "duration": 9,
    "start_time": "2023-09-27T07:38:15.169Z"
   },
   {
    "duration": 20,
    "start_time": "2023-09-27T07:38:15.179Z"
   },
   {
    "duration": 14,
    "start_time": "2023-09-27T07:38:15.201Z"
   },
   {
    "duration": 100,
    "start_time": "2023-09-27T07:38:15.217Z"
   },
   {
    "duration": 17,
    "start_time": "2023-09-27T07:38:15.319Z"
   },
   {
    "duration": 40,
    "start_time": "2023-09-27T07:38:15.337Z"
   },
   {
    "duration": 160,
    "start_time": "2023-09-27T07:38:15.378Z"
   },
   {
    "duration": 90,
    "start_time": "2023-09-27T07:38:15.539Z"
   },
   {
    "duration": 144,
    "start_time": "2023-09-27T07:38:15.630Z"
   },
   {
    "duration": 247,
    "start_time": "2023-09-27T07:38:15.776Z"
   },
   {
    "duration": 151,
    "start_time": "2023-09-27T07:38:16.025Z"
   },
   {
    "duration": 208,
    "start_time": "2023-09-27T07:38:16.178Z"
   },
   {
    "duration": 21,
    "start_time": "2023-09-27T07:38:16.387Z"
   },
   {
    "duration": 5,
    "start_time": "2023-09-27T07:38:16.409Z"
   },
   {
    "duration": 20,
    "start_time": "2023-09-27T07:38:16.415Z"
   },
   {
    "duration": 146,
    "start_time": "2023-09-27T07:38:16.436Z"
   },
   {
    "duration": 303,
    "start_time": "2023-09-27T07:38:16.584Z"
   },
   {
    "duration": 378,
    "start_time": "2023-09-27T07:38:16.889Z"
   },
   {
    "duration": 40,
    "start_time": "2023-09-27T07:38:17.268Z"
   },
   {
    "duration": 16,
    "start_time": "2023-09-27T07:38:17.309Z"
   },
   {
    "duration": 32,
    "start_time": "2023-09-27T07:38:17.326Z"
   },
   {
    "duration": 14,
    "start_time": "2023-09-27T07:38:17.364Z"
   },
   {
    "duration": 15,
    "start_time": "2023-09-27T07:38:17.380Z"
   },
   {
    "duration": 24,
    "start_time": "2023-09-27T07:38:17.396Z"
   },
   {
    "duration": 20,
    "start_time": "2023-09-27T07:38:17.421Z"
   },
   {
    "duration": 21,
    "start_time": "2023-09-27T07:38:17.442Z"
   },
   {
    "duration": 1650,
    "start_time": "2023-09-27T07:38:17.465Z"
   },
   {
    "duration": 5,
    "start_time": "2023-09-27T07:38:19.117Z"
   },
   {
    "duration": 7,
    "start_time": "2023-09-27T07:39:21.778Z"
   },
   {
    "duration": 1151,
    "start_time": "2023-09-27T14:05:45.035Z"
   },
   {
    "duration": 70,
    "start_time": "2023-09-27T14:05:46.188Z"
   },
   {
    "duration": 57,
    "start_time": "2023-09-27T14:05:46.260Z"
   },
   {
    "duration": 8,
    "start_time": "2023-09-27T14:05:46.320Z"
   },
   {
    "duration": 20,
    "start_time": "2023-09-27T14:05:46.330Z"
   },
   {
    "duration": 16,
    "start_time": "2023-09-27T14:05:46.351Z"
   },
   {
    "duration": 25,
    "start_time": "2023-09-27T14:05:46.368Z"
   },
   {
    "duration": 14,
    "start_time": "2023-09-27T14:05:46.395Z"
   },
   {
    "duration": 19,
    "start_time": "2023-09-27T14:05:46.411Z"
   },
   {
    "duration": 17,
    "start_time": "2023-09-27T14:05:46.433Z"
   },
   {
    "duration": 39,
    "start_time": "2023-09-27T14:05:46.452Z"
   },
   {
    "duration": 78,
    "start_time": "2023-09-27T14:05:46.492Z"
   },
   {
    "duration": 154,
    "start_time": "2023-09-27T14:05:46.572Z"
   },
   {
    "duration": 94,
    "start_time": "2023-09-27T14:05:46.728Z"
   },
   {
    "duration": 152,
    "start_time": "2023-09-27T14:05:46.824Z"
   },
   {
    "duration": 213,
    "start_time": "2023-09-27T14:05:46.977Z"
   },
   {
    "duration": 138,
    "start_time": "2023-09-27T14:05:47.192Z"
   },
   {
    "duration": 267,
    "start_time": "2023-09-27T14:05:47.332Z"
   },
   {
    "duration": 30,
    "start_time": "2023-09-27T14:05:47.601Z"
   },
   {
    "duration": 28,
    "start_time": "2023-09-27T14:05:47.633Z"
   },
   {
    "duration": 22,
    "start_time": "2023-09-27T14:05:47.663Z"
   },
   {
    "duration": 135,
    "start_time": "2023-09-27T14:05:47.687Z"
   },
   {
    "duration": 341,
    "start_time": "2023-09-27T14:05:47.824Z"
   },
   {
    "duration": 383,
    "start_time": "2023-09-27T14:05:48.167Z"
   },
   {
    "duration": 41,
    "start_time": "2023-09-27T14:05:48.552Z"
   },
   {
    "duration": 32,
    "start_time": "2023-09-27T14:05:48.595Z"
   },
   {
    "duration": 36,
    "start_time": "2023-09-27T14:05:48.628Z"
   },
   {
    "duration": 111,
    "start_time": "2023-09-27T14:05:48.668Z"
   },
   {
    "duration": 81,
    "start_time": "2023-09-27T14:05:48.781Z"
   },
   {
    "duration": 47,
    "start_time": "2023-09-27T14:05:48.864Z"
   },
   {
    "duration": 17,
    "start_time": "2023-09-27T14:05:48.914Z"
   },
   {
    "duration": 22,
    "start_time": "2023-09-27T14:05:48.933Z"
   },
   {
    "duration": 1748,
    "start_time": "2023-09-27T14:05:48.957Z"
   },
   {
    "duration": 7,
    "start_time": "2023-09-27T14:05:50.707Z"
   },
   {
    "duration": 4,
    "start_time": "2023-09-27T14:07:04.500Z"
   },
   {
    "duration": 15,
    "start_time": "2023-09-27T14:07:10.171Z"
   },
   {
    "duration": 17,
    "start_time": "2023-09-27T14:08:12.124Z"
   },
   {
    "duration": 1476,
    "start_time": "2023-09-27T19:19:55.860Z"
   },
   {
    "duration": 256,
    "start_time": "2023-09-27T19:19:57.343Z"
   },
   {
    "duration": 80,
    "start_time": "2023-09-27T19:19:57.601Z"
   },
   {
    "duration": 34,
    "start_time": "2023-09-27T19:19:57.684Z"
   },
   {
    "duration": 11,
    "start_time": "2023-09-27T19:19:57.720Z"
   },
   {
    "duration": 32,
    "start_time": "2023-09-27T19:19:57.736Z"
   },
   {
    "duration": 32,
    "start_time": "2023-09-27T19:19:57.770Z"
   },
   {
    "duration": 15,
    "start_time": "2023-09-27T19:19:57.804Z"
   },
   {
    "duration": 28,
    "start_time": "2023-09-27T19:19:57.821Z"
   },
   {
    "duration": 36,
    "start_time": "2023-09-27T19:19:57.853Z"
   },
   {
    "duration": 17,
    "start_time": "2023-09-27T19:19:57.891Z"
   },
   {
    "duration": 59,
    "start_time": "2023-09-27T19:19:57.911Z"
   },
   {
    "duration": 193,
    "start_time": "2023-09-27T19:19:57.972Z"
   },
   {
    "duration": 116,
    "start_time": "2023-09-27T19:19:58.167Z"
   },
   {
    "duration": 234,
    "start_time": "2023-09-27T19:19:58.286Z"
   },
   {
    "duration": 265,
    "start_time": "2023-09-27T19:19:58.527Z"
   },
   {
    "duration": 179,
    "start_time": "2023-09-27T19:19:58.794Z"
   },
   {
    "duration": 266,
    "start_time": "2023-09-27T19:19:58.975Z"
   },
   {
    "duration": 33,
    "start_time": "2023-09-27T19:19:59.244Z"
   },
   {
    "duration": 5,
    "start_time": "2023-09-27T19:19:59.279Z"
   },
   {
    "duration": 30,
    "start_time": "2023-09-27T19:19:59.285Z"
   },
   {
    "duration": 175,
    "start_time": "2023-09-27T19:19:59.317Z"
   },
   {
    "duration": 400,
    "start_time": "2023-09-27T19:19:59.494Z"
   },
   {
    "duration": 487,
    "start_time": "2023-09-27T19:19:59.896Z"
   },
   {
    "duration": 69,
    "start_time": "2023-09-27T19:20:00.385Z"
   },
   {
    "duration": 19,
    "start_time": "2023-09-27T19:20:00.456Z"
   },
   {
    "duration": 26,
    "start_time": "2023-09-27T19:20:00.476Z"
   },
   {
    "duration": 34,
    "start_time": "2023-09-27T19:20:00.506Z"
   },
   {
    "duration": 25,
    "start_time": "2023-09-27T19:20:00.542Z"
   },
   {
    "duration": 32,
    "start_time": "2023-09-27T19:20:00.570Z"
   },
   {
    "duration": 27,
    "start_time": "2023-09-27T19:20:00.604Z"
   },
   {
    "duration": 2359,
    "start_time": "2023-09-27T19:20:00.635Z"
   },
   {
    "duration": 19,
    "start_time": "2023-09-27T19:20:02.997Z"
   },
   {
    "duration": 17,
    "start_time": "2023-09-27T19:24:00.773Z"
   },
   {
    "duration": 137,
    "start_time": "2023-09-27T19:29:33.504Z"
   },
   {
    "duration": 124,
    "start_time": "2023-09-27T19:31:35.784Z"
   },
   {
    "duration": 1593,
    "start_time": "2023-09-27T19:31:56.104Z"
   },
   {
    "duration": 28,
    "start_time": "2023-09-27T19:33:11.833Z"
   },
   {
    "duration": 10,
    "start_time": "2023-09-27T19:36:16.547Z"
   },
   {
    "duration": 18,
    "start_time": "2023-09-27T19:37:26.979Z"
   },
   {
    "duration": 20,
    "start_time": "2023-09-27T19:37:51.253Z"
   },
   {
    "duration": 17,
    "start_time": "2023-09-27T19:38:18.224Z"
   },
   {
    "duration": 20,
    "start_time": "2023-09-27T19:39:29.250Z"
   },
   {
    "duration": 26,
    "start_time": "2023-09-27T19:41:36.501Z"
   },
   {
    "duration": 1550,
    "start_time": "2023-09-28T07:01:22.175Z"
   },
   {
    "duration": 204,
    "start_time": "2023-09-28T07:01:23.728Z"
   },
   {
    "duration": 62,
    "start_time": "2023-09-28T07:01:23.933Z"
   },
   {
    "duration": 13,
    "start_time": "2023-09-28T07:01:23.998Z"
   },
   {
    "duration": 26,
    "start_time": "2023-09-28T07:01:24.012Z"
   },
   {
    "duration": 24,
    "start_time": "2023-09-28T07:01:24.040Z"
   },
   {
    "duration": 37,
    "start_time": "2023-09-28T07:01:24.066Z"
   },
   {
    "duration": 37,
    "start_time": "2023-09-28T07:01:24.105Z"
   },
   {
    "duration": 35,
    "start_time": "2023-09-28T07:01:24.144Z"
   },
   {
    "duration": 25,
    "start_time": "2023-09-28T07:01:24.182Z"
   },
   {
    "duration": 28,
    "start_time": "2023-09-28T07:01:24.209Z"
   },
   {
    "duration": 66,
    "start_time": "2023-09-28T07:01:24.239Z"
   },
   {
    "duration": 184,
    "start_time": "2023-09-28T07:01:24.307Z"
   },
   {
    "duration": 137,
    "start_time": "2023-09-28T07:01:24.493Z"
   },
   {
    "duration": 196,
    "start_time": "2023-09-28T07:01:24.632Z"
   },
   {
    "duration": 270,
    "start_time": "2023-09-28T07:01:24.830Z"
   },
   {
    "duration": 176,
    "start_time": "2023-09-28T07:01:25.102Z"
   },
   {
    "duration": 258,
    "start_time": "2023-09-28T07:01:25.280Z"
   },
   {
    "duration": 25,
    "start_time": "2023-09-28T07:01:25.540Z"
   },
   {
    "duration": 17,
    "start_time": "2023-09-28T07:01:25.567Z"
   },
   {
    "duration": 34,
    "start_time": "2023-09-28T07:01:25.587Z"
   },
   {
    "duration": 156,
    "start_time": "2023-09-28T07:01:25.623Z"
   },
   {
    "duration": 368,
    "start_time": "2023-09-28T07:01:25.781Z"
   },
   {
    "duration": 438,
    "start_time": "2023-09-28T07:01:26.152Z"
   },
   {
    "duration": 64,
    "start_time": "2023-09-28T07:01:26.592Z"
   },
   {
    "duration": 21,
    "start_time": "2023-09-28T07:01:26.659Z"
   },
   {
    "duration": 30,
    "start_time": "2023-09-28T07:01:26.682Z"
   },
   {
    "duration": 42,
    "start_time": "2023-09-28T07:01:26.717Z"
   },
   {
    "duration": 55,
    "start_time": "2023-09-28T07:01:26.764Z"
   },
   {
    "duration": 34,
    "start_time": "2023-09-28T07:01:26.821Z"
   },
   {
    "duration": 1910,
    "start_time": "2023-09-28T07:01:26.857Z"
   },
   {
    "duration": 6,
    "start_time": "2023-09-28T07:01:28.768Z"
   }
  ],
  "kernelspec": {
   "display_name": "Python 3 (ipykernel)",
   "language": "python",
   "name": "python3"
  },
  "language_info": {
   "codemirror_mode": {
    "name": "ipython",
    "version": 3
   },
   "file_extension": ".py",
   "mimetype": "text/x-python",
   "name": "python",
   "nbconvert_exporter": "python",
   "pygments_lexer": "ipython3",
   "version": "3.9.5"
  },
  "toc": {
   "base_numbering": 1,
   "nav_menu": {},
   "number_sections": true,
   "sideBar": true,
   "skip_h1_title": true,
   "title_cell": "Table of Contents",
   "title_sidebar": "Contents",
   "toc_cell": false,
   "toc_position": {},
   "toc_section_display": true,
   "toc_window_display": false
  }
 },
 "nbformat": 4,
 "nbformat_minor": 5
}
