{
 "cells": [
  {
   "cell_type": "markdown",
   "metadata": {
    "toc": true
   },
   "source": [
    "<h1>Содержание<span class=\"tocSkip\"></span></h1>\n",
    "<div class=\"toc\"><ul class=\"toc-item\"><li><span><a href=\"#Подготовка\" data-toc-modified-id=\"Подготовка-1\"><span class=\"toc-item-num\">1&nbsp;&nbsp;</span>Подготовка</a></span></li><li><span><a href=\"#Обучение\" data-toc-modified-id=\"Обучение-2\"><span class=\"toc-item-num\">2&nbsp;&nbsp;</span>Обучение</a></span></li><li><span><a href=\"#Выводы\" data-toc-modified-id=\"Выводы-3\"><span class=\"toc-item-num\">3&nbsp;&nbsp;</span>Выводы</a></span></li><li><span><a href=\"#Чек-лист-проверки\" data-toc-modified-id=\"Чек-лист-проверки-4\"><span class=\"toc-item-num\">4&nbsp;&nbsp;</span>Чек-лист проверки</a></span></li></ul></div>"
   ]
  },
  {
   "cell_type": "code",
   "execution_count": 1,
   "metadata": {},
   "outputs": [
    {
     "data": {
      "text/html": [
       "<style>.container { width:90% !important; }</style>"
      ],
      "text/plain": [
       "<IPython.core.display.HTML object>"
      ]
     },
     "metadata": {},
     "output_type": "display_data"
    }
   ],
   "source": [
    "from IPython.core.display import display, HTML\n",
    "display(HTML(\"<style>.container { width:90% !important; }</style>\"))"
   ]
  },
  {
   "cell_type": "code",
   "execution_count": 2,
   "metadata": {},
   "outputs": [
    {
     "data": {
      "application/javascript": [
       "IPython.OutputArea.prototype._should_scroll = function(lines) {\n",
       "    return false;\n",
       "}\n"
      ],
      "text/plain": [
       "<IPython.core.display.Javascript object>"
      ]
     },
     "metadata": {},
     "output_type": "display_data"
    }
   ],
   "source": [
    "%%javascript\n",
    "IPython.OutputArea.prototype._should_scroll = function(lines) {\n",
    "    return false;\n",
    "}"
   ]
  },
  {
   "cell_type": "code",
   "execution_count": 3,
   "metadata": {},
   "outputs": [],
   "source": [
    "def edit_names_columns(df):\n",
    "    \n",
    "    \"\"\"Переводит имена столбцов в нижний регистр, удаляет пробелы в начале и конце имени, \n",
    "    заменяет пробелы на знак нижнего подчеркивания\"\"\"\n",
    "    \n",
    "    df.columns = [x.lower().strip().replace(' ', '_') for x in df.columns]\n",
    "    print(df.columns)"
   ]
  },
  {
   "cell_type": "code",
   "execution_count": 4,
   "metadata": {},
   "outputs": [],
   "source": [
    "def primary_info(df):\n",
    "    \n",
    "    '''Расчитывает количество дубликатов и пропусков в данных, \n",
    "    выводит информацию о количественных и категориальных данных'''\n",
    "    \n",
    "    print(f'Количество пропусков:\\n{df.isna().sum()}\\n')\n",
    "    print(f'Количество дубликатов: {df.duplicated().sum()}\\n')\n",
    "    print(f'Количественные признаки: {data.select_dtypes(include=[np.number]).columns.tolist()}\\n')\n",
    "    print(f'Категориальные признаки: {data.select_dtypes(exclude=[np.number]).columns.tolist()}\\n')"
   ]
  },
  {
   "cell_type": "markdown",
   "metadata": {},
   "source": [
    "# Проект для «Викишоп»"
   ]
  },
  {
   "cell_type": "markdown",
   "metadata": {},
   "source": [
    "Интернет-магазин «Викишоп» запускает новый сервис. Теперь пользователи могут редактировать и дополнять описания товаров, как в вики-сообществах. То есть клиенты предлагают свои правки и комментируют изменения других. Магазину нужен инструмент, который будет искать токсичные комментарии и отправлять их на модерацию. \n",
    "\n",
    "Обучите модель классифицировать комментарии на позитивные и негативные. В вашем распоряжении набор данных с разметкой о токсичности правок.\n",
    "\n",
    "Постройте модель со значением метрики качества *F1* не меньше 0.75. \n",
    "\n",
    "**Инструкция по выполнению проекта**\n",
    "\n",
    "1. Загрузите и подготовьте данные.\n",
    "2. Обучите разные модели. \n",
    "3. Сделайте выводы.\n",
    "\n",
    "Для выполнения проекта применять *BERT* необязательно, но вы можете попробовать.\n",
    "\n",
    "**Описание данных**\n",
    "\n",
    "Данные находятся в файле `toxic_comments.csv`. Столбец *text* в нём содержит текст комментария, а *toxic* — целевой признак."
   ]
  },
  {
   "cell_type": "markdown",
   "metadata": {},
   "source": [
    "## Подготовка"
   ]
  },
  {
   "cell_type": "markdown",
   "metadata": {},
   "source": [
    "Загрузим и изучим данные и необходимые библиотеки"
   ]
  },
  {
   "cell_type": "code",
   "execution_count": 5,
   "metadata": {},
   "outputs": [],
   "source": [
    "import pandas as pd\n",
    "import numpy as np\n",
    "import re\n",
    "import nltk\n",
    "import matplotlib.pyplot as plt\n",
    "from tqdm.notebook import tqdm\n",
    "from sklearn.pipeline import Pipeline\n",
    "from catboost import CatBoostClassifier\n",
    "from sklearn.tree import DecisionTreeClassifier\n",
    "from nltk.tokenize import word_tokenize \n",
    "from nltk.stem import WordNetLemmatizer \n",
    "from sklearn.model_selection import train_test_split\n",
    "from sklearn.feature_extraction.text import TfidfVectorizer\n",
    "from sklearn.linear_model import LogisticRegression\n",
    "from sklearn.metrics import f1_score\n",
    "from nltk.corpus import stopwords \n",
    "from nltk.corpus import wordnet\n",
    "from sklearn.model_selection import GridSearchCV\n",
    "from nltk.stem import WordNetLemmatizer\n",
    "from nltk.corpus import wordnet\n",
    "import warnings\n",
    "warnings.filterwarnings(\"ignore\")"
   ]
  },
  {
   "cell_type": "code",
   "execution_count": 6,
   "metadata": {},
   "outputs": [
    {
     "data": {
      "text/html": [
       "<div>\n",
       "<style scoped>\n",
       "    .dataframe tbody tr th:only-of-type {\n",
       "        vertical-align: middle;\n",
       "    }\n",
       "\n",
       "    .dataframe tbody tr th {\n",
       "        vertical-align: top;\n",
       "    }\n",
       "\n",
       "    .dataframe thead th {\n",
       "        text-align: right;\n",
       "    }\n",
       "</style>\n",
       "<table border=\"1\" class=\"dataframe\">\n",
       "  <thead>\n",
       "    <tr style=\"text-align: right;\">\n",
       "      <th></th>\n",
       "      <th>text</th>\n",
       "      <th>toxic</th>\n",
       "    </tr>\n",
       "  </thead>\n",
       "  <tbody>\n",
       "    <tr>\n",
       "      <th>0</th>\n",
       "      <td>Explanation\\nWhy the edits made under my usern...</td>\n",
       "      <td>0</td>\n",
       "    </tr>\n",
       "    <tr>\n",
       "      <th>1</th>\n",
       "      <td>D'aww! He matches this background colour I'm s...</td>\n",
       "      <td>0</td>\n",
       "    </tr>\n",
       "    <tr>\n",
       "      <th>2</th>\n",
       "      <td>Hey man, I'm really not trying to edit war. It...</td>\n",
       "      <td>0</td>\n",
       "    </tr>\n",
       "    <tr>\n",
       "      <th>3</th>\n",
       "      <td>\"\\nMore\\nI can't make any real suggestions on ...</td>\n",
       "      <td>0</td>\n",
       "    </tr>\n",
       "    <tr>\n",
       "      <th>4</th>\n",
       "      <td>You, sir, are my hero. Any chance you remember...</td>\n",
       "      <td>0</td>\n",
       "    </tr>\n",
       "  </tbody>\n",
       "</table>\n",
       "</div>"
      ],
      "text/plain": [
       "                                                text  toxic\n",
       "0  Explanation\\nWhy the edits made under my usern...      0\n",
       "1  D'aww! He matches this background colour I'm s...      0\n",
       "2  Hey man, I'm really not trying to edit war. It...      0\n",
       "3  \"\\nMore\\nI can't make any real suggestions on ...      0\n",
       "4  You, sir, are my hero. Any chance you remember...      0"
      ]
     },
     "execution_count": 6,
     "metadata": {},
     "output_type": "execute_result"
    }
   ],
   "source": [
    "try:\n",
    "    data = pd.read_csv('/datasets/toxic_comments.csv', index_col = 0)\n",
    "except:\n",
    "    data = pd.read_csv(r'C:\\Users\\norri\\OneDrive\\Рабочий стол\\файлы для проектов\\toxic_comments.csv', index_col = 0)\n",
    "    \n",
    "data.head()"
   ]
  },
  {
   "cell_type": "code",
   "execution_count": 7,
   "metadata": {},
   "outputs": [
    {
     "name": "stdout",
     "output_type": "stream",
     "text": [
      "<class 'pandas.core.frame.DataFrame'>\n",
      "Int64Index: 159292 entries, 0 to 159450\n",
      "Data columns (total 2 columns):\n",
      " #   Column  Non-Null Count   Dtype \n",
      "---  ------  --------------   ----- \n",
      " 0   text    159292 non-null  object\n",
      " 1   toxic   159292 non-null  int64 \n",
      "dtypes: int64(1), object(1)\n",
      "memory usage: 3.6+ MB\n"
     ]
    }
   ],
   "source": [
    "data.info()"
   ]
  },
  {
   "cell_type": "code",
   "execution_count": 8,
   "metadata": {},
   "outputs": [
    {
     "data": {
      "text/plain": [
       "text     0\n",
       "toxic    0\n",
       "dtype: int64"
      ]
     },
     "execution_count": 8,
     "metadata": {},
     "output_type": "execute_result"
    }
   ],
   "source": [
    "data.isnull().sum()"
   ]
  },
  {
   "cell_type": "code",
   "execution_count": 9,
   "metadata": {},
   "outputs": [
    {
     "name": "stdout",
     "output_type": "stream",
     "text": [
      "Index(['text', 'toxic'], dtype='object')\n"
     ]
    }
   ],
   "source": [
    "# Отредактируем имена столбцов\n",
    "edit_names_columns(data)"
   ]
  },
  {
   "cell_type": "code",
   "execution_count": 10,
   "metadata": {
    "scrolled": true
   },
   "outputs": [
    {
     "name": "stdout",
     "output_type": "stream",
     "text": [
      "Количество пропусков:\n",
      "text     0\n",
      "toxic    0\n",
      "dtype: int64\n",
      "\n",
      "Количество дубликатов: 0\n",
      "\n",
      "Количественные признаки: ['toxic']\n",
      "\n",
      "Категориальные признаки: ['text']\n",
      "\n"
     ]
    }
   ],
   "source": [
    "# Проверим наличие пропусков и дубликатов\n",
    "primary_info(data)"
   ]
  },
  {
   "cell_type": "code",
   "execution_count": 11,
   "metadata": {},
   "outputs": [
    {
     "data": {
      "text/plain": [
       "array([0, 1])"
      ]
     },
     "execution_count": 11,
     "metadata": {},
     "output_type": "execute_result"
    }
   ],
   "source": [
    "# Проверим на уникальность значений \n",
    "data.toxic.unique()"
   ]
  },
  {
   "cell_type": "code",
   "execution_count": 12,
   "metadata": {},
   "outputs": [
    {
     "data": {
      "image/png": "[encoded data removed]",
      "text/plain": [
       "<Figure size 432x288 with 1 Axes>"
      ]
     },
     "metadata": {
      "needs_background": "light"
     },
     "output_type": "display_data"
    }
   ],
   "source": [
    "# Посмотрим на распределение частоты значений\n",
    "data['toxic'].hist()\n",
    "plt.title('Распределение значений столбца \"toxic\"')\n",
    "plt.xlabel('toxic')\n",
    "plt.ylabel('Частота значений')\n",
    "plt.show()"
   ]
  },
  {
   "cell_type": "code",
   "execution_count": 13,
   "metadata": {},
   "outputs": [
    {
     "name": "stderr",
     "output_type": "stream",
     "text": [
      "[nltk_data] Downloading package stopwords to /home/jovyan/nltk_data...\n",
      "[nltk_data]   Package stopwords is already up-to-date!\n",
      "[nltk_data] Downloading package wordnet to /home/jovyan/nltk_data...\n",
      "[nltk_data]   Package wordnet is already up-to-date!\n"
     ]
    }
   ],
   "source": [
    "# Инициализация WordNet Lemmatizer и загрузка списка стоп-слов\n",
    "lemmatizer = WordNetLemmatizer()\n",
    "nltk.download('stopwords')\n",
    "nltk.download('wordnet')\n",
    "stop_words = set(stopwords.words('english'))"
   ]
  },
  {
   "cell_type": "code",
   "execution_count": 14,
   "metadata": {},
   "outputs": [],
   "source": [
    "# Функция для лемматизации текста\n",
    "def lemm_text(text):\n",
    "    text = re.sub(r'[^a-zA-Z ]', ' ', text)  # Удаление неалфавитных символов\n",
    "    text = text.lower()  # Приведение текста к нижнему регистру\n",
    "    token = nltk.word_tokenize(text)  # Токенизация текста\n",
    "    tagged_words = nltk.pos_tag(token)  # Получение POS-тегов для каждого слова\n",
    "    lemmatized_words = []\n",
    "    for word, tag in tagged_words:\n",
    "        pos_tag = get_wordnet_pos(tag)  # Получение соответствующего POS-тега для WordNet Lemmatizer\n",
    "        lemmatized_word = lemmatizer.lemmatize(word, pos=pos_tag)  # Лемматизация слова с учетом POS-тега\n",
    "        lemmatized_words.append(lemmatized_word)\n",
    "    lemmatized_text = ' '.join(lemmatized_words)  # Объединение лемматизированных слов в строку\n",
    "    return lemmatized_text"
   ]
  },
  {
   "cell_type": "code",
   "execution_count": 15,
   "metadata": {},
   "outputs": [],
   "source": [
    "# Утилитарная функция для определения POS-тега для WordNet Lemmatizer\n",
    "def get_wordnet_pos(tag):\n",
    "    if tag.startswith('J'):\n",
    "        return wordnet.ADJ\n",
    "    elif tag.startswith('V'):\n",
    "        return wordnet.VERB\n",
    "    elif tag.startswith('N'):\n",
    "        return wordnet.NOUN\n",
    "    elif tag.startswith('R'):\n",
    "        return wordnet.ADV\n",
    "    else:\n",
    "        return wordnet.NOUN"
   ]
  },
  {
   "cell_type": "code",
   "execution_count": 16,
   "metadata": {},
   "outputs": [
    {
     "name": "stderr",
     "output_type": "stream",
     "text": [
      "[nltk_data] Downloading package averaged_perceptron_tagger to\n",
      "[nltk_data]     /home/jovyan/nltk_data...\n",
      "[nltk_data]   Unzipping taggers/averaged_perceptron_tagger.zip.\n"
     ]
    },
    {
     "data": {
      "text/plain": [
       "True"
      ]
     },
     "execution_count": 16,
     "metadata": {},
     "output_type": "execute_result"
    }
   ],
   "source": [
    "nltk.download('averaged_perceptron_tagger')"
   ]
  },
  {
   "cell_type": "code",
   "execution_count": 17,
   "metadata": {},
   "outputs": [
    {
     "data": {
      "application/vnd.jupyter.widget-view+json": {
       "model_id": "cb7da6f35b354dc78e5f084f2a3d4c3c",
       "version_major": 2,
       "version_minor": 0
      },
      "text/plain": [
       "  0%|          | 0/159292 [00:00<?, ?it/s]"
      ]
     },
     "metadata": {},
     "output_type": "display_data"
    },
    {
     "data": {
      "text/html": [
       "<div>\n",
       "<style scoped>\n",
       "    .dataframe tbody tr th:only-of-type {\n",
       "        vertical-align: middle;\n",
       "    }\n",
       "\n",
       "    .dataframe tbody tr th {\n",
       "        vertical-align: top;\n",
       "    }\n",
       "\n",
       "    .dataframe thead th {\n",
       "        text-align: right;\n",
       "    }\n",
       "</style>\n",
       "<table border=\"1\" class=\"dataframe\">\n",
       "  <thead>\n",
       "    <tr style=\"text-align: right;\">\n",
       "      <th></th>\n",
       "      <th>text</th>\n",
       "      <th>toxic</th>\n",
       "      <th>lemm_text</th>\n",
       "    </tr>\n",
       "  </thead>\n",
       "  <tbody>\n",
       "    <tr>\n",
       "      <th>0</th>\n",
       "      <td>Explanation\\nWhy the edits made under my usern...</td>\n",
       "      <td>0</td>\n",
       "      <td>explanation why the edits make under my userna...</td>\n",
       "    </tr>\n",
       "    <tr>\n",
       "      <th>1</th>\n",
       "      <td>D'aww! He matches this background colour I'm s...</td>\n",
       "      <td>0</td>\n",
       "      <td>d aww he match this background colour i m seem...</td>\n",
       "    </tr>\n",
       "    <tr>\n",
       "      <th>2</th>\n",
       "      <td>Hey man, I'm really not trying to edit war. It...</td>\n",
       "      <td>0</td>\n",
       "      <td>hey man i m really not try to edit war it s ju...</td>\n",
       "    </tr>\n",
       "    <tr>\n",
       "      <th>3</th>\n",
       "      <td>\"\\nMore\\nI can't make any real suggestions on ...</td>\n",
       "      <td>0</td>\n",
       "      <td>more i can t make any real suggestion on impro...</td>\n",
       "    </tr>\n",
       "    <tr>\n",
       "      <th>4</th>\n",
       "      <td>You, sir, are my hero. Any chance you remember...</td>\n",
       "      <td>0</td>\n",
       "      <td>you sir be my hero any chance you remember wha...</td>\n",
       "    </tr>\n",
       "  </tbody>\n",
       "</table>\n",
       "</div>"
      ],
      "text/plain": [
       "                                                text  toxic  \\\n",
       "0  Explanation\\nWhy the edits made under my usern...      0   \n",
       "1  D'aww! He matches this background colour I'm s...      0   \n",
       "2  Hey man, I'm really not trying to edit war. It...      0   \n",
       "3  \"\\nMore\\nI can't make any real suggestions on ...      0   \n",
       "4  You, sir, are my hero. Any chance you remember...      0   \n",
       "\n",
       "                                           lemm_text  \n",
       "0  explanation why the edits make under my userna...  \n",
       "1  d aww he match this background colour i m seem...  \n",
       "2  hey man i m really not try to edit war it s ju...  \n",
       "3  more i can t make any real suggestion on impro...  \n",
       "4  you sir be my hero any chance you remember wha...  "
      ]
     },
     "execution_count": 17,
     "metadata": {},
     "output_type": "execute_result"
    }
   ],
   "source": [
    "tqdm.pandas()\n",
    "\n",
    "data['lemm_text'] = data['text'].progress_apply(lemm_text)\n",
    "data.head()"
   ]
  },
  {
   "cell_type": "code",
   "execution_count": 18,
   "metadata": {},
   "outputs": [
    {
     "data": {
      "text/html": [
       "<div>\n",
       "<style scoped>\n",
       "    .dataframe tbody tr th:only-of-type {\n",
       "        vertical-align: middle;\n",
       "    }\n",
       "\n",
       "    .dataframe tbody tr th {\n",
       "        vertical-align: top;\n",
       "    }\n",
       "\n",
       "    .dataframe thead th {\n",
       "        text-align: right;\n",
       "    }\n",
       "</style>\n",
       "<table border=\"1\" class=\"dataframe\">\n",
       "  <thead>\n",
       "    <tr style=\"text-align: right;\">\n",
       "      <th></th>\n",
       "      <th>text</th>\n",
       "      <th>toxic</th>\n",
       "      <th>lemm_text</th>\n",
       "    </tr>\n",
       "  </thead>\n",
       "  <tbody>\n",
       "    <tr>\n",
       "      <th>0</th>\n",
       "      <td>Explanation\\nWhy the edits made under my usern...</td>\n",
       "      <td>0</td>\n",
       "      <td>explanation why the edits make under my userna...</td>\n",
       "    </tr>\n",
       "    <tr>\n",
       "      <th>1</th>\n",
       "      <td>D'aww! He matches this background colour I'm s...</td>\n",
       "      <td>0</td>\n",
       "      <td>d aww he match this background colour i m seem...</td>\n",
       "    </tr>\n",
       "    <tr>\n",
       "      <th>2</th>\n",
       "      <td>Hey man, I'm really not trying to edit war. It...</td>\n",
       "      <td>0</td>\n",
       "      <td>hey man i m really not try to edit war it s ju...</td>\n",
       "    </tr>\n",
       "    <tr>\n",
       "      <th>3</th>\n",
       "      <td>\"\\nMore\\nI can't make any real suggestions on ...</td>\n",
       "      <td>0</td>\n",
       "      <td>more i can t make any real suggestion on impro...</td>\n",
       "    </tr>\n",
       "    <tr>\n",
       "      <th>4</th>\n",
       "      <td>You, sir, are my hero. Any chance you remember...</td>\n",
       "      <td>0</td>\n",
       "      <td>you sir be my hero any chance you remember wha...</td>\n",
       "    </tr>\n",
       "  </tbody>\n",
       "</table>\n",
       "</div>"
      ],
      "text/plain": [
       "                                                text  toxic  \\\n",
       "0  Explanation\\nWhy the edits made under my usern...      0   \n",
       "1  D'aww! He matches this background colour I'm s...      0   \n",
       "2  Hey man, I'm really not trying to edit war. It...      0   \n",
       "3  \"\\nMore\\nI can't make any real suggestions on ...      0   \n",
       "4  You, sir, are my hero. Any chance you remember...      0   \n",
       "\n",
       "                                           lemm_text  \n",
       "0  explanation why the edits make under my userna...  \n",
       "1  d aww he match this background colour i m seem...  \n",
       "2  hey man i m really not try to edit war it s ju...  \n",
       "3  more i can t make any real suggestion on impro...  \n",
       "4  you sir be my hero any chance you remember wha...  "
      ]
     },
     "execution_count": 18,
     "metadata": {},
     "output_type": "execute_result"
    }
   ],
   "source": [
    "data.head()"
   ]
  },
  {
   "cell_type": "code",
   "execution_count": 19,
   "metadata": {},
   "outputs": [],
   "source": [
    "data_2 = data.copy()\n",
    "y = data_2['toxic']\n",
    "data_2 = data_2.drop(['toxic'], axis = 1)"
   ]
  },
  {
   "cell_type": "markdown",
   "metadata": {},
   "source": [
    "Разделим данные на выборки"
   ]
  },
  {
   "cell_type": "code",
   "execution_count": 20,
   "metadata": {},
   "outputs": [],
   "source": [
    "# Делим на выборки\n",
    "x_train, x_test, y_train, y_test = train_test_split(data_2, y, test_size = 0.3, stratify = y)"
   ]
  },
  {
   "cell_type": "code",
   "execution_count": 21,
   "metadata": {},
   "outputs": [
    {
     "name": "stdout",
     "output_type": "stream",
     "text": [
      "Train data shape: (111504, 2) (111504,)\n",
      "Test data shape: (47788, 2) (47788,)\n"
     ]
    }
   ],
   "source": [
    "print('Train data shape:', x_train.shape, y_train.shape)\n",
    "print('Test data shape:', x_test.shape, y_test.shape)"
   ]
  },
  {
   "cell_type": "markdown",
   "metadata": {},
   "source": [
    "Данные обработали:\n",
    "Проверили наличие пропусков и дубликатов, отредактировали имена столбцов.\n",
    "Есть большой дисбаланс классов.\n",
    "Очистили от лишних символов, лемматизировали и векторизировали."
   ]
  },
  {
   "cell_type": "markdown",
   "metadata": {},
   "source": [
    "## Обучение"
   ]
  },
  {
   "cell_type": "markdown",
   "metadata": {},
   "source": [
    "Проверим классификацию тональности текста"
   ]
  },
  {
   "cell_type": "code",
   "execution_count": 22,
   "metadata": {},
   "outputs": [],
   "source": [
    "# функция для обучения модели\n",
    "def training(model, params):\n",
    "    pipeline = Pipeline([\n",
    "        ('tfidf', TfidfVectorizer(min_df = 1)),\n",
    "        ('model', model)])\n",
    "    grid = GridSearchCV(pipeline, cv = 5, n_jobs = -1, param_grid = params ,scoring = 'f1', verbose = False)\n",
    "    grid.fit(x_train['lemm_text'], y_train)\n",
    "    print('Лучший результат:', grid.best_score_)\n",
    "    print('Лучшие параметры:', grid.best_params_)\n",
    "    return grid"
   ]
  },
  {
   "cell_type": "code",
   "execution_count": 23,
   "metadata": {},
   "outputs": [
    {
     "name": "stdout",
     "output_type": "stream",
     "text": [
      "Лучший результат: 0.7779550812327385\n",
      "Лучшие параметры: {'model__C': 10.0, 'model__penalty': 'l2'}\n"
     ]
    }
   ],
   "source": [
    "# Обучение Логической модели\n",
    "LR_model = training(LogisticRegression(), {\"model__C\":[0.1, 1.0, 10.0], \"model__penalty\":[\"l2\"]})"
   ]
  },
  {
   "cell_type": "code",
   "execution_count": 24,
   "metadata": {},
   "outputs": [
    {
     "name": "stdout",
     "output_type": "stream",
     "text": [
      "Лучший результат: 0.5338341321970923\n",
      "Лучшие параметры: {'model__criterion': 'gini', 'model__max_depth': 6}\n"
     ]
    }
   ],
   "source": [
    "# Обучение дерева\n",
    "DTC_model = training(DecisionTreeClassifier(), {'model__criterion':['gini','entropy'],'model__max_depth':[2,4,6]})"
   ]
  },
  {
   "cell_type": "code",
   "execution_count": 25,
   "metadata": {},
   "outputs": [
    {
     "name": "stdout",
     "output_type": "stream",
     "text": [
      "Лучший результат: 0.5055086669814767\n",
      "Лучшие параметры: {'model__depth': 6, 'model__iterations': 50, 'model__learning_rate': 0.03}\n"
     ]
    }
   ],
   "source": [
    "# Обучение CatBoost\n",
    "CBC_model = training(CatBoostClassifier(logging_level='Silent'), {'model__depth': [4,6],\n",
    "                 'model__learning_rate' : [0.01,0.03],\n",
    "                  'model__iterations' : [10, 50]})"
   ]
  },
  {
   "cell_type": "markdown",
   "metadata": {},
   "source": [
    "Так как нам важна точность предсказаний, лучший результат показала модель LogisticRegressiоn.\n",
    "Проверим на тестовой выборке."
   ]
  },
  {
   "cell_type": "code",
   "execution_count": 26,
   "metadata": {},
   "outputs": [],
   "source": [
    "# предсказание тестовой выборки\n",
    "res = f1_score(y_test, LR_model.predict(x_test['lemm_text']))"
   ]
  },
  {
   "cell_type": "code",
   "execution_count": 27,
   "metadata": {},
   "outputs": [
    {
     "name": "stdout",
     "output_type": "stream",
     "text": [
      "Результат LogisticRegression 0.780980820029861\n"
     ]
    }
   ],
   "source": [
    "print(\"Результат LogisticRegression\", res)"
   ]
  },
  {
   "cell_type": "markdown",
   "metadata": {},
   "source": [
    "## Выводы"
   ]
  },
  {
   "cell_type": "markdown",
   "metadata": {},
   "source": [
    "Согласно результату тестирования нужная метрика достигнута на модели LogisticRegression с L2-регуляризацией"
   ]
  },
  {
   "cell_type": "markdown",
   "metadata": {},
   "source": [
    "Рекомендация: проверить еще раз выбор модель CatBoost с большим количеством итераций и большим количеством шагов на более мощном оборудование. Возможно результат поменяется."
   ]
  },
  {
   "cell_type": "markdown",
   "metadata": {},
   "source": [
    "## Чек-лист проверки"
   ]
  },
  {
   "cell_type": "markdown",
   "metadata": {},
   "source": [
    "- [x]  Jupyter Notebook открыт\n",
    "- [x]  Весь код выполняется без ошибок\n",
    "- [x]  Ячейки с кодом расположены в порядке исполнения\n",
    "- [x]  Данные загружены и подготовлены\n",
    "- [x]  Модели обучены\n",
    "- [x]  Значение метрики *F1* не меньше 0.75\n",
    "- [x]  Выводы написаны"
   ]
  }
 ],
 "metadata": {
  "ExecuteTimeLog": [
   {
    "duration": 58,
    "start_time": "2024-05-11T10:16:33.276Z"
   },
   {
    "duration": 40,
    "start_time": "2024-05-11T10:16:33.336Z"
   },
   {
    "duration": 4,
    "start_time": "2024-05-11T10:16:33.377Z"
   },
   {
    "duration": 8,
    "start_time": "2024-05-11T10:16:33.384Z"
   },
   {
    "duration": 7077,
    "start_time": "2024-05-11T10:16:33.394Z"
   },
   {
    "duration": 3769,
    "start_time": "2024-05-11T10:16:40.473Z"
   },
   {
    "duration": 3360,
    "start_time": "2024-05-11T10:16:44.244Z"
   },
   {
    "duration": 87,
    "start_time": "2024-05-11T10:16:47.606Z"
   },
   {
    "duration": 3,
    "start_time": "2024-05-11T10:16:47.695Z"
   },
   {
    "duration": 291,
    "start_time": "2024-05-11T10:16:47.701Z"
   },
   {
    "duration": 11,
    "start_time": "2024-05-11T10:16:47.993Z"
   },
   {
    "duration": 49,
    "start_time": "2024-05-11T10:44:23.283Z"
   },
   {
    "duration": 39,
    "start_time": "2024-05-11T10:44:23.334Z"
   },
   {
    "duration": 5,
    "start_time": "2024-05-11T10:44:23.375Z"
   },
   {
    "duration": 70,
    "start_time": "2024-05-11T10:44:23.381Z"
   },
   {
    "duration": 2838,
    "start_time": "2024-05-11T10:44:23.454Z"
   },
   {
    "duration": 4335,
    "start_time": "2024-05-11T10:44:26.296Z"
   },
   {
    "duration": 1148,
    "start_time": "2024-05-11T10:44:30.633Z"
   },
   {
    "duration": 37,
    "start_time": "2024-05-11T10:44:31.784Z"
   },
   {
    "duration": 30,
    "start_time": "2024-05-11T10:44:31.823Z"
   },
   {
    "duration": 327,
    "start_time": "2024-05-11T10:44:31.854Z"
   },
   {
    "duration": 12,
    "start_time": "2024-05-11T10:44:32.183Z"
   },
   {
    "duration": 51,
    "start_time": "2024-05-11T10:45:07.778Z"
   },
   {
    "duration": 35,
    "start_time": "2024-05-11T10:45:07.832Z"
   },
   {
    "duration": 4,
    "start_time": "2024-05-11T10:45:07.869Z"
   },
   {
    "duration": 29,
    "start_time": "2024-05-11T10:45:07.875Z"
   },
   {
    "duration": 2898,
    "start_time": "2024-05-11T10:45:07.907Z"
   },
   {
    "duration": 5197,
    "start_time": "2024-05-11T10:45:10.807Z"
   },
   {
    "duration": 3446,
    "start_time": "2024-05-11T10:45:16.006Z"
   },
   {
    "duration": 34,
    "start_time": "2024-05-11T10:45:19.454Z"
   },
   {
    "duration": 5,
    "start_time": "2024-05-11T10:45:19.490Z"
   },
   {
    "duration": 305,
    "start_time": "2024-05-11T10:45:19.497Z"
   },
   {
    "duration": 16,
    "start_time": "2024-05-11T10:45:19.805Z"
   },
   {
    "duration": 47,
    "start_time": "2024-05-12T08:31:36.643Z"
   },
   {
    "duration": 34,
    "start_time": "2024-05-12T08:31:36.692Z"
   },
   {
    "duration": 4,
    "start_time": "2024-05-12T08:31:36.728Z"
   },
   {
    "duration": 14,
    "start_time": "2024-05-12T08:31:36.733Z"
   },
   {
    "duration": 2001,
    "start_time": "2024-05-12T08:31:36.750Z"
   },
   {
    "duration": 3374,
    "start_time": "2024-05-12T08:31:38.753Z"
   },
   {
    "duration": 33,
    "start_time": "2024-05-12T08:31:42.129Z"
   },
   {
    "duration": 43,
    "start_time": "2024-05-12T08:31:42.164Z"
   },
   {
    "duration": 7,
    "start_time": "2024-05-12T08:31:42.208Z"
   },
   {
    "duration": 268,
    "start_time": "2024-05-12T08:31:42.216Z"
   },
   {
    "duration": 12,
    "start_time": "2024-05-12T08:31:42.486Z"
   },
   {
    "duration": 161,
    "start_time": "2024-05-12T08:31:42.500Z"
   },
   {
    "duration": 146,
    "start_time": "2024-05-12T08:31:42.663Z"
   },
   {
    "duration": 3,
    "start_time": "2024-05-12T08:31:42.812Z"
   },
   {
    "duration": 11,
    "start_time": "2024-05-12T08:31:42.817Z"
   },
   {
    "duration": 141,
    "start_time": "2024-05-12T08:31:42.829Z"
   },
   {
    "duration": 0,
    "start_time": "2024-05-12T08:31:42.972Z"
   },
   {
    "duration": 0,
    "start_time": "2024-05-12T08:31:42.973Z"
   },
   {
    "duration": 0,
    "start_time": "2024-05-12T08:31:42.974Z"
   },
   {
    "duration": 0,
    "start_time": "2024-05-12T08:31:42.975Z"
   },
   {
    "duration": 0,
    "start_time": "2024-05-12T08:31:42.977Z"
   },
   {
    "duration": 0,
    "start_time": "2024-05-12T08:31:42.978Z"
   },
   {
    "duration": 0,
    "start_time": "2024-05-12T08:31:42.979Z"
   },
   {
    "duration": 0,
    "start_time": "2024-05-12T08:31:42.980Z"
   },
   {
    "duration": 0,
    "start_time": "2024-05-12T08:31:42.981Z"
   },
   {
    "duration": 0,
    "start_time": "2024-05-12T08:31:42.982Z"
   },
   {
    "duration": 11463,
    "start_time": "2024-05-12T08:32:12.483Z"
   },
   {
    "duration": 48,
    "start_time": "2024-05-12T08:32:47.714Z"
   },
   {
    "duration": 42,
    "start_time": "2024-05-12T08:32:47.764Z"
   },
   {
    "duration": 3,
    "start_time": "2024-05-12T08:32:47.808Z"
   },
   {
    "duration": 27,
    "start_time": "2024-05-12T08:32:47.813Z"
   },
   {
    "duration": 1683,
    "start_time": "2024-05-12T08:32:47.843Z"
   },
   {
    "duration": 954,
    "start_time": "2024-05-12T08:32:49.528Z"
   },
   {
    "duration": 33,
    "start_time": "2024-05-12T08:32:50.484Z"
   },
   {
    "duration": 47,
    "start_time": "2024-05-12T08:32:50.519Z"
   },
   {
    "duration": 11,
    "start_time": "2024-05-12T08:32:50.567Z"
   },
   {
    "duration": 277,
    "start_time": "2024-05-12T08:32:50.580Z"
   },
   {
    "duration": 11,
    "start_time": "2024-05-12T08:32:50.858Z"
   },
   {
    "duration": 244,
    "start_time": "2024-05-12T08:32:50.871Z"
   },
   {
    "duration": 159,
    "start_time": "2024-05-12T08:32:51.116Z"
   },
   {
    "duration": 3,
    "start_time": "2024-05-12T08:32:51.278Z"
   },
   {
    "duration": 45,
    "start_time": "2024-05-12T08:32:51.283Z"
   },
   {
    "duration": 76493,
    "start_time": "2024-05-12T08:32:51.331Z"
   },
   {
    "duration": 8,
    "start_time": "2024-05-12T08:34:07.826Z"
   },
   {
    "duration": 63,
    "start_time": "2024-05-12T08:34:07.835Z"
   },
   {
    "duration": 88,
    "start_time": "2024-05-12T08:34:07.900Z"
   },
   {
    "duration": 4,
    "start_time": "2024-05-12T08:34:07.990Z"
   },
   {
    "duration": 5,
    "start_time": "2024-05-12T08:34:07.995Z"
   },
   {
    "duration": 1189,
    "start_time": "2024-05-12T08:34:08.001Z"
   },
   {
    "duration": 0,
    "start_time": "2024-05-12T08:34:09.192Z"
   },
   {
    "duration": 0,
    "start_time": "2024-05-12T08:34:09.193Z"
   },
   {
    "duration": 0,
    "start_time": "2024-05-12T08:34:09.194Z"
   },
   {
    "duration": 0,
    "start_time": "2024-05-12T08:34:09.195Z"
   },
   {
    "duration": 48,
    "start_time": "2024-05-12T09:00:51.826Z"
   },
   {
    "duration": 48,
    "start_time": "2024-05-12T09:00:51.876Z"
   },
   {
    "duration": 4,
    "start_time": "2024-05-12T09:00:51.925Z"
   },
   {
    "duration": 13,
    "start_time": "2024-05-12T09:00:51.930Z"
   },
   {
    "duration": 1731,
    "start_time": "2024-05-12T09:00:51.945Z"
   },
   {
    "duration": 964,
    "start_time": "2024-05-12T09:00:53.677Z"
   },
   {
    "duration": 32,
    "start_time": "2024-05-12T09:00:54.643Z"
   },
   {
    "duration": 40,
    "start_time": "2024-05-12T09:00:54.676Z"
   },
   {
    "duration": 9,
    "start_time": "2024-05-12T09:00:54.718Z"
   },
   {
    "duration": 272,
    "start_time": "2024-05-12T09:00:54.729Z"
   },
   {
    "duration": 5,
    "start_time": "2024-05-12T09:00:55.002Z"
   },
   {
    "duration": 237,
    "start_time": "2024-05-12T09:00:55.008Z"
   },
   {
    "duration": 233,
    "start_time": "2024-05-12T09:00:55.247Z"
   },
   {
    "duration": 3,
    "start_time": "2024-05-12T09:00:55.482Z"
   },
   {
    "duration": 10,
    "start_time": "2024-05-12T09:00:55.487Z"
   },
   {
    "duration": 77075,
    "start_time": "2024-05-12T09:00:55.499Z"
   },
   {
    "duration": 9,
    "start_time": "2024-05-12T09:02:12.575Z"
   },
   {
    "duration": 51,
    "start_time": "2024-05-12T09:02:12.585Z"
   },
   {
    "duration": 83,
    "start_time": "2024-05-12T09:02:12.638Z"
   },
   {
    "duration": 4,
    "start_time": "2024-05-12T09:02:12.723Z"
   },
   {
    "duration": 6,
    "start_time": "2024-05-12T09:02:12.729Z"
   },
   {
    "duration": 219464,
    "start_time": "2024-05-12T09:02:12.736Z"
   },
   {
    "duration": 0,
    "start_time": "2024-05-12T09:05:52.202Z"
   },
   {
    "duration": 0,
    "start_time": "2024-05-12T09:05:52.203Z"
   },
   {
    "duration": 0,
    "start_time": "2024-05-12T09:05:52.204Z"
   },
   {
    "duration": 0,
    "start_time": "2024-05-12T09:05:52.205Z"
   },
   {
    "duration": 48,
    "start_time": "2024-05-12T09:06:21.992Z"
   },
   {
    "duration": 37,
    "start_time": "2024-05-12T09:06:22.042Z"
   },
   {
    "duration": 4,
    "start_time": "2024-05-12T09:06:22.080Z"
   },
   {
    "duration": 16,
    "start_time": "2024-05-12T09:06:22.087Z"
   },
   {
    "duration": 1623,
    "start_time": "2024-05-12T09:06:22.105Z"
   },
   {
    "duration": 947,
    "start_time": "2024-05-12T09:06:23.730Z"
   },
   {
    "duration": 32,
    "start_time": "2024-05-12T09:06:24.678Z"
   },
   {
    "duration": 38,
    "start_time": "2024-05-12T09:06:24.711Z"
   },
   {
    "duration": 9,
    "start_time": "2024-05-12T09:06:24.751Z"
   },
   {
    "duration": 281,
    "start_time": "2024-05-12T09:06:24.762Z"
   },
   {
    "duration": 18,
    "start_time": "2024-05-12T09:06:25.044Z"
   },
   {
    "duration": 262,
    "start_time": "2024-05-12T09:06:25.064Z"
   },
   {
    "duration": 143,
    "start_time": "2024-05-12T09:06:25.328Z"
   },
   {
    "duration": 3,
    "start_time": "2024-05-12T09:06:25.473Z"
   },
   {
    "duration": 12,
    "start_time": "2024-05-12T09:06:25.478Z"
   },
   {
    "duration": 77639,
    "start_time": "2024-05-12T09:06:25.492Z"
   },
   {
    "duration": 7,
    "start_time": "2024-05-12T09:07:43.133Z"
   },
   {
    "duration": 62,
    "start_time": "2024-05-12T09:07:43.142Z"
   },
   {
    "duration": 73,
    "start_time": "2024-05-12T09:07:43.205Z"
   },
   {
    "duration": 4,
    "start_time": "2024-05-12T09:07:43.279Z"
   },
   {
    "duration": 8,
    "start_time": "2024-05-12T09:07:43.284Z"
   },
   {
    "duration": 587666,
    "start_time": "2024-05-12T09:07:43.294Z"
   },
   {
    "duration": 163717,
    "start_time": "2024-05-12T09:17:30.965Z"
   },
   {
    "duration": 1144750,
    "start_time": "2024-05-12T09:20:14.685Z"
   },
   {
    "duration": 0,
    "start_time": "2024-05-12T09:39:19.437Z"
   },
   {
    "duration": 0,
    "start_time": "2024-05-12T09:39:19.438Z"
   },
   {
    "duration": 49,
    "start_time": "2024-05-12T09:45:25.589Z"
   },
   {
    "duration": 34,
    "start_time": "2024-05-12T09:45:25.640Z"
   },
   {
    "duration": 3,
    "start_time": "2024-05-12T09:45:25.676Z"
   },
   {
    "duration": 35,
    "start_time": "2024-05-12T09:45:25.681Z"
   },
   {
    "duration": 1636,
    "start_time": "2024-05-12T09:45:25.718Z"
   },
   {
    "duration": 978,
    "start_time": "2024-05-12T09:45:27.356Z"
   },
   {
    "duration": 32,
    "start_time": "2024-05-12T09:45:28.335Z"
   },
   {
    "duration": 31,
    "start_time": "2024-05-12T09:45:28.369Z"
   },
   {
    "duration": 13,
    "start_time": "2024-05-12T09:45:28.401Z"
   },
   {
    "duration": 284,
    "start_time": "2024-05-12T09:45:28.416Z"
   },
   {
    "duration": 4,
    "start_time": "2024-05-12T09:45:28.701Z"
   },
   {
    "duration": 236,
    "start_time": "2024-05-12T09:45:28.707Z"
   },
   {
    "duration": 231,
    "start_time": "2024-05-12T09:45:28.945Z"
   },
   {
    "duration": 3,
    "start_time": "2024-05-12T09:45:29.179Z"
   },
   {
    "duration": 14,
    "start_time": "2024-05-12T09:45:29.183Z"
   },
   {
    "duration": 78116,
    "start_time": "2024-05-12T09:45:29.198Z"
   },
   {
    "duration": 8,
    "start_time": "2024-05-12T09:46:47.316Z"
   },
   {
    "duration": 62,
    "start_time": "2024-05-12T09:46:47.325Z"
   },
   {
    "duration": 78,
    "start_time": "2024-05-12T09:46:47.389Z"
   },
   {
    "duration": 4,
    "start_time": "2024-05-12T09:46:47.469Z"
   },
   {
    "duration": 15,
    "start_time": "2024-05-12T09:46:47.475Z"
   },
   {
    "duration": 584469,
    "start_time": "2024-05-12T09:46:47.492Z"
   },
   {
    "duration": 162205,
    "start_time": "2024-05-12T09:56:31.965Z"
   },
   {
    "duration": 2913536,
    "start_time": "2024-05-12T09:59:14.172Z"
   },
   {
    "duration": 1453,
    "start_time": "2024-05-12T10:47:47.710Z"
   },
   {
    "duration": 3,
    "start_time": "2024-05-12T10:47:49.165Z"
   },
   {
    "duration": 50,
    "start_time": "2024-05-12T14:59:15.063Z"
   },
   {
    "duration": 1909,
    "start_time": "2024-05-12T14:59:24.744Z"
   },
   {
    "duration": 3233,
    "start_time": "2024-05-12T14:59:28.926Z"
   },
   {
    "duration": 31,
    "start_time": "2024-05-12T14:59:33.459Z"
   },
   {
    "duration": 28,
    "start_time": "2024-05-12T14:59:34.335Z"
   },
   {
    "duration": 89,
    "start_time": "2024-05-12T14:59:35.750Z"
   },
   {
    "duration": 9,
    "start_time": "2024-05-12T14:59:40.532Z"
   },
   {
    "duration": 7,
    "start_time": "2024-05-12T14:59:41.342Z"
   },
   {
    "duration": 192,
    "start_time": "2024-05-12T14:59:46.933Z"
   },
   {
    "duration": 76,
    "start_time": "2024-05-12T15:00:20.692Z"
   },
   {
    "duration": 160,
    "start_time": "2024-05-12T15:00:53.717Z"
   },
   {
    "duration": 45,
    "start_time": "2024-05-12T15:47:54.028Z"
   },
   {
    "duration": 34,
    "start_time": "2024-05-12T15:47:54.075Z"
   },
   {
    "duration": 22,
    "start_time": "2024-05-12T15:47:54.111Z"
   },
   {
    "duration": 35,
    "start_time": "2024-05-12T15:47:54.135Z"
   },
   {
    "duration": 1642,
    "start_time": "2024-05-12T15:47:54.172Z"
   },
   {
    "duration": 918,
    "start_time": "2024-05-12T15:47:55.816Z"
   },
   {
    "duration": 32,
    "start_time": "2024-05-12T15:47:56.735Z"
   },
   {
    "duration": 36,
    "start_time": "2024-05-12T15:47:56.769Z"
   },
   {
    "duration": 15,
    "start_time": "2024-05-12T15:47:56.807Z"
   },
   {
    "duration": 258,
    "start_time": "2024-05-12T15:47:56.824Z"
   },
   {
    "duration": 9,
    "start_time": "2024-05-12T15:47:57.084Z"
   },
   {
    "duration": 248,
    "start_time": "2024-05-12T15:47:57.094Z"
   },
   {
    "duration": 295,
    "start_time": "2024-05-12T15:47:57.343Z"
   },
   {
    "duration": 4,
    "start_time": "2024-05-12T15:47:57.640Z"
   },
   {
    "duration": 24,
    "start_time": "2024-05-12T15:47:57.645Z"
   },
   {
    "duration": 436,
    "start_time": "2024-05-12T15:47:57.670Z"
   },
   {
    "duration": 0,
    "start_time": "2024-05-12T15:47:58.107Z"
   },
   {
    "duration": 0,
    "start_time": "2024-05-12T15:47:58.108Z"
   },
   {
    "duration": 0,
    "start_time": "2024-05-12T15:47:58.109Z"
   },
   {
    "duration": 0,
    "start_time": "2024-05-12T15:47:58.110Z"
   },
   {
    "duration": 0,
    "start_time": "2024-05-12T15:47:58.111Z"
   },
   {
    "duration": 0,
    "start_time": "2024-05-12T15:47:58.112Z"
   },
   {
    "duration": 0,
    "start_time": "2024-05-12T15:47:58.113Z"
   },
   {
    "duration": 0,
    "start_time": "2024-05-12T15:47:58.114Z"
   },
   {
    "duration": 0,
    "start_time": "2024-05-12T15:47:58.115Z"
   },
   {
    "duration": 0,
    "start_time": "2024-05-12T15:47:58.116Z"
   },
   {
    "duration": 50,
    "start_time": "2024-05-12T15:49:32.249Z"
   },
   {
    "duration": 37,
    "start_time": "2024-05-12T15:49:32.300Z"
   },
   {
    "duration": 4,
    "start_time": "2024-05-12T15:49:32.339Z"
   },
   {
    "duration": 6,
    "start_time": "2024-05-12T15:49:32.344Z"
   },
   {
    "duration": 1604,
    "start_time": "2024-05-12T15:49:32.352Z"
   },
   {
    "duration": 869,
    "start_time": "2024-05-12T15:49:33.957Z"
   },
   {
    "duration": 29,
    "start_time": "2024-05-12T15:49:34.828Z"
   },
   {
    "duration": 36,
    "start_time": "2024-05-12T15:49:34.858Z"
   },
   {
    "duration": 3,
    "start_time": "2024-05-12T15:49:34.895Z"
   },
   {
    "duration": 262,
    "start_time": "2024-05-12T15:49:34.900Z"
   },
   {
    "duration": 4,
    "start_time": "2024-05-12T15:49:35.164Z"
   },
   {
    "duration": 257,
    "start_time": "2024-05-12T15:49:35.170Z"
   },
   {
    "duration": 250,
    "start_time": "2024-05-12T15:49:35.429Z"
   },
   {
    "duration": 4,
    "start_time": "2024-05-12T15:49:35.682Z"
   },
   {
    "duration": 21,
    "start_time": "2024-05-12T15:49:35.687Z"
   },
   {
    "duration": 406,
    "start_time": "2024-05-12T15:49:35.710Z"
   },
   {
    "duration": 0,
    "start_time": "2024-05-12T15:49:36.118Z"
   },
   {
    "duration": 0,
    "start_time": "2024-05-12T15:49:36.119Z"
   },
   {
    "duration": 0,
    "start_time": "2024-05-12T15:49:36.120Z"
   },
   {
    "duration": 0,
    "start_time": "2024-05-12T15:49:36.121Z"
   },
   {
    "duration": 0,
    "start_time": "2024-05-12T15:49:36.122Z"
   },
   {
    "duration": 0,
    "start_time": "2024-05-12T15:49:36.123Z"
   },
   {
    "duration": 0,
    "start_time": "2024-05-12T15:49:36.124Z"
   },
   {
    "duration": 0,
    "start_time": "2024-05-12T15:49:36.125Z"
   },
   {
    "duration": 0,
    "start_time": "2024-05-12T15:49:36.126Z"
   },
   {
    "duration": 0,
    "start_time": "2024-05-12T15:49:36.127Z"
   },
   {
    "duration": 55,
    "start_time": "2024-05-12T15:51:13.847Z"
   },
   {
    "duration": 42,
    "start_time": "2024-05-12T15:51:13.904Z"
   },
   {
    "duration": 4,
    "start_time": "2024-05-12T15:51:13.948Z"
   },
   {
    "duration": 20,
    "start_time": "2024-05-12T15:51:13.954Z"
   },
   {
    "duration": 1610,
    "start_time": "2024-05-12T15:51:13.976Z"
   },
   {
    "duration": 883,
    "start_time": "2024-05-12T15:51:15.587Z"
   },
   {
    "duration": 32,
    "start_time": "2024-05-12T15:51:16.472Z"
   },
   {
    "duration": 45,
    "start_time": "2024-05-12T15:51:16.505Z"
   },
   {
    "duration": 27,
    "start_time": "2024-05-12T15:51:16.552Z"
   },
   {
    "duration": 273,
    "start_time": "2024-05-12T15:51:16.581Z"
   },
   {
    "duration": 4,
    "start_time": "2024-05-12T15:51:16.856Z"
   },
   {
    "duration": 261,
    "start_time": "2024-05-12T15:51:16.861Z"
   },
   {
    "duration": 162,
    "start_time": "2024-05-12T15:51:17.123Z"
   },
   {
    "duration": 4,
    "start_time": "2024-05-12T15:51:17.287Z"
   },
   {
    "duration": 35,
    "start_time": "2024-05-12T15:51:17.292Z"
   },
   {
    "duration": 300,
    "start_time": "2024-05-12T15:51:17.328Z"
   },
   {
    "duration": 566112,
    "start_time": "2024-05-12T15:51:17.630Z"
   },
   {
    "duration": 9,
    "start_time": "2024-05-12T16:00:43.743Z"
   },
   {
    "duration": 77,
    "start_time": "2024-05-12T16:00:43.754Z"
   },
   {
    "duration": 86,
    "start_time": "2024-05-12T16:00:43.833Z"
   },
   {
    "duration": 4,
    "start_time": "2024-05-12T16:00:43.921Z"
   },
   {
    "duration": 14,
    "start_time": "2024-05-12T16:00:43.927Z"
   },
   {
    "duration": 681251,
    "start_time": "2024-05-12T16:00:43.943Z"
   },
   {
    "duration": 243089,
    "start_time": "2024-05-12T16:12:05.196Z"
   },
   {
    "duration": 2846478,
    "start_time": "2024-05-12T16:16:08.287Z"
   },
   {
    "duration": 2307,
    "start_time": "2024-05-12T17:03:34.767Z"
   },
   {
    "duration": 4,
    "start_time": "2024-05-12T17:03:37.075Z"
   }
  ],
  "kernelspec": {
   "display_name": "Python 3 (ipykernel)",
   "language": "python",
   "name": "python3"
  },
  "language_info": {
   "codemirror_mode": {
    "name": "ipython",
    "version": 3
   },
   "file_extension": ".py",
   "mimetype": "text/x-python",
   "name": "python",
   "nbconvert_exporter": "python",
   "pygments_lexer": "ipython3",
   "version": "3.9.5"
  },
  "toc": {
   "base_numbering": 1,
   "nav_menu": {},
   "number_sections": true,
   "sideBar": true,
   "skip_h1_title": true,
   "title_cell": "Содержание",
   "title_sidebar": "Contents",
   "toc_cell": true,
   "toc_position": {
    "height": "calc(100% - 180px)",
    "left": "10px",
    "top": "150px",
    "width": "302.391px"
   },
   "toc_section_display": true,
   "toc_window_display": false
  }
 },
 "nbformat": 4,
 "nbformat_minor": 2
}
